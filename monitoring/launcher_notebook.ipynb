{
 "cells": [
  {
   "cell_type": "markdown",
   "id": "bd6fcdd3-85fb-4031-a100-e90310f998b7",
   "metadata": {},
   "source": [
    "# Импорт библиотек"
   ]
  },
  {
   "cell_type": "code",
   "execution_count": 7,
   "id": "7b6bd468-b0b4-46c2-aaea-8ba273161dd2",
   "metadata": {},
   "outputs": [],
   "source": [
    "import threading\n",
    "import warnings\n",
    "import sys\n",
    "sys.path.append(\"C:\\\\Users\\\\nikita\\\\Documents\\\\MagisterML\\\\MyJupiter\\\\trading_project\\\\\")\n",
    "from modules.Save_and_Load import load_model_with_threshold\n",
    "warnings.filterwarnings(\"ignore\")\n",
    "import pandas as pd\n",
    "import time\n",
    "\n",
    "from candle_buffer import start_monitoring, set_model_and_params, stop_monitoring"
   ]
  },
  {
   "cell_type": "markdown",
   "id": "8005326a-be49-4b5c-8253-08924cc0923a",
   "metadata": {},
   "source": [
    "# Загрузка модели"
   ]
  },
  {
   "cell_type": "code",
   "execution_count": 10,
   "id": "688bce3c-3acb-44ea-b02f-6b07e31c6a51",
   "metadata": {},
   "outputs": [
    {
     "name": "stdout",
     "output_type": "stream",
     "text": [
      "✅ Модель 'LightGBM_model_top_features' загружена из C:\\Users\\nikita\\Documents\\MagisterML\\MyJupiter\\trading_project\\modules\\..\\model_exports\\LightGBM_model_top_features_with_threshold.pkl\n"
     ]
    }
   ],
   "source": [
    "# === Шаг 1: Загрузка модели ===\n",
    "LightGBM_model_package = load_model_with_threshold('LightGBM_model_top_features')\n",
    "LightGBM_model = LightGBM_model_package['model']\n",
    "LightGBM_model_params = LightGBM_model_package['params']\n",
    "LightGBM_model_threshold = LightGBM_model_package['threshold']\n",
    "LightGBM_model_features = LightGBM_model_package['features']"
   ]
  },
  {
   "cell_type": "code",
   "execution_count": 12,
   "id": "a1f463a6-4622-48ba-877e-a41247cba081",
   "metadata": {},
   "outputs": [],
   "source": [
    "# === Шаг 2: Передаём модель и параметры в candle_buffer ===\n",
    "set_model_and_params(\n",
    "    model=LightGBM_model,\n",
    "    threshold=0.1,\n",
    "    feature_columns=LightGBM_model_features\n",
    ")"
   ]
  },
  {
   "cell_type": "markdown",
   "id": "65280707-681a-4288-8867-3967c0ed1aa2",
   "metadata": {},
   "source": [
    "# Мониторинг"
   ]
  },
  {
   "cell_type": "markdown",
   "id": "b03045f7-dbdb-44cb-93ab-493be7da17b6",
   "metadata": {},
   "source": [
    "## Запуск"
   ]
  },
  {
   "cell_type": "code",
   "execution_count": 16,
   "id": "f29c5e30-667d-4b6a-b4bc-d3538d8ae61c",
   "metadata": {
    "scrolled": true
   },
   "outputs": [
    {
     "name": "stdout",
     "output_type": "stream",
     "text": [
      "🚀 Инициализация всех монет...\n",
      "✅ Инициализировано LINKUSDT, 300 свечей\n",
      "✅ Инициализировано BCHUSDT, 300 свечей\n",
      "Запуск мониторинга...\n",
      "✅ Мониторинг запущен\n",
      "⏱ Коррекция времени: 1.457 сек\n",
      "🚀 Запуск мониторинга (TF=1 мин, интервал=60 сек)\n",
      "⏳ Ждём 30 секунд до закрытия свечи...\n",
      "\n",
      "🔄 Цикл 2025-08-30 17:44:01\n",
      "✅ Получена закрытая свеча LINKUSDT: 2025-08-30 14:43:00 - Close: 23.107\n",
      "⏭ Данные не обновились для LINKUSDT\n",
      "✅ Получена закрытая свеча BCHUSDT: 2025-08-30 14:43:00 - Close: 535.0\n",
      "⏭ Данные не обновились для BCHUSDT\n",
      "✅ Время синхронизировано с Bybit (расхождение: 0.04 сек)\n",
      "\n",
      "📊 Цикл завершён:\n",
      "- Обновлено: 0/2\n",
      "- Сигналы: 0\n",
      "- Ордера: 0\n",
      "- Время: 0.69 сек\n",
      "\n",
      "🔄 Цикл 2025-08-30 17:45:01\n",
      "✅ Получена закрытая свеча LINKUSDT: 2025-08-30 14:44:00 - Close: 23.106\n",
      "✅ Получена закрытая свеча BCHUSDT: 2025-08-30 14:44:00 - Close: 534.9\n",
      "               Date   Open   High    Low  Close  Volume\n",
      "2025-08-30 14:44:00 23.107 23.115 23.097 23.106  1396.8\n",
      "\n",
      "🚨 СИГНАЛ: BCHUSDT | Время свечи: 2025-08-30 14:44:00 | Цена: 534.900000 | Вероятность: 0.1072 | Порог: 0.10 → Предсказание: 1\n",
      "✅ Время синхронизировано с Bybit (расхождение: 0.00 сек)\n",
      "\n",
      "📊 Цикл завершён:\n",
      "- Обновлено: 2/2\n",
      "- Сигналы: 1\n",
      "- Ордера: 0\n",
      "- Время: 2.02 сек\n",
      "\n",
      "🔄 Цикл 2025-08-30 17:46:01\n",
      "✅ Получена закрытая свеча LINKUSDT: 2025-08-30 14:45:00 - Close: 23.133\n",
      "✅ Получена закрытая свеча BCHUSDT: 2025-08-30 14:45:00 - Close: 539.1\n",
      "               Date   Open   High    Low  Close  Volume\n",
      "2025-08-30 14:45:00 23.106 23.136 23.106 23.133  3878.8\n",
      "✅ Время синхронизировано с Bybit (расхождение: 0.03 сек)\n",
      "\n",
      "📊 Цикл завершён:\n",
      "- Обновлено: 2/2\n",
      "- Сигналы: 0\n",
      "- Ордера: 0\n",
      "- Время: 1.54 сек\n",
      "\n",
      "🔄 Цикл 2025-08-30 17:47:01\n",
      "✅ Получена закрытая свеча LINKUSDT: 2025-08-30 14:46:00 - Close: 23.157\n",
      "               Date   Open   High    Low  Close  Volume\n",
      "2025-08-30 14:46:00 23.133 23.157 23.133 23.157  1226.9\n",
      "✅ Получена закрытая свеча BCHUSDT: 2025-08-30 14:46:00 - Close: 540.0\n",
      "✅ Время синхронизировано с Bybit (расхождение: 0.03 сек)\n",
      "\n",
      "📊 Цикл завершён:\n",
      "- Обновлено: 2/2\n",
      "- Сигналы: 0\n",
      "- Ордера: 0\n",
      "- Время: 1.58 сек\n",
      "\n",
      "🔄 Цикл 2025-08-30 17:48:01\n",
      "✅ Получена закрытая свеча LINKUSDT: 2025-08-30 14:47:00 - Close: 23.175\n",
      "✅ Получена закрытая свеча BCHUSDT: 2025-08-30 14:47:00 - Close: 540.0\n",
      "               Date   Open  High    Low  Close  Volume\n",
      "2025-08-30 14:47:00 23.157 23.18 23.153 23.175  5349.7\n",
      "\n",
      "🚨 СИГНАЛ: BCHUSDT | Время свечи: 2025-08-30 14:47:00 | Цена: 540.000000 | Вероятность: 0.1538 | Порог: 0.10 → Предсказание: 1\n",
      "✅ Время синхронизировано с Bybit (расхождение: 0.01 сек)\n",
      "\n",
      "📊 Цикл завершён:\n",
      "- Обновлено: 2/2\n",
      "- Сигналы: 1\n",
      "- Ордера: 0\n",
      "- Время: 1.75 сек\n",
      "\n",
      "🔄 Цикл 2025-08-30 17:49:01\n",
      "✅ Получена закрытая свеча BCHUSDT: 2025-08-30 14:48:00 - Close: 541.9✅ Получена закрытая свеча LINKUSDT: 2025-08-30 14:48:00 - Close: 23.202\n",
      "\n",
      "               Date   Open   High    Low  Close  Volume\n",
      "2025-08-30 14:48:00 23.175 23.202 23.168 23.202  3862.9\n",
      "\n",
      "🚨 СИГНАЛ: BCHUSDT | Время свечи: 2025-08-30 14:48:00 | Цена: 541.900000 | Вероятность: 0.1560 | Порог: 0.10 → Предсказание: 1\n",
      "✅ Время синхронизировано с Bybit (расхождение: 0.04 сек)\n",
      "\n",
      "📊 Цикл завершён:\n",
      "- Обновлено: 2/2\n",
      "- Сигналы: 1\n",
      "- Ордера: 0\n",
      "- Время: 1.71 сек\n",
      "\n",
      "🔄 Цикл 2025-08-30 17:50:01\n",
      "✅ Получена закрытая свеча BCHUSDT: 2025-08-30 14:49:00 - Close: 541.8\n",
      "✅ Получена закрытая свеча LINKUSDT: 2025-08-30 14:49:00 - Close: 23.187\n",
      "               Date   Open   High    Low  Close  Volume\n",
      "2025-08-30 14:49:00 23.202 23.204 23.184 23.187 11286.3\n",
      "\n",
      "🚨 СИГНАЛ: LINKUSDT | Время свечи: 2025-08-30 14:49:00 | Цена: 23.187000 | Вероятность: 0.2949 | Порог: 0.10 → Предсказание: 1\n",
      "\n",
      "🚨 СИГНАЛ: BCHUSDT | Время свечи: 2025-08-30 14:49:00 | Цена: 541.800000 | Вероятность: 0.2108 | Порог: 0.10 → Предсказание: 1\n",
      "✅ Время синхронизировано с Bybit (расхождение: 0.01 сек)\n",
      "\n",
      "📊 Цикл завершён:\n",
      "- Обновлено: 2/2\n",
      "- Сигналы: 2\n",
      "- Ордера: 0\n",
      "- Время: 1.52 сек\n",
      "\n",
      "🔄 Цикл 2025-08-30 17:51:01\n",
      "✅ Получена закрытая свеча BCHUSDT: 2025-08-30 14:50:00 - Close: 540.8\n",
      "✅ Получена закрытая свеча LINKUSDT: 2025-08-30 14:50:00 - Close: 23.192\n",
      "               Date   Open   High    Low  Close  Volume\n",
      "2025-08-30 14:50:00 23.187 23.193 23.157 23.192 18746.0\n",
      "\n",
      "🚨 СИГНАЛ: BCHUSDT | Время свечи: 2025-08-30 14:50:00 | Цена: 540.800000 | Вероятность: 0.5343 | Порог: 0.10 → Предсказание: 1\n",
      "✅ Время синхронизировано с Bybit (расхождение: 0.02 сек)\n",
      "\n",
      "📊 Цикл завершён:\n",
      "- Обновлено: 2/2\n",
      "- Сигналы: 1\n",
      "- Ордера: 0\n",
      "- Время: 1.41 сек\n"
     ]
    }
   ],
   "source": [
    "start_monitoring(\n",
    "    model=LightGBM_model,\n",
    "    threshold=0.1,\n",
    "    feature_columns=LightGBM_model_features\n",
    ")\n",
    "print(\"✅ Мониторинг запущен\")"
   ]
  },
  {
   "cell_type": "markdown",
   "id": "53e64bf5-510f-44b6-9122-300aaca74c29",
   "metadata": {},
   "source": [
    "## Остановка"
   ]
  },
  {
   "cell_type": "code",
   "execution_count": 19,
   "id": "303ccb79-7102-4afd-aae8-6a9d927ebae7",
   "metadata": {},
   "outputs": [
    {
     "name": "stdout",
     "output_type": "stream",
     "text": [
      "🛑 Остановка мониторинга...\n"
     ]
    }
   ],
   "source": [
    "stop_monitoring()"
   ]
  },
  {
   "cell_type": "code",
   "execution_count": null,
   "id": "4da33e38-cc18-44f9-b0c0-21999c6ac5ca",
   "metadata": {},
   "outputs": [],
   "source": []
  }
 ],
 "metadata": {
  "kernelspec": {
   "display_name": "Python [conda env:trading_env]",
   "language": "python",
   "name": "conda-env-trading_env-py"
  },
  "language_info": {
   "codemirror_mode": {
    "name": "ipython",
    "version": 3
   },
   "file_extension": ".py",
   "mimetype": "text/x-python",
   "name": "python",
   "nbconvert_exporter": "python",
   "pygments_lexer": "ipython3",
   "version": "3.10.18"
  }
 },
 "nbformat": 4,
 "nbformat_minor": 5
}
