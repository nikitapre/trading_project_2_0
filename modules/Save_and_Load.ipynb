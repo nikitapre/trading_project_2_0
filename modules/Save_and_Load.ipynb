{
 "cells": [
  {
   "cell_type": "code",
   "execution_count": 17,
   "id": "6442c34f-4960-4e5a-b95d-d4e3525085c9",
   "metadata": {},
   "outputs": [],
   "source": [
    "import joblib\n",
    "import os\n",
    "from typing import Any, Dict, List"
   ]
  },
  {
   "cell_type": "markdown",
   "id": "7eb63f9a-da74-4e61-8f28-421e0fe48397",
   "metadata": {},
   "source": [
    "# Load model"
   ]
  },
  {
   "cell_type": "markdown",
   "id": "02dbc4fa-9871-4f7e-95fb-b8fd7d2268c2",
   "metadata": {},
   "source": [
    "Назначение: **load_model_with_threshold** Загружает ранее сохраненную модель вместе с параметрами, порогом и признаками из папки model_exports.\n",
    "\n",
    "Входные данные:\n",
    "- model_name — название модели (без расширения и суффикса)\n",
    "\n",
    "Особенности:\n",
    "- Автопоиск файлов в нескольких расположениях:\n",
    " - Папка ../model_exports (относительно модуля)\n",
    " - Папка model_exports (текущая директория)\n",
    "- Проверка целостности данных (наличие всех необходимых ключей)\n",
    "- Информативное сообщение об ошибке с списком доступных моделей\n",
    "\n",
    "Выходные данные:\\\n",
    "Словарь с ключами: model, params, threshold, features"
   ]
  },
  {
   "cell_type": "code",
   "execution_count": 29,
   "id": "18a1f880-ea4f-455c-a3c5-5c56438ae7d7",
   "metadata": {},
   "outputs": [],
   "source": [
    "def load_model_with_threshold(model_name: str) -> Dict[str, Any]:\n",
    "    \"\"\"\n",
    "    Улучшенная версия функции. Автоматически ищет model_exports:\n",
    "    - Сначала проверяет папку рядом с модулем (../model_exports)\n",
    "    - Если нет — пытается найти в текущей директории (старый вариант)\n",
    "    \"\"\"\n",
    "    # Путь к model_exports относительно расположения модуля\n",
    "    module_dir = os.path.dirname(os.path.abspath(__file__))\n",
    "    model_exports_relative = os.path.join(module_dir, \"..\", \"model_exports\")\n",
    "    \n",
    "    # Варианты путей для поиска\n",
    "    possible_paths = [\n",
    "        model_exports_relative,  # ../model_exports (новый вариант)\n",
    "        \"model_exports\"          # Текущая директория (старый вариант)\n",
    "    ]\n",
    "    \n",
    "    # Ищем существующую папку model_exports\n",
    "    for base_path in possible_paths:\n",
    "        filename = f\"{model_name}_with_threshold.pkl\"\n",
    "        filepath = os.path.join(base_path, filename)\n",
    "        \n",
    "        if os.path.exists(filepath):\n",
    "            loaded = joblib.load(filepath)\n",
    "            \n",
    "            # Проверка структуры данных\n",
    "            required_keys = {'model', 'params', 'threshold'}\n",
    "            if not all(key in loaded for key in required_keys):\n",
    "                missing = required_keys - set(loaded.keys())\n",
    "                raise ValueError(\n",
    "                    f\"В файле {filepath} отсутствуют ключи: {missing}\"\n",
    "                )\n",
    "            \n",
    "            print(f\"✅ Модель '{model_name}' загружена из {filepath}\")\n",
    "            return loaded\n",
    "    \n",
    "    # Если ни один путь не сработал\n",
    "    available_models = []\n",
    "    for base_path in possible_paths:\n",
    "        if os.path.exists(base_path):\n",
    "            available_models.extend([\n",
    "                f.replace(\"_with_threshold.pkl\", \"\")\n",
    "                for f in os.listdir(base_path)\n",
    "                if f.endswith('.pkl')\n",
    "            ])\n",
    "    \n",
    "    raise FileNotFoundError(\n",
    "        f\"Файл модели '{model_name}' не найден. Доступные модели:\\n\"\n",
    "        f\"{chr(10).join(sorted(set(available_models)))}\"\n",
    "    )"
   ]
  },
  {
   "cell_type": "markdown",
   "id": "36acc47a-3927-4347-902d-b4727e0b70f7",
   "metadata": {},
   "source": [
    "# Save model"
   ]
  },
  {
   "cell_type": "markdown",
   "id": "4059327a-3b37-45e3-9d15-62024d68cae7",
   "metadata": {},
   "source": [
    "Назначение: **save_model_with_threshold** Сохраняет обученную модель вместе с параметрами, порогом классификации и списком признаков в сжатом формате.\n",
    "\n",
    "Входные данные:\n",
    "- model_name — название модели (без расширения)\n",
    "- model — обученная модель\n",
    "- params — гиперпараметры модели\n",
    "- threshold — оптимальный порог классификации\n",
    "- features — список используемых признаков\n",
    "- compress — уровень сжатия (0-9)\n",
    "\n",
    "Особенности:\n",
    "- Автоматически создает папку model_exports\n",
    "- Сохраняет все необходимые компоненты для развертывания\n",
    "- Поддержка сжатия для экономии места\n",
    "\n",
    "Выход: Файл .pkl в папке model_exports с полным набором данных для восстановления работы модели."
   ]
  },
  {
   "cell_type": "code",
   "execution_count": 31,
   "id": "7063a812-e27c-4587-b843-ba3c0cacfd0d",
   "metadata": {},
   "outputs": [],
   "source": [
    "def save_model_with_threshold(\n",
    "    model_name: str,\n",
    "    model: Any,\n",
    "    params: Dict[str, Any],\n",
    "    threshold: float,\n",
    "    features: List[str],  # Теперь List определен\n",
    "    compress: int = 3\n",
    ") -> None:\n",
    "    \"\"\"\n",
    "    Сохраняет модель, параметры, порог и названия признаков в папку model_exports с возможностью сжатия.\n",
    "    \n",
    "    Параметры:\n",
    "    ----------\n",
    "    model_name : str\n",
    "        Название модели (без расширения), например 'logreg_model'.\n",
    "    model : Any\n",
    "        Обученная модель.\n",
    "    params : dict\n",
    "        Параметры модели.\n",
    "    threshold : float\n",
    "        Порог классификации.\n",
    "    features : List[str]\n",
    "        Список названий признаков.\n",
    "    compress : int, optional (default=3)\n",
    "        Уровень сжатия (0-9), где 0 - без сжатия, 9 - максимальное сжатие.\n",
    "    \"\"\"\n",
    "    # Создаем папку, если ее нет\n",
    "    os.makedirs('model_exports', exist_ok=True)\n",
    "    \n",
    "    # Формируем имя файла\n",
    "    filename = f\"{model_name}_with_threshold.pkl\"\n",
    "    filepath = os.path.join('model_exports', filename)\n",
    "    \n",
    "    # Подготавливаем данные для сохранения\n",
    "    to_save = {\n",
    "        'model': model,\n",
    "        'params': params,\n",
    "        'threshold': threshold,\n",
    "        'features': features\n",
    "    }\n",
    "    \n",
    "    # Сохраняем с указанным уровнем сжатия\n",
    "    joblib.dump(to_save, filepath, compress=compress)\n",
    "    print(f\"✅ Модель сохранена в {filepath} (сжатие: уровень {compress})\")"
   ]
  },
  {
   "cell_type": "code",
   "execution_count": null,
   "id": "374c0c25-bf00-4233-a9c8-b2acc3c53403",
   "metadata": {},
   "outputs": [],
   "source": []
  },
  {
   "cell_type": "code",
   "execution_count": null,
   "id": "92084206-ecfa-4a64-83f0-e9a392ccc090",
   "metadata": {},
   "outputs": [],
   "source": []
  },
  {
   "cell_type": "code",
   "execution_count": null,
   "id": "f19aa641-25d1-49a5-b383-d0e46cf7a78f",
   "metadata": {},
   "outputs": [],
   "source": []
  },
  {
   "cell_type": "code",
   "execution_count": null,
   "id": "c37b26b4-ea99-4e2c-81e7-dc8cd8f2856d",
   "metadata": {},
   "outputs": [],
   "source": []
  }
 ],
 "metadata": {
  "jupytext": {
   "formats": "ipynb,py:percent"
  },
  "kernelspec": {
   "display_name": "Python [conda env:trading_env]",
   "language": "python",
   "name": "conda-env-trading_env-py"
  },
  "language_info": {
   "codemirror_mode": {
    "name": "ipython",
    "version": 3
   },
   "file_extension": ".py",
   "mimetype": "text/x-python",
   "name": "python",
   "nbconvert_exporter": "python",
   "pygments_lexer": "ipython3",
   "version": "3.10.18"
  }
 },
 "nbformat": 4,
 "nbformat_minor": 5
}
