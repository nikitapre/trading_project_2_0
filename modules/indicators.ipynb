{
 "cells": [
  {
   "cell_type": "markdown",
   "id": "04b4a98e-d9c5-426c-b361-1313ba860edc",
   "metadata": {},
   "source": [
    "# Импорт библиотек"
   ]
  },
  {
   "cell_type": "code",
   "execution_count": 6,
   "id": "ab76a699-80b9-4536-b96e-7f4af10f9c3f",
   "metadata": {},
   "outputs": [],
   "source": [
    "import numpy as np\n",
    "import pandas as pd\n",
    "import pandas_ta as ta"
   ]
  },
  {
   "cell_type": "code",
   "execution_count": 101,
   "id": "6164cf43-3c60-4661-b8b6-5f40cb5ccca0",
   "metadata": {},
   "outputs": [],
   "source": [
    "eps = 1e-8"
   ]
  },
  {
   "cell_type": "markdown",
   "id": "c7ad4c8a-d03f-4f69-a2bb-68a32a96c052",
   "metadata": {},
   "source": [
    "# EMA"
   ]
  },
  {
   "cell_type": "markdown",
   "id": "91d60641-efd5-48ab-9cc5-831a0823ab21",
   "metadata": {},
   "source": [
    "## delta_ema"
   ]
  },
  {
   "cell_type": "markdown",
   "id": "4ddf0dfb-27da-4bce-8873-104def03a94a",
   "metadata": {},
   "source": [
    "📌 Описание функции **delta_ema** *(df, ema_lenght=[20], block_size=5, shifts=None)*\\\n",
    "**Вход:**\n",
    "- **df** — DataFrame с историческими свечами и обязательной колонкой Close.\n",
    "- **ema_lengths** — список длин EMA, например [20, 50].\n",
    "- **window_size** — общее кол-во свечей для анализа\n",
    "- **num_blocks** — на сколько частей делим окно\n",
    "\n",
    "**Что делает:**\\\n",
    "Для каждой EMA из списка **ema_lenghts**:\n",
    "\n",
    "Считает относительное изменение EMA внутри каждого блока:\n",
    "$$\\frac{ema_{start} - ema_{end}}{ema_{start}}$$\n",
    "Определяет, в скольких блоках EMA росла (значения в диапазоне 0–4 при стандартных настройках).\\\n",
    "**Выход:**\\\n",
    "Возвращает тот же df, но с добавленными колонками:\\\n",
    "block1_emaXX_rel_change, ..., block4_emaXX_rel_change — относительные изменения EMA для каждого блока.\\\n",
    "emaXX_grow_blocks — количество растущих блоков для данной EMA."
   ]
  },
  {
   "cell_type": "code",
   "execution_count": 193,
   "id": "80ea6a23-e954-431d-a8ea-0f8e7c1ab048",
   "metadata": {},
   "outputs": [],
   "source": [
    "def delta_ema(df, ema_lengths=[20], window_size=20, num_blocks=4):\n",
    "    close_norn = df['Close'] / df['Close'].rolling(20).max()\n",
    "    block_size = window_size // num_blocks\n",
    "    shifts = [block_size * i for i in range(1, num_blocks + 1)]\n",
    "\n",
    "    df = df.copy()\n",
    "\n",
    "    for ema_length in ema_lengths:\n",
    "        ema = ta.ema(close_norn, ema_length)\n",
    "\n",
    "        # Изменения EMA в каждом блоке\n",
    "        for i, shift in enumerate(shifts, 1):\n",
    "            start_vals = ema.shift(shift - block_size)\n",
    "            end_vals = ema.shift(shift)\n",
    "            df[f'block{i}_ema{ema_length}_rel_change'] = (end_vals - start_vals) / start_vals\n",
    "\n",
    "        # Кол-во растущих блоков\n",
    "        grow_flags = [(ema.shift(s) > ema.shift(s - block_size)) for s in shifts]\n",
    "        df[f'ema{ema_length}_grow_blocks'] = pd.concat(grow_flags, axis=1).sum(axis=1).astype(int)\n",
    "\n",
    "    return df"
   ]
  },
  {
   "cell_type": "markdown",
   "id": "29ac0bee-dd15-44f6-bc8d-984be925c934",
   "metadata": {},
   "source": [
    "## ema_above_price"
   ]
  },
  {
   "cell_type": "markdown",
   "id": "b3ade844-3dd7-4a02-8843-c7ec165aa230",
   "metadata": {},
   "source": [
    "Добавляет бинарные признаки, показывающие, находится ли EMA выше цены закрытия"
   ]
  },
  {
   "cell_type": "code",
   "execution_count": 41,
   "id": "14b21e06-a539-439c-ac53-d38134773fa8",
   "metadata": {},
   "outputs": [],
   "source": [
    "def ema_above_price(df, lengths=[20, 100]):\n",
    "    df = df.copy()\n",
    "    \n",
    "    for length in lengths:\n",
    "        # Вычисляем EMA с помощью pandas_ta\n",
    "        ema = ta.ema(df['Close'], length=length)\n",
    "        \n",
    "        # Создаем бинарный признак (1 - EMA выше цены, 0 - нет)\n",
    "        df[f'ema{length}_above_price'] = (ema > df['Close']).astype(int)\n",
    "    \n",
    "    return df"
   ]
  },
  {
   "cell_type": "markdown",
   "id": "febe3a72-5be0-4766-96df-4c5655dd5f3e",
   "metadata": {},
   "source": [
    "## ema_speed"
   ]
  },
  {
   "cell_type": "markdown",
   "id": "3bfa5243-8ef4-42d4-9c93-5907d6105284",
   "metadata": {},
   "source": [
    "Добавляет признаки скорости и ускорения EMA с нормировкой.\\\n",
    "Входные данные:\n",
    "- Периоды EMA для расчета (по умолчанию [20, 50])\n",
    "- Окна для расчета скорости/ускорения (по умолчанию [10, 30, 60])\n",
    "\n",
    "На выходе получаем первую и вторую производную ema"
   ]
  },
  {
   "cell_type": "code",
   "execution_count": 66,
   "id": "1707cf3e-5bb3-4ffd-a842-6949dc45294c",
   "metadata": {},
   "outputs": [],
   "source": [
    "def ema_speed(df, lengths=[20, 50], windows=[10, 30, 60]):\n",
    "\n",
    "    df = df.copy()\n",
    "    \n",
    "    for length in lengths:\n",
    "        # Рассчитываем EMA во временной переменной\n",
    "        ema_values = ta.ema(df['Close'], length=length)\n",
    "        \n",
    "        for window in windows:\n",
    "            # Скорость = среднее изменение EMA за window свечей\n",
    "            speed_col = f'ema{length}_speed_{window}'\n",
    "            speed_values = (ema_values - ema_values.shift(window)) / window\n",
    "            \n",
    "            # Нормировка скорости на SMA цены за тот же период\n",
    "            norm_factor = df['Close'].rolling(window).mean()\n",
    "            df[speed_col] = speed_values / norm_factor\n",
    "            \n",
    "            # Ускорение = изменение скорости\n",
    "            accel_col = f'ema{length}_accel_{window}'\n",
    "            df[accel_col] = df[speed_col].diff(window) / window\n",
    "            \n",
    "            # Нормировка ускорения\n",
    "            df[accel_col] = df[accel_col] / norm_factor\n",
    "            \n",
    "    return df"
   ]
  },
  {
   "cell_type": "markdown",
   "id": "3ab4a1d9-09ac-4d8b-b6ba-58bfb6872b98",
   "metadata": {},
   "source": [
    "# MACD"
   ]
  },
  {
   "cell_type": "markdown",
   "id": "fae12625-7f4f-4898-8e61-45fafec04250",
   "metadata": {},
   "source": [
    "## macd_cross"
   ]
  },
  {
   "cell_type": "markdown",
   "id": "308eb937-8d48-4907-8694-cae2b22c2f08",
   "metadata": {},
   "source": [
    "📌 Описание функции: **macd_cross** *(df, fast=12, slow=26, signal=9)*\n",
    "\n",
    "Вход:\n",
    "- **df** — DataFrame с колонкой Close (цены закрытия).\n",
    "- **fast, slow, signal** — периоды MACD (по умолчанию 12, 26, 9).\n",
    "\n",
    "Действие:\n",
    "- Вычисляет MACD, сигнальную линию и гистограмму с помощью pandas_ta.\n",
    "- Добавляет бинарный признак **macd_long_signal**:\\\n",
    "1 — если MACD выше сигнальной линии (лонговый режим).\\\n",
    "0 — если MACD ниже или равен сигнальной линии.\n",
    "\n",
    "Выход:\\\n",
    "Исходный df с новым признаком:\\\n",
    "**macd_long_signal** (бинарный признак)."
   ]
  },
  {
   "cell_type": "code",
   "execution_count": 45,
   "id": "ba0d0b7b-acff-4c1e-b3b2-fcebc4632c61",
   "metadata": {},
   "outputs": [],
   "source": [
    "def macd_cross(df, fast=12, slow=26, signal=9):\n",
    "    macd_data = ta.macd(df['Close'], fast=fast, slow=slow, signal=signal)\n",
    "    df['macd_long_signal'] = (macd_data['MACD_12_26_9'] > macd_data['MACDs_12_26_9']).astype(int)\n",
    "    return df"
   ]
  },
  {
   "cell_type": "markdown",
   "id": "3158054d-b2b7-4cd8-a21c-7e5970ee4552",
   "metadata": {},
   "source": [
    "## delta_macd"
   ]
  },
  {
   "cell_type": "markdown",
   "id": "399b6b13-1c62-46d9-92e7-528db3247a11",
   "metadata": {},
   "source": [
    "📌 Рассчитывает относительные изменения MACD-компонент от текущей свечи\\\n",
    "и добавляет признак наличия лонгового пересечения за последние cross_lookback свечей.\n",
    "\n",
    "Параметры:\n",
    "- fast, slow, signal — стандартные параметры MACD\n",
    "- shifts — список отступов (в свечах) от текущей для расчёта относительного изменения\n",
    "- cross_lookback — кол-во последних свечей, в которых ищется лонговое пересечение\n"
   ]
  },
  {
   "cell_type": "code",
   "execution_count": 179,
   "id": "b1cdb0df-846a-478e-94fb-df8ac260deba",
   "metadata": {},
   "outputs": [],
   "source": [
    "def delta_macd(df, fast=12, slow=26, signal=9, shifts=[1, 5, 10, 20], cross_lookback=5):\n",
    "   \n",
    "\n",
    "    df = df.copy()\n",
    "\n",
    "    # Считаем MACD и его компоненты во временных переменных\n",
    "    macd_df = ta.macd(df['Close'], fast=fast, slow=slow, signal=signal)\n",
    "    macd = macd_df[f'MACD_{fast}_{slow}_{signal}']\n",
    "    macd_signal = macd_df[f'MACDs_{fast}_{slow}_{signal}']\n",
    "    macd_hist = macd_df[f'MACDh_{fast}_{slow}_{signal}']\n",
    "\n",
    "    # Относительные изменения от текущей свечи\n",
    "    for name, series in [('macd', macd), ('macd_signal', macd_signal), ('macd_hist', macd_hist)]:\n",
    "        for shift in shifts:\n",
    "            shifted_vals = series.shift(shift)\n",
    "            df[f'{name}_rel_change_{shift}'] = (series - shifted_vals) / (shifted_vals + 1e-9)\n",
    "\n",
    "    # Лонговое пересечение MACD за последние N свечей\n",
    "    macd_cross_long = (macd > macd_signal) & (macd.shift(1) <= macd_signal.shift(1))\n",
    "    df['macd_long_signal_lastN'] = macd_cross_long.rolling(cross_lookback, min_periods=1).max().astype(int)\n",
    "\n",
    "    return df"
   ]
  },
  {
   "cell_type": "markdown",
   "id": "732321a1-0b30-4bbd-aa53-020ce2a9f8f8",
   "metadata": {},
   "source": [
    "# ATR"
   ]
  },
  {
   "cell_type": "markdown",
   "id": "62ca25c5-1b71-4806-b8c7-9c2463d679b6",
   "metadata": {},
   "source": [
    "## delta_atr"
   ]
  },
  {
   "cell_type": "markdown",
   "id": "ef4e8b4c-ec4f-4592-b9ae-6bdacba82e52",
   "metadata": {},
   "source": [
    "📌 Описание функции **delta_atr** *(df, atr_length=14, window_size=20, num_blocks=4)*  \n",
    "**Вход:**\n",
    "- **df** — DataFrame с историческими свечами и обязательными колонками High, Low, Close.\n",
    "- **atr_length** — период ATR (например, 14).\n",
    "- **window_size** — общее кол-во свечей для анализа.\n",
    "- **num_blocks** — на сколько частей делим окно.\n",
    "\n",
    "**Что делает:**  \n",
    "Для заданного **atr_length**:\\\n",
    "Считает ATR через `pandas_ta.atr()`.\\\n",
    "Делит окно на **num_blocks** равных частей и для каждого блока считает относительное изменение ATR:\n",
    "$$\\frac{ATR_{end} - ATR_{start}}{ATR_{start}}$$\n",
    "\n",
    "Определяет, в скольких блоках ATR рос (значения в диапазоне 0–num_blocks при стандартных настройках).\n",
    "\n",
    "**Выход:**  \n",
    "Возвращает тот же df, но с добавленными колонками:  \n",
    "`block1_atrXX_rel_change`, ..., `blockN_atrXX_rel_change` — относительные изменения ATR для каждого блока.  \n",
    "`atrXX_grow_blocks` — количество растущих блоков для данного ATR."
   ]
  },
  {
   "cell_type": "code",
   "execution_count": 128,
   "id": "3145a09a-6d19-4660-8c6b-c7588b5e8fd1",
   "metadata": {},
   "outputs": [],
   "source": [
    "def delta_atr(df, atr_length=14, window_size=20, num_blocks=4):\n",
    "    eps = 1e-9\n",
    "    \n",
    "    block_size = window_size // num_blocks\n",
    "    shifts = [block_size * i for i in range(1, num_blocks + 1)]\n",
    "\n",
    "    df = df.copy()\n",
    "    \n",
    "    atr = ta.atr(df['High'], df['Low'], df['Close'], length=atr_length)\n",
    "    atr = atr / df['High'].rolling(window_size).max()  # нормализация\n",
    "\n",
    "    for i, shift in enumerate(shifts, 1):\n",
    "        start_vals = atr.shift(shift - block_size)\n",
    "        end_vals = atr.shift(shift)\n",
    "        df[f'block{i}_atr{atr_length}_rel_change'] = (end_vals - start_vals) / (start_vals + eps)\n",
    "\n",
    "    grow_flags = [(atr.shift(s) > atr.shift(s - block_size)) for s in shifts]\n",
    "    df[f'atr{atr_length}_grow_blocks'] = pd.concat(grow_flags, axis=1).sum(axis=1).astype(int)\n",
    "\n",
    "    return df"
   ]
  },
  {
   "cell_type": "markdown",
   "id": "cf044b9c-6623-4eb2-a6ad-2f51e71d7f72",
   "metadata": {},
   "source": [
    "# Volume"
   ]
  },
  {
   "cell_type": "markdown",
   "id": "40c19fb3-8956-4114-9718-2a4e0e1fc564",
   "metadata": {},
   "source": [
    "## delta_ema_volume"
   ]
  },
  {
   "cell_type": "code",
   "execution_count": 187,
   "id": "eacaeab4-19a7-4b2f-a079-86fe273b5f08",
   "metadata": {},
   "outputs": [],
   "source": [
    "def delta_ema_volume(df, ema_lengths=[20], window_size=20, num_blocks=4):\n",
    "    volume_norn = df['Volume'] / df['Volume'].rolling(20).max()\n",
    "    block_size = window_size // num_blocks\n",
    "    shifts = [block_size * i for i in range(1, num_blocks + 1)]\n",
    "\n",
    "    df = df.copy()\n",
    "\n",
    "    for ema_length in ema_lengths:\n",
    "        ema = ta.ema(volume_norn, ema_length)\n",
    "\n",
    "        # Изменения EMA в каждом блоке\n",
    "        for i, shift in enumerate(shifts, 1):\n",
    "            start_vals = ema.shift(shift - block_size)\n",
    "            end_vals = ema.shift(shift)\n",
    "            df[f'block{i}_ema_volume{ema_length}_rel_change'] = (end_vals - start_vals) / (start_vals + eps)\n",
    "\n",
    "        # Кол-во растущих блоков\n",
    "        grow_flags = [(ema.shift(s) > ema.shift(s - block_size)) for s in shifts]\n",
    "        df[f'ema_volume{ema_length}_grow_blocks'] = pd.concat(grow_flags, axis=1).sum(axis=1).astype(int)\n",
    "\n",
    "    return df"
   ]
  },
  {
   "cell_type": "markdown",
   "id": "72150424-25de-4a8d-a678-2a69b3136482",
   "metadata": {},
   "source": [
    "# Линейная регрессия"
   ]
  },
  {
   "cell_type": "markdown",
   "id": "0b6f3426-ebbb-41ff-a6d5-8e5599753e13",
   "metadata": {},
   "source": [
    "📌 Описание функции **regression_slope_price** *(df, n=[5, 10, 20, 60])*  \\\n",
    "Построение угла наклона линейной регрессии на окне n для цены"
   ]
  },
  {
   "cell_type": "code",
   "execution_count": 189,
   "id": "742e240b-f6bb-4713-9278-2cebdc893702",
   "metadata": {},
   "outputs": [],
   "source": [
    "def regression_slope_price(df, n=[5, 10, 20, 60]):\n",
    "    df = df.copy()\n",
    "    close_norn = df['Close'] / df['Close'].rolling(20).max()\n",
    "    for window in n:\n",
    "        df[f'price_slope_{window}'] = ta.slope(close_norn, length=window)        \n",
    "    return df"
   ]
  },
  {
   "cell_type": "markdown",
   "id": "11502927-3610-4a3f-91e7-a89b87d9181c",
   "metadata": {},
   "source": [
    "📌 Описание функции **regression_slope_volume** *(df, n=[5, 10, 20, 60])*  \\\n",
    "Построение угла наклона линейной регрессии на окне n для объема"
   ]
  },
  {
   "cell_type": "code",
   "execution_count": 191,
   "id": "e9abc9d5-dac7-4287-a4cb-65872d5611ca",
   "metadata": {},
   "outputs": [],
   "source": [
    "def regression_slope_volume(df, n=[5, 10, 20, 60]):\n",
    "    volume_norn = df['Volume'] / df['Volume'].rolling(20).max()\n",
    "    df = df.copy()\n",
    "    for window in n:\n",
    "        df[f'volume_slope_{window}'] = ta.slope(volume_norn, length=window)\n",
    "    return df"
   ]
  },
  {
   "cell_type": "markdown",
   "id": "87c7c4dd-0c06-45fc-9795-fe54dabed713",
   "metadata": {},
   "source": [
    "# RSI"
   ]
  },
  {
   "cell_type": "markdown",
   "id": "844c7c4f-a72d-416f-876b-3a962b90cb00",
   "metadata": {},
   "source": [
    "## delta_rsi"
   ]
  },
  {
   "cell_type": "markdown",
   "id": "9be32345-dff1-461b-ad51-41484c7afe12",
   "metadata": {},
   "source": [
    "📌 Аналог delta_ema, но для RSI.\\\n",
    "Помимо относительного изменения в каждом блоке считает\\\n",
    "среднее значение RSI внутри блока.\n",
    "\n",
    "Параметры:\n",
    "- df — DataFrame с колонкой Close\n",
    "- rsi_lengths — список длин RSI\n",
    "- window_size — общее кол-во свечей для анализа\n",
    "- num_blocks — на сколько частей делим окно\n"
   ]
  },
  {
   "cell_type": "code",
   "execution_count": 7,
   "id": "050c825c-2636-4eb7-9f74-eea319043fed",
   "metadata": {},
   "outputs": [],
   "source": [
    "def delta_rsi(df, rsi_lengths=[21], window_size=20, num_blocks=4):\n",
    "  \n",
    "    close_norm = df['Close'] / df['Close'].rolling(window_size).max()\n",
    "    block_size = window_size // num_blocks\n",
    "    shifts = [block_size * i for i in range(1, num_blocks + 1)]\n",
    "\n",
    "    df = df.copy()\n",
    "\n",
    "    for rsi_length in rsi_lengths:\n",
    "        rsi = ta.rsi(close_norm, length=rsi_length)\n",
    "\n",
    "        # Изменения RSI и среднее значение по каждому блоку\n",
    "        for i, shift in enumerate(shifts, 1):\n",
    "            start_vals = rsi.shift(shift - block_size)\n",
    "            end_vals = rsi.shift(shift)\n",
    "            df[f'block{i}_rsi{rsi_length}_rel_change'] = (end_vals - start_vals) / start_vals\n",
    "\n",
    "            block_vals = rsi.shift(shift - block_size).rolling(block_size).mean()\n",
    "            df[f'block{i}_rsi{rsi_length}_mean'] = block_vals\n",
    "\n",
    "        # Кол-во растущих блоков\n",
    "        grow_flags = [(rsi.shift(s) > rsi.shift(s - block_size)) for s in shifts]\n",
    "        df[f'rsi{rsi_length}_grow_blocks'] = pd.concat(grow_flags, axis=1).sum(axis=1).astype(int)\n",
    "\n",
    "    return df"
   ]
  },
  {
   "cell_type": "markdown",
   "id": "834e4773-5fd1-48d9-9df7-0550d24f62b8",
   "metadata": {},
   "source": [
    "## rsi_speed"
   ]
  },
  {
   "cell_type": "markdown",
   "id": "c7d0a594-dee4-4085-9a31-783bfd4cb970",
   "metadata": {},
   "source": [
    "Добавляет признаки скорости и ускорения RSI.\n",
    "Входные данные:\n",
    "- Периоды RSI для расчета (по умолчанию [21])\n",
    "- Окна для расчета скорости/ускорения (по умолчанию [10, 30, 60])\n",
    "\n",
    "На выходе получаем первую и вторую производную RSI"
   ]
  },
  {
   "cell_type": "code",
   "execution_count": 68,
   "id": "cc97d6a9-f409-459c-8844-fff91bfdc2bb",
   "metadata": {},
   "outputs": [],
   "source": [
    "def rsi_speed(df, lengths=[21], windows=[10, 30, 60]):\n",
    "\n",
    "    df = df.copy()\n",
    "    \n",
    "    for length in lengths:\n",
    "        # Рассчитываем RSI (предварительно нормируем от 0 до 1)\n",
    "        rsi_col = ta.rsi(df['Close'], length=length) / 100  # Нормировка\n",
    "        \n",
    "        for window in windows:\n",
    "            # Скорость = среднее изменение RSI за window свечей\n",
    "            speed_col = f'rsi{length}_speed_{window}'\n",
    "            df[speed_col] = (rsi_col - rsi_col.shift(window)) / window\n",
    "            \n",
    "            # Ускорение = изменение скорости\n",
    "            accel_col = f'rsi{length}_accel_{window}'\n",
    "            df[accel_col] = df[speed_col].diff(window) / window\n",
    "            \n",
    "    return df"
   ]
  },
  {
   "cell_type": "code",
   "execution_count": null,
   "id": "9ebc652e-e3f4-4a14-8a2a-9325115ca685",
   "metadata": {},
   "outputs": [],
   "source": []
  }
 ],
 "metadata": {
  "jupytext": {
   "formats": "ipynb,py"
  },
  "kernelspec": {
   "display_name": "Python [conda env:trading_env]",
   "language": "python",
   "name": "conda-env-trading_env-py"
  },
  "language_info": {
   "codemirror_mode": {
    "name": "ipython",
    "version": 3
   },
   "file_extension": ".py",
   "mimetype": "text/x-python",
   "name": "python",
   "nbconvert_exporter": "python",
   "pygments_lexer": "ipython3",
   "version": "3.10.18"
  }
 },
 "nbformat": 4,
 "nbformat_minor": 5
}
