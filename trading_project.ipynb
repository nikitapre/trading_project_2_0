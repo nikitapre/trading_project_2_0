{
 "cells": [
  {
   "cell_type": "markdown",
   "id": "bd838cc0-da2c-4dfb-858e-97c01550a884",
   "metadata": {},
   "source": [
    "# 1. Импорт библиотек"
   ]
  },
  {
   "cell_type": "code",
   "execution_count": 1,
   "id": "0bde9ea6-1ef5-40e3-9773-cabf3886cb68",
   "metadata": {},
   "outputs": [
    {
     "name": "stdout",
     "output_type": "stream",
     "text": [
      "The autoreload extension is already loaded. To reload it, use:\n",
      "  %reload_ext autoreload\n"
     ]
    }
   ],
   "source": [
    "%reload_ext autoreload\n",
    "%load_ext autoreload\n",
    "%autoreload 2\n",
    "\n",
    "import numpy as np\n",
    "import pandas as pd\n",
    "import pandas_ta as ta\n",
    "from tqdm import tqdm\n",
    "import matplotlib.pyplot as plt\n",
    "import matplotlib.dates as mdates\n",
    "import seaborn as sns\n",
    "import time\n",
    "from datetime import timedelta, datetime\n",
    "import os\n",
    "from joblib import Parallel, delayed\n",
    "from sklearn.linear_model import LogisticRegression\n",
    "from sklearn.metrics import accuracy_score, f1_score, classification_report, precision_score, recall_score, roc_auc_score, precision_recall_curve, precision_recall_curve, roc_curve, auc\n",
    "from sklearn.ensemble import RandomForestClassifier\n",
    "from sklearn.inspection import permutation_importance\n",
    "from sklearn.feature_selection import mutual_info_classif\n",
    "import shap\n",
    "from ipywidgets import widgets\n",
    "from plotly.subplots import make_subplots\n",
    "import plotly.graph_objects as go\n",
    "from IPython.display import display\n",
    "\n",
    "from modules.create_df import kline_candles\n",
    "from modules.all_kline_changes import add_target_column, add_target_column_mod, add_target_column_simple\n",
    "from modules.indicators import delta_ema, macd_cross, delta_atr, delta_ema_volume, delta_macd, regression_slope_price, regression_slope_volume, delta_rsi, ema_above_price, ema_speed, rsi_speed"
   ]
  },
  {
   "cell_type": "markdown",
   "id": "a06a0005-1638-4e90-a247-211ba9b57511",
   "metadata": {},
   "source": [
    "# 2. Загрузка данных"
   ]
  },
  {
   "cell_type": "markdown",
   "id": "c9b4fd53-cedf-4518-9f9a-e37c62a3756d",
   "metadata": {},
   "source": [
    "## 2.1. Загрузка данных с Bybit"
   ]
  },
  {
   "cell_type": "markdown",
   "id": "73e7140f-fc01-446e-8d4d-312f5bb72de5",
   "metadata": {},
   "source": [
    "Функция **kline_candles** принимает на вход наименование токена **simbol**, таймфрейм **tf**, начало и конец периода для загрузки **start/end**\\\n",
    "На выходе выдает df с данными грфика **Date, Close, Open, Low, High, Volume.**\\\n",
    "Базовые отрезки для:\n",
    "- обучающей выборки **start** ='2022-03-10 00:00', **end** ='2024-12-09 21:00'\n",
    "- тестовой выборки **start** = '2024-12-11 00:00', **end** ='2025-07-11 00:00'"
   ]
  },
  {
   "cell_type": "code",
   "execution_count": 2,
   "id": "c81804be-8e98-4f53-8103-1c9f8d8c526e",
   "metadata": {},
   "outputs": [],
   "source": [
    "df = kline_candles(symbol='LINKUSDT', tf=1, start='2022-03-10 00:00', end='2022-03-12 00:00')\n",
    "df_test = kline_candles(symbol='LINKUSDT', tf=1, start='2024-12-11 00:00', end='2024-12-12 00:00')"
   ]
  },
  {
   "cell_type": "code",
   "execution_count": 3,
   "id": "fc364100-0830-4818-b6d4-f95e6f819686",
   "metadata": {},
   "outputs": [
    {
     "data": {
      "text/html": [
       "<div>\n",
       "<style scoped>\n",
       "    .dataframe tbody tr th:only-of-type {\n",
       "        vertical-align: middle;\n",
       "    }\n",
       "\n",
       "    .dataframe tbody tr th {\n",
       "        vertical-align: top;\n",
       "    }\n",
       "\n",
       "    .dataframe thead th {\n",
       "        text-align: right;\n",
       "    }\n",
       "</style>\n",
       "<table border=\"1\" class=\"dataframe\">\n",
       "  <thead>\n",
       "    <tr style=\"text-align: right;\">\n",
       "      <th></th>\n",
       "      <th>Date</th>\n",
       "      <th>Open</th>\n",
       "      <th>High</th>\n",
       "      <th>Low</th>\n",
       "      <th>Close</th>\n",
       "      <th>Volume</th>\n",
       "    </tr>\n",
       "  </thead>\n",
       "  <tbody>\n",
       "    <tr>\n",
       "      <th>0</th>\n",
       "      <td>2022-03-09 21:01:00</td>\n",
       "      <td>13.838</td>\n",
       "      <td>13.838</td>\n",
       "      <td>13.817</td>\n",
       "      <td>13.823</td>\n",
       "      <td>1386.0</td>\n",
       "    </tr>\n",
       "    <tr>\n",
       "      <th>1</th>\n",
       "      <td>2022-03-09 21:02:00</td>\n",
       "      <td>13.823</td>\n",
       "      <td>13.855</td>\n",
       "      <td>13.823</td>\n",
       "      <td>13.855</td>\n",
       "      <td>853.7</td>\n",
       "    </tr>\n",
       "    <tr>\n",
       "      <th>2</th>\n",
       "      <td>2022-03-09 21:03:00</td>\n",
       "      <td>13.855</td>\n",
       "      <td>13.855</td>\n",
       "      <td>13.849</td>\n",
       "      <td>13.855</td>\n",
       "      <td>154.0</td>\n",
       "    </tr>\n",
       "    <tr>\n",
       "      <th>3</th>\n",
       "      <td>2022-03-09 21:04:00</td>\n",
       "      <td>13.855</td>\n",
       "      <td>13.855</td>\n",
       "      <td>13.854</td>\n",
       "      <td>13.855</td>\n",
       "      <td>110.2</td>\n",
       "    </tr>\n",
       "    <tr>\n",
       "      <th>4</th>\n",
       "      <td>2022-03-09 21:05:00</td>\n",
       "      <td>13.855</td>\n",
       "      <td>13.905</td>\n",
       "      <td>13.855</td>\n",
       "      <td>13.881</td>\n",
       "      <td>2832.9</td>\n",
       "    </tr>\n",
       "  </tbody>\n",
       "</table>\n",
       "</div>"
      ],
      "text/plain": [
       "                 Date    Open    High     Low   Close  Volume\n",
       "0 2022-03-09 21:01:00  13.838  13.838  13.817  13.823  1386.0\n",
       "1 2022-03-09 21:02:00  13.823  13.855  13.823  13.855   853.7\n",
       "2 2022-03-09 21:03:00  13.855  13.855  13.849  13.855   154.0\n",
       "3 2022-03-09 21:04:00  13.855  13.855  13.854  13.855   110.2\n",
       "4 2022-03-09 21:05:00  13.855  13.905  13.855  13.881  2832.9"
      ]
     },
     "execution_count": 3,
     "metadata": {},
     "output_type": "execute_result"
    }
   ],
   "source": [
    "df.head(5)"
   ]
  },
  {
   "cell_type": "markdown",
   "id": "6d085272-6e97-48dc-9169-21211b9c2399",
   "metadata": {},
   "source": [
    "## 2.2. Сохранение данных в .csv файл"
   ]
  },
  {
   "cell_type": "code",
   "execution_count": 4,
   "id": "f9a8c98f-28f7-4cb1-a9dd-eb554de82bbb",
   "metadata": {},
   "outputs": [],
   "source": [
    "df.to_csv(\"LINKUSDT_m1_train_raw_data.csv\", index=False, compression='zstd')\n",
    "df_test.to_csv(\"LINKUSDT_m1_test_raw_data.csv\", index=False, compression='zstd')"
   ]
  },
  {
   "cell_type": "code",
   "execution_count": 5,
   "id": "c747103d-fbba-474d-b7d8-5ebbed486ecc",
   "metadata": {},
   "outputs": [],
   "source": [
    "df.to_csv(\"LINK_train_m1_base_features.csv\", index=False, compression='zstd')\n",
    "df_test.to_csv(\"LINK_test_m1_base_features.csv\", index=False, compression='zstd')"
   ]
  },
  {
   "cell_type": "markdown",
   "id": "6c20152e-5131-4ea1-9dbc-845bb1701869",
   "metadata": {},
   "source": [
    "## 2.3. Загрузка df из .csv файла"
   ]
  },
  {
   "cell_type": "code",
   "execution_count": 6,
   "id": "2b35e599-7267-4386-81cb-fc378883eb96",
   "metadata": {},
   "outputs": [
    {
     "data": {
      "text/html": [
       "<div>\n",
       "<style scoped>\n",
       "    .dataframe tbody tr th:only-of-type {\n",
       "        vertical-align: middle;\n",
       "    }\n",
       "\n",
       "    .dataframe tbody tr th {\n",
       "        vertical-align: top;\n",
       "    }\n",
       "\n",
       "    .dataframe thead th {\n",
       "        text-align: right;\n",
       "    }\n",
       "</style>\n",
       "<table border=\"1\" class=\"dataframe\">\n",
       "  <thead>\n",
       "    <tr style=\"text-align: right;\">\n",
       "      <th></th>\n",
       "      <th>Date</th>\n",
       "      <th>Open</th>\n",
       "      <th>High</th>\n",
       "      <th>Low</th>\n",
       "      <th>Close</th>\n",
       "      <th>Volume</th>\n",
       "    </tr>\n",
       "  </thead>\n",
       "  <tbody>\n",
       "    <tr>\n",
       "      <th>0</th>\n",
       "      <td>2022-03-09 21:01:00</td>\n",
       "      <td>13.838</td>\n",
       "      <td>13.838</td>\n",
       "      <td>13.817</td>\n",
       "      <td>13.823</td>\n",
       "      <td>1386.0</td>\n",
       "    </tr>\n",
       "    <tr>\n",
       "      <th>1</th>\n",
       "      <td>2022-03-09 21:02:00</td>\n",
       "      <td>13.823</td>\n",
       "      <td>13.855</td>\n",
       "      <td>13.823</td>\n",
       "      <td>13.855</td>\n",
       "      <td>853.7</td>\n",
       "    </tr>\n",
       "    <tr>\n",
       "      <th>2</th>\n",
       "      <td>2022-03-09 21:03:00</td>\n",
       "      <td>13.855</td>\n",
       "      <td>13.855</td>\n",
       "      <td>13.849</td>\n",
       "      <td>13.855</td>\n",
       "      <td>154.0</td>\n",
       "    </tr>\n",
       "  </tbody>\n",
       "</table>\n",
       "</div>"
      ],
      "text/plain": [
       "                  Date    Open    High     Low   Close  Volume\n",
       "0  2022-03-09 21:01:00  13.838  13.838  13.817  13.823  1386.0\n",
       "1  2022-03-09 21:02:00  13.823  13.855  13.823  13.855   853.7\n",
       "2  2022-03-09 21:03:00  13.855  13.855  13.849  13.855   154.0"
      ]
     },
     "execution_count": 6,
     "metadata": {},
     "output_type": "execute_result"
    }
   ],
   "source": [
    "df= pd.read_csv('LINKUSDT_m1_train_raw_data.csv', compression='zstd')\n",
    "df_test = pd.read_csv('LINKUSDT_m1_test_raw_data.csv', compression='zstd')\n",
    "df.head(3)"
   ]
  },
  {
   "cell_type": "code",
   "execution_count": 7,
   "id": "6d114171-d54b-4777-86b2-773188910cae",
   "metadata": {},
   "outputs": [
    {
     "data": {
      "text/html": [
       "<div>\n",
       "<style scoped>\n",
       "    .dataframe tbody tr th:only-of-type {\n",
       "        vertical-align: middle;\n",
       "    }\n",
       "\n",
       "    .dataframe tbody tr th {\n",
       "        vertical-align: top;\n",
       "    }\n",
       "\n",
       "    .dataframe thead th {\n",
       "        text-align: right;\n",
       "    }\n",
       "</style>\n",
       "<table border=\"1\" class=\"dataframe\">\n",
       "  <thead>\n",
       "    <tr style=\"text-align: right;\">\n",
       "      <th></th>\n",
       "      <th>Date</th>\n",
       "      <th>Open</th>\n",
       "      <th>High</th>\n",
       "      <th>Low</th>\n",
       "      <th>Close</th>\n",
       "      <th>Volume</th>\n",
       "    </tr>\n",
       "  </thead>\n",
       "  <tbody>\n",
       "    <tr>\n",
       "      <th>0</th>\n",
       "      <td>2022-03-09 21:01:00</td>\n",
       "      <td>13.838</td>\n",
       "      <td>13.838</td>\n",
       "      <td>13.817</td>\n",
       "      <td>13.823</td>\n",
       "      <td>1386.0</td>\n",
       "    </tr>\n",
       "    <tr>\n",
       "      <th>1</th>\n",
       "      <td>2022-03-09 21:02:00</td>\n",
       "      <td>13.823</td>\n",
       "      <td>13.855</td>\n",
       "      <td>13.823</td>\n",
       "      <td>13.855</td>\n",
       "      <td>853.7</td>\n",
       "    </tr>\n",
       "    <tr>\n",
       "      <th>2</th>\n",
       "      <td>2022-03-09 21:03:00</td>\n",
       "      <td>13.855</td>\n",
       "      <td>13.855</td>\n",
       "      <td>13.849</td>\n",
       "      <td>13.855</td>\n",
       "      <td>154.0</td>\n",
       "    </tr>\n",
       "  </tbody>\n",
       "</table>\n",
       "</div>"
      ],
      "text/plain": [
       "                  Date    Open    High     Low   Close  Volume\n",
       "0  2022-03-09 21:01:00  13.838  13.838  13.817  13.823  1386.0\n",
       "1  2022-03-09 21:02:00  13.823  13.855  13.823  13.855   853.7\n",
       "2  2022-03-09 21:03:00  13.855  13.855  13.849  13.855   154.0"
      ]
     },
     "execution_count": 7,
     "metadata": {},
     "output_type": "execute_result"
    }
   ],
   "source": [
    "df= pd.read_csv('LINK_train_m1_base_features.csv', compression='zstd')\n",
    "df_test = pd.read_csv('LINK_test_m1_base_features.csv', compression='zstd')\n",
    "df.head(3)"
   ]
  },
  {
   "cell_type": "markdown",
   "id": "5804c673-f292-47be-99b8-5565e5b693b9",
   "metadata": {},
   "source": [
    "# 3. Формирование целевой переменной"
   ]
  },
  {
   "cell_type": "markdown",
   "id": "a1d7759d-b505-49c9-9fc2-3dd200c15ff8",
   "metadata": {},
   "source": [
    "Целевая переменная для функции **add_target_column** - рост цены на **target%** за **target_candles** свечей с соотношением риск / прибыль **rr_threshold**"
   ]
  },
  {
   "cell_type": "code",
   "execution_count": 8,
   "id": "93f34b6a-3e87-42af-b00c-310357aa8867",
   "metadata": {},
   "outputs": [
    {
     "data": {
      "text/plain": [
       "2880"
      ]
     },
     "execution_count": 8,
     "metadata": {},
     "output_type": "execute_result"
    }
   ],
   "source": [
    "len(df)"
   ]
  },
  {
   "cell_type": "code",
   "execution_count": 9,
   "id": "ce2e02f4-aa05-4c65-bab9-af4259b5937f",
   "metadata": {},
   "outputs": [],
   "source": [
    "try:\n",
    "    df = df.drop('target',axis=1)\n",
    "    df_test = df_test.drop('target',axis=1)\n",
    "except:\n",
    "    pass\n"
   ]
  },
  {
   "cell_type": "markdown",
   "id": "d581b882-121d-4cd4-9230-c3032c9ccefa",
   "metadata": {},
   "source": [
    "## Создание основного таргета\n",
    "Написал свою функцию, сверил, не совпало. Дальше не идём."
   ]
  },
  {
   "cell_type": "code",
   "execution_count": 10,
   "id": "62ce3ab7-e031-4e43-8494-1f5f6e28de4c",
   "metadata": {},
   "outputs": [],
   "source": [
    "# параметры для основного таргета\n",
    "target_heavy = 0.01\n",
    "rr_threshold_heavy = 2.0\n",
    "target_candles_heavy = 30"
   ]
  },
  {
   "cell_type": "code",
   "execution_count": 11,
   "id": "4faa92b1-af33-41a8-9909-c827fee84f20",
   "metadata": {},
   "outputs": [],
   "source": [
    "def get_heavy_target_OR(df, target_candles, target, rr_threshold):\n",
    "    \"\"\"Функция возвращает рассчитанный таргет в формате серии. Условия: если в течение target_candles High превысил таргет, и в течение этого периода, включая его последнюю свечу, Low не просел ниже стопа - вернуть 1, иначе 0.\n",
    "    Параметры: \n",
    "    - df: датафрейм с полями High, Low, Close\n",
    "    - target_candles: окно(=количество свечек), в котором вычисляется таргет\n",
    "    - target: абсолютное превышение хая текущей свечи над закрытием первой, которое считается достижением таргета, он же take profit\n",
    "    - rr_threshold: во сколько раз tp должен превышать стоп-лосс\n",
    "    \"\"\"\n",
    "    # сюда пишем результат\n",
    "    target_series = [0 for x in range(target_candles)] \n",
    "    for i in range(len(df)-target_candles):\n",
    "        # делаем слайс датафрейма нужного размера\n",
    "        tdf = df.iloc[i:i+target_candles+1]\n",
    "        # абсолютные значения тейк-профита и стоп-лосса, рассчитанные от закрытия первой свечи\n",
    "        tp, sl = tdf.Close.iloc[0]*(1+target), tdf.Close.iloc[0]*(1-target/rr_threshold)\n",
    "        # последовательности макс-мин свечек, начиная со второй и до конца\n",
    "        his, los = tdf.High.iloc[1:].values, tdf.Low.iloc[1:].values    \n",
    "        # если не добило до tp, сходу пишем ноль\n",
    "        if np.max(his)>=tp:            \n",
    "            # если добило, то обрезаем последовательности макс-мин до свечи пробоя, включая ее саму\n",
    "            los = los[:np.argmax(his>tp)+1]\n",
    "            his = his[:np.argmax(his>tp)+1]\n",
    "            if np.min(los)>sl:\n",
    "                # и только если просадка минимума за этот период не бахнула в стоп, пишем единицу\n",
    "                target_series.append(1)\n",
    "                continue\n",
    "        target_series.append(0)\n",
    "    return target_series"
   ]
  },
  {
   "cell_type": "code",
   "execution_count": 13,
   "id": "c451933c-12eb-4a5f-a5f1-02f2d27c7972",
   "metadata": {},
   "outputs": [],
   "source": [
    "df['target_heavy_OR'] = get_heavy_target_OR(df, target_candles_heavy, target_heavy, rr_threshold_heavy)\n",
    "df_test['target_heavy_OR'] = get_heavy_target_OR(df_test, target_candles_heavy, target_heavy, rr_threshold_heavy)"
   ]
  },
  {
   "cell_type": "code",
   "execution_count": 14,
   "id": "4d50ef9f-d6a4-4d0d-92c0-7557ba36ba63",
   "metadata": {
    "scrolled": true
   },
   "outputs": [],
   "source": [
    "res_df = add_target_column(df.copy(), target_candles=target_candles_heavy, target=target_heavy, rr_threshold=rr_threshold_heavy)\n",
    "res_df_test = add_target_column(df_test.copy(), target_candles=target_candles_heavy, target=target_heavy, rr_threshold=rr_threshold_heavy)"
   ]
  },
  {
   "cell_type": "code",
   "execution_count": 15,
   "id": "c179937e-5879-4e4f-93ca-825cbf004357",
   "metadata": {},
   "outputs": [],
   "source": [
    "df['target_heavy'] = res_df.target\n",
    "df_test['target_heavy'] = res_df_test.target"
   ]
  },
  {
   "cell_type": "code",
   "execution_count": 16,
   "id": "4965276f-f854-4519-8d67-90a8b8bc3539",
   "metadata": {},
   "outputs": [
    {
     "data": {
      "image/png": "[encoded data removed]",
      "text/plain": [
       "<Figure size 3200x600 with 1 Axes>"
      ]
     },
     "metadata": {},
     "output_type": "display_data"
    }
   ],
   "source": [
    "df[['target_heavy', 'target_heavy_OR']].iloc[:1000].plot(figsize=(32,6))\n",
    "plt.title('Графическое отображение исходного и перерасчитанного таргетов')\n",
    "plt.grid()"
   ]
  },
  {
   "cell_type": "markdown",
   "id": "fc5bfe5c-c064-44be-80f9-8270644accde",
   "metadata": {},
   "source": [
    "Таргеты не совпали. Проверка ручками-глазками"
   ]
  },
  {
   "cell_type": "markdown",
   "id": "07645d09-b6ed-4986-8e46-c4e80bd09e44",
   "metadata": {},
   "source": [
    "### Мой вариант"
   ]
  },
  {
   "cell_type": "code",
   "execution_count": 17,
   "id": "5889d962-00d6-4836-9587-02b8705cbf96",
   "metadata": {},
   "outputs": [
    {
     "data": {
      "text/plain": [
       "149"
      ]
     },
     "execution_count": 17,
     "metadata": {},
     "output_type": "execute_result"
    }
   ],
   "source": [
    "# первый индекс таргета =1 по моей методе\n",
    "df[df.target_heavy_OR==1].index[0]"
   ]
  },
  {
   "cell_type": "code",
   "execution_count": 18,
   "id": "58d3d583-cbe9-4d50-a4a6-25805073b515",
   "metadata": {},
   "outputs": [
    {
     "data": {
      "text/html": [
       "<div>\n",
       "<style scoped>\n",
       "    .dataframe tbody tr th:only-of-type {\n",
       "        vertical-align: middle;\n",
       "    }\n",
       "\n",
       "    .dataframe tbody tr th {\n",
       "        vertical-align: top;\n",
       "    }\n",
       "\n",
       "    .dataframe thead th {\n",
       "        text-align: right;\n",
       "    }\n",
       "</style>\n",
       "<table border=\"1\" class=\"dataframe\">\n",
       "  <thead>\n",
       "    <tr style=\"text-align: right;\">\n",
       "      <th></th>\n",
       "      <th>Date</th>\n",
       "      <th>Open</th>\n",
       "      <th>High</th>\n",
       "      <th>Low</th>\n",
       "      <th>Close</th>\n",
       "      <th>Volume</th>\n",
       "      <th>target_heavy_OR</th>\n",
       "      <th>target_heavy</th>\n",
       "    </tr>\n",
       "  </thead>\n",
       "  <tbody>\n",
       "    <tr>\n",
       "      <th>119</th>\n",
       "      <td>2022-03-09 23:00:00</td>\n",
       "      <td>13.830</td>\n",
       "      <td>13.849</td>\n",
       "      <td>13.818</td>\n",
       "      <td>13.826</td>\n",
       "      <td>1530.4</td>\n",
       "      <td>0</td>\n",
       "      <td>1</td>\n",
       "    </tr>\n",
       "    <tr>\n",
       "      <th>120</th>\n",
       "      <td>2022-03-09 23:01:00</td>\n",
       "      <td>13.826</td>\n",
       "      <td>13.826</td>\n",
       "      <td>13.813</td>\n",
       "      <td>13.819</td>\n",
       "      <td>46.7</td>\n",
       "      <td>0</td>\n",
       "      <td>1</td>\n",
       "    </tr>\n",
       "    <tr>\n",
       "      <th>121</th>\n",
       "      <td>2022-03-09 23:02:00</td>\n",
       "      <td>13.819</td>\n",
       "      <td>13.819</td>\n",
       "      <td>13.819</td>\n",
       "      <td>13.819</td>\n",
       "      <td>1.6</td>\n",
       "      <td>0</td>\n",
       "      <td>1</td>\n",
       "    </tr>\n",
       "    <tr>\n",
       "      <th>122</th>\n",
       "      <td>2022-03-09 23:03:00</td>\n",
       "      <td>13.819</td>\n",
       "      <td>13.819</td>\n",
       "      <td>13.804</td>\n",
       "      <td>13.804</td>\n",
       "      <td>96.1</td>\n",
       "      <td>0</td>\n",
       "      <td>1</td>\n",
       "    </tr>\n",
       "    <tr>\n",
       "      <th>123</th>\n",
       "      <td>2022-03-09 23:04:00</td>\n",
       "      <td>13.804</td>\n",
       "      <td>13.815</td>\n",
       "      <td>13.802</td>\n",
       "      <td>13.815</td>\n",
       "      <td>4.5</td>\n",
       "      <td>0</td>\n",
       "      <td>1</td>\n",
       "    </tr>\n",
       "    <tr>\n",
       "      <th>124</th>\n",
       "      <td>2022-03-09 23:05:00</td>\n",
       "      <td>13.815</td>\n",
       "      <td>13.829</td>\n",
       "      <td>13.815</td>\n",
       "      <td>13.829</td>\n",
       "      <td>173.8</td>\n",
       "      <td>0</td>\n",
       "      <td>1</td>\n",
       "    </tr>\n",
       "    <tr>\n",
       "      <th>125</th>\n",
       "      <td>2022-03-09 23:06:00</td>\n",
       "      <td>13.829</td>\n",
       "      <td>13.846</td>\n",
       "      <td>13.828</td>\n",
       "      <td>13.846</td>\n",
       "      <td>1544.2</td>\n",
       "      <td>0</td>\n",
       "      <td>1</td>\n",
       "    </tr>\n",
       "    <tr>\n",
       "      <th>126</th>\n",
       "      <td>2022-03-09 23:07:00</td>\n",
       "      <td>13.846</td>\n",
       "      <td>13.850</td>\n",
       "      <td>13.846</td>\n",
       "      <td>13.847</td>\n",
       "      <td>3.4</td>\n",
       "      <td>0</td>\n",
       "      <td>1</td>\n",
       "    </tr>\n",
       "    <tr>\n",
       "      <th>127</th>\n",
       "      <td>2022-03-09 23:08:00</td>\n",
       "      <td>13.847</td>\n",
       "      <td>13.847</td>\n",
       "      <td>13.839</td>\n",
       "      <td>13.845</td>\n",
       "      <td>110.6</td>\n",
       "      <td>0</td>\n",
       "      <td>1</td>\n",
       "    </tr>\n",
       "    <tr>\n",
       "      <th>128</th>\n",
       "      <td>2022-03-09 23:09:00</td>\n",
       "      <td>13.845</td>\n",
       "      <td>13.845</td>\n",
       "      <td>13.840</td>\n",
       "      <td>13.841</td>\n",
       "      <td>53.2</td>\n",
       "      <td>0</td>\n",
       "      <td>1</td>\n",
       "    </tr>\n",
       "    <tr>\n",
       "      <th>129</th>\n",
       "      <td>2022-03-09 23:10:00</td>\n",
       "      <td>13.841</td>\n",
       "      <td>13.879</td>\n",
       "      <td>13.841</td>\n",
       "      <td>13.879</td>\n",
       "      <td>40.7</td>\n",
       "      <td>0</td>\n",
       "      <td>0</td>\n",
       "    </tr>\n",
       "    <tr>\n",
       "      <th>130</th>\n",
       "      <td>2022-03-09 23:11:00</td>\n",
       "      <td>13.879</td>\n",
       "      <td>13.879</td>\n",
       "      <td>13.869</td>\n",
       "      <td>13.876</td>\n",
       "      <td>173.1</td>\n",
       "      <td>0</td>\n",
       "      <td>0</td>\n",
       "    </tr>\n",
       "    <tr>\n",
       "      <th>131</th>\n",
       "      <td>2022-03-09 23:12:00</td>\n",
       "      <td>13.876</td>\n",
       "      <td>13.876</td>\n",
       "      <td>13.874</td>\n",
       "      <td>13.875</td>\n",
       "      <td>104.8</td>\n",
       "      <td>0</td>\n",
       "      <td>0</td>\n",
       "    </tr>\n",
       "    <tr>\n",
       "      <th>132</th>\n",
       "      <td>2022-03-09 23:13:00</td>\n",
       "      <td>13.875</td>\n",
       "      <td>13.894</td>\n",
       "      <td>13.875</td>\n",
       "      <td>13.890</td>\n",
       "      <td>1470.4</td>\n",
       "      <td>0</td>\n",
       "      <td>0</td>\n",
       "    </tr>\n",
       "    <tr>\n",
       "      <th>133</th>\n",
       "      <td>2022-03-09 23:14:00</td>\n",
       "      <td>13.890</td>\n",
       "      <td>13.902</td>\n",
       "      <td>13.889</td>\n",
       "      <td>13.889</td>\n",
       "      <td>1339.0</td>\n",
       "      <td>0</td>\n",
       "      <td>0</td>\n",
       "    </tr>\n",
       "    <tr>\n",
       "      <th>134</th>\n",
       "      <td>2022-03-09 23:15:00</td>\n",
       "      <td>13.889</td>\n",
       "      <td>13.889</td>\n",
       "      <td>13.881</td>\n",
       "      <td>13.881</td>\n",
       "      <td>21.5</td>\n",
       "      <td>0</td>\n",
       "      <td>0</td>\n",
       "    </tr>\n",
       "    <tr>\n",
       "      <th>135</th>\n",
       "      <td>2022-03-09 23:16:00</td>\n",
       "      <td>13.881</td>\n",
       "      <td>13.895</td>\n",
       "      <td>13.873</td>\n",
       "      <td>13.895</td>\n",
       "      <td>2328.6</td>\n",
       "      <td>0</td>\n",
       "      <td>0</td>\n",
       "    </tr>\n",
       "    <tr>\n",
       "      <th>136</th>\n",
       "      <td>2022-03-09 23:17:00</td>\n",
       "      <td>13.895</td>\n",
       "      <td>13.904</td>\n",
       "      <td>13.895</td>\n",
       "      <td>13.904</td>\n",
       "      <td>1121.1</td>\n",
       "      <td>0</td>\n",
       "      <td>0</td>\n",
       "    </tr>\n",
       "    <tr>\n",
       "      <th>137</th>\n",
       "      <td>2022-03-09 23:18:00</td>\n",
       "      <td>13.904</td>\n",
       "      <td>13.916</td>\n",
       "      <td>13.901</td>\n",
       "      <td>13.916</td>\n",
       "      <td>275.5</td>\n",
       "      <td>0</td>\n",
       "      <td>0</td>\n",
       "    </tr>\n",
       "    <tr>\n",
       "      <th>138</th>\n",
       "      <td>2022-03-09 23:19:00</td>\n",
       "      <td>13.916</td>\n",
       "      <td>13.924</td>\n",
       "      <td>13.916</td>\n",
       "      <td>13.916</td>\n",
       "      <td>1254.6</td>\n",
       "      <td>0</td>\n",
       "      <td>0</td>\n",
       "    </tr>\n",
       "    <tr>\n",
       "      <th>139</th>\n",
       "      <td>2022-03-09 23:20:00</td>\n",
       "      <td>13.916</td>\n",
       "      <td>13.916</td>\n",
       "      <td>13.898</td>\n",
       "      <td>13.899</td>\n",
       "      <td>103.8</td>\n",
       "      <td>0</td>\n",
       "      <td>0</td>\n",
       "    </tr>\n",
       "    <tr>\n",
       "      <th>140</th>\n",
       "      <td>2022-03-09 23:21:00</td>\n",
       "      <td>13.899</td>\n",
       "      <td>13.908</td>\n",
       "      <td>13.899</td>\n",
       "      <td>13.908</td>\n",
       "      <td>168.8</td>\n",
       "      <td>0</td>\n",
       "      <td>0</td>\n",
       "    </tr>\n",
       "    <tr>\n",
       "      <th>141</th>\n",
       "      <td>2022-03-09 23:22:00</td>\n",
       "      <td>13.908</td>\n",
       "      <td>13.920</td>\n",
       "      <td>13.904</td>\n",
       "      <td>13.904</td>\n",
       "      <td>3.6</td>\n",
       "      <td>0</td>\n",
       "      <td>0</td>\n",
       "    </tr>\n",
       "    <tr>\n",
       "      <th>142</th>\n",
       "      <td>2022-03-09 23:23:00</td>\n",
       "      <td>13.904</td>\n",
       "      <td>13.904</td>\n",
       "      <td>13.900</td>\n",
       "      <td>13.901</td>\n",
       "      <td>29.5</td>\n",
       "      <td>0</td>\n",
       "      <td>0</td>\n",
       "    </tr>\n",
       "    <tr>\n",
       "      <th>143</th>\n",
       "      <td>2022-03-09 23:24:00</td>\n",
       "      <td>13.901</td>\n",
       "      <td>13.904</td>\n",
       "      <td>13.901</td>\n",
       "      <td>13.903</td>\n",
       "      <td>164.4</td>\n",
       "      <td>0</td>\n",
       "      <td>0</td>\n",
       "    </tr>\n",
       "    <tr>\n",
       "      <th>144</th>\n",
       "      <td>2022-03-09 23:25:00</td>\n",
       "      <td>13.903</td>\n",
       "      <td>13.908</td>\n",
       "      <td>13.902</td>\n",
       "      <td>13.908</td>\n",
       "      <td>1045.5</td>\n",
       "      <td>0</td>\n",
       "      <td>0</td>\n",
       "    </tr>\n",
       "    <tr>\n",
       "      <th>145</th>\n",
       "      <td>2022-03-09 23:26:00</td>\n",
       "      <td>13.908</td>\n",
       "      <td>13.920</td>\n",
       "      <td>13.908</td>\n",
       "      <td>13.913</td>\n",
       "      <td>25.5</td>\n",
       "      <td>0</td>\n",
       "      <td>0</td>\n",
       "    </tr>\n",
       "    <tr>\n",
       "      <th>146</th>\n",
       "      <td>2022-03-09 23:27:00</td>\n",
       "      <td>13.913</td>\n",
       "      <td>13.918</td>\n",
       "      <td>13.913</td>\n",
       "      <td>13.918</td>\n",
       "      <td>7.6</td>\n",
       "      <td>0</td>\n",
       "      <td>0</td>\n",
       "    </tr>\n",
       "    <tr>\n",
       "      <th>147</th>\n",
       "      <td>2022-03-09 23:28:00</td>\n",
       "      <td>13.918</td>\n",
       "      <td>13.929</td>\n",
       "      <td>13.918</td>\n",
       "      <td>13.925</td>\n",
       "      <td>54.8</td>\n",
       "      <td>0</td>\n",
       "      <td>0</td>\n",
       "    </tr>\n",
       "    <tr>\n",
       "      <th>148</th>\n",
       "      <td>2022-03-09 23:29:00</td>\n",
       "      <td>13.925</td>\n",
       "      <td>13.933</td>\n",
       "      <td>13.925</td>\n",
       "      <td>13.933</td>\n",
       "      <td>43.6</td>\n",
       "      <td>0</td>\n",
       "      <td>0</td>\n",
       "    </tr>\n",
       "    <tr>\n",
       "      <th>149</th>\n",
       "      <td>2022-03-09 23:30:00</td>\n",
       "      <td>13.933</td>\n",
       "      <td>13.967</td>\n",
       "      <td>13.933</td>\n",
       "      <td>13.966</td>\n",
       "      <td>255.8</td>\n",
       "      <td>1</td>\n",
       "      <td>0</td>\n",
       "    </tr>\n",
       "  </tbody>\n",
       "</table>\n",
       "</div>"
      ],
      "text/plain": [
       "                    Date    Open    High     Low   Close  Volume  \\\n",
       "119  2022-03-09 23:00:00  13.830  13.849  13.818  13.826  1530.4   \n",
       "120  2022-03-09 23:01:00  13.826  13.826  13.813  13.819    46.7   \n",
       "121  2022-03-09 23:02:00  13.819  13.819  13.819  13.819     1.6   \n",
       "122  2022-03-09 23:03:00  13.819  13.819  13.804  13.804    96.1   \n",
       "123  2022-03-09 23:04:00  13.804  13.815  13.802  13.815     4.5   \n",
       "124  2022-03-09 23:05:00  13.815  13.829  13.815  13.829   173.8   \n",
       "125  2022-03-09 23:06:00  13.829  13.846  13.828  13.846  1544.2   \n",
       "126  2022-03-09 23:07:00  13.846  13.850  13.846  13.847     3.4   \n",
       "127  2022-03-09 23:08:00  13.847  13.847  13.839  13.845   110.6   \n",
       "128  2022-03-09 23:09:00  13.845  13.845  13.840  13.841    53.2   \n",
       "129  2022-03-09 23:10:00  13.841  13.879  13.841  13.879    40.7   \n",
       "130  2022-03-09 23:11:00  13.879  13.879  13.869  13.876   173.1   \n",
       "131  2022-03-09 23:12:00  13.876  13.876  13.874  13.875   104.8   \n",
       "132  2022-03-09 23:13:00  13.875  13.894  13.875  13.890  1470.4   \n",
       "133  2022-03-09 23:14:00  13.890  13.902  13.889  13.889  1339.0   \n",
       "134  2022-03-09 23:15:00  13.889  13.889  13.881  13.881    21.5   \n",
       "135  2022-03-09 23:16:00  13.881  13.895  13.873  13.895  2328.6   \n",
       "136  2022-03-09 23:17:00  13.895  13.904  13.895  13.904  1121.1   \n",
       "137  2022-03-09 23:18:00  13.904  13.916  13.901  13.916   275.5   \n",
       "138  2022-03-09 23:19:00  13.916  13.924  13.916  13.916  1254.6   \n",
       "139  2022-03-09 23:20:00  13.916  13.916  13.898  13.899   103.8   \n",
       "140  2022-03-09 23:21:00  13.899  13.908  13.899  13.908   168.8   \n",
       "141  2022-03-09 23:22:00  13.908  13.920  13.904  13.904     3.6   \n",
       "142  2022-03-09 23:23:00  13.904  13.904  13.900  13.901    29.5   \n",
       "143  2022-03-09 23:24:00  13.901  13.904  13.901  13.903   164.4   \n",
       "144  2022-03-09 23:25:00  13.903  13.908  13.902  13.908  1045.5   \n",
       "145  2022-03-09 23:26:00  13.908  13.920  13.908  13.913    25.5   \n",
       "146  2022-03-09 23:27:00  13.913  13.918  13.913  13.918     7.6   \n",
       "147  2022-03-09 23:28:00  13.918  13.929  13.918  13.925    54.8   \n",
       "148  2022-03-09 23:29:00  13.925  13.933  13.925  13.933    43.6   \n",
       "149  2022-03-09 23:30:00  13.933  13.967  13.933  13.966   255.8   \n",
       "\n",
       "     target_heavy_OR  target_heavy  \n",
       "119                0             1  \n",
       "120                0             1  \n",
       "121                0             1  \n",
       "122                0             1  \n",
       "123                0             1  \n",
       "124                0             1  \n",
       "125                0             1  \n",
       "126                0             1  \n",
       "127                0             1  \n",
       "128                0             1  \n",
       "129                0             0  \n",
       "130                0             0  \n",
       "131                0             0  \n",
       "132                0             0  \n",
       "133                0             0  \n",
       "134                0             0  \n",
       "135                0             0  \n",
       "136                0             0  \n",
       "137                0             0  \n",
       "138                0             0  \n",
       "139                0             0  \n",
       "140                0             0  \n",
       "141                0             0  \n",
       "142                0             0  \n",
       "143                0             0  \n",
       "144                0             0  \n",
       "145                0             0  \n",
       "146                0             0  \n",
       "147                0             0  \n",
       "148                0             0  \n",
       "149                1             0  "
      ]
     },
     "execution_count": 18,
     "metadata": {},
     "output_type": "execute_result"
    }
   ],
   "source": [
    "tdf = df[119:150].copy()\n",
    "tdf"
   ]
  },
  {
   "cell_type": "code",
   "execution_count": 19,
   "id": "eae97970-130f-4ff9-bec0-97ac5b9ef053",
   "metadata": {},
   "outputs": [
    {
     "data": {
      "image/png": "[encoded data removed]",
      "text/plain": [
       "<Figure size 3200x1200 with 1 Axes>"
      ]
     },
     "metadata": {},
     "output_type": "display_data"
    }
   ],
   "source": [
    "tdf[['Close', 'High', 'Low']].plot(figsize=(32,12))\n",
    "takeprofit = tdf.Close.iloc[0]*(1+target_heavy)\n",
    "stoploss = tdf.Low.iloc[0]*(1-target_heavy/rr_threshold_heavy)\n",
    "ref_level = tdf.Close.iloc[0]\n",
    "plt.plot([tdf.index[0], tdf.index[-1]], [ref_level, ref_level], color=\"magenta\", label='Закрытие первой свечи', linewidth=4)\n",
    "plt.plot([tdf.index[0], tdf.index[-1]], [takeprofit, takeprofit], color=\"lime\", label='TP', linewidth=4)\n",
    "plt.plot([tdf.index[0], tdf.index[-1]], [stoploss, stoploss], color=\"red\", label='SL', linewidth=4)\n",
    "plt.legend()\n",
    "plt.title('Мой вариант')\n",
    "plt.grid();"
   ]
  },
  {
   "cell_type": "markdown",
   "id": "5287bbac-395f-4eec-baca-7b6a02419ee8",
   "metadata": {},
   "source": [
    "### Твой вариант"
   ]
  },
  {
   "cell_type": "code",
   "execution_count": 20,
   "id": "cc03be79-2e94-4945-9b4d-2d0ae01c5608",
   "metadata": {},
   "outputs": [
    {
     "data": {
      "text/plain": [
       "119"
      ]
     },
     "execution_count": 20,
     "metadata": {},
     "output_type": "execute_result"
    }
   ],
   "source": [
    "# первый индекс таргета =1 по твоей методе\n",
    "df[df.target_heavy==1].index[0]"
   ]
  },
  {
   "cell_type": "code",
   "execution_count": 21,
   "id": "6796642c-1d2a-41fb-a41b-a58a5dad20cf",
   "metadata": {},
   "outputs": [
    {
     "data": {
      "text/html": [
       "<div>\n",
       "<style scoped>\n",
       "    .dataframe tbody tr th:only-of-type {\n",
       "        vertical-align: middle;\n",
       "    }\n",
       "\n",
       "    .dataframe tbody tr th {\n",
       "        vertical-align: top;\n",
       "    }\n",
       "\n",
       "    .dataframe thead th {\n",
       "        text-align: right;\n",
       "    }\n",
       "</style>\n",
       "<table border=\"1\" class=\"dataframe\">\n",
       "  <thead>\n",
       "    <tr style=\"text-align: right;\">\n",
       "      <th></th>\n",
       "      <th>Date</th>\n",
       "      <th>Open</th>\n",
       "      <th>High</th>\n",
       "      <th>Low</th>\n",
       "      <th>Close</th>\n",
       "      <th>Volume</th>\n",
       "      <th>target_heavy_OR</th>\n",
       "      <th>target_heavy</th>\n",
       "    </tr>\n",
       "  </thead>\n",
       "  <tbody>\n",
       "    <tr>\n",
       "      <th>89</th>\n",
       "      <td>2022-03-09 22:30:00</td>\n",
       "      <td>13.853</td>\n",
       "      <td>13.853</td>\n",
       "      <td>13.848</td>\n",
       "      <td>13.848</td>\n",
       "      <td>66.2</td>\n",
       "      <td>0</td>\n",
       "      <td>0</td>\n",
       "    </tr>\n",
       "    <tr>\n",
       "      <th>90</th>\n",
       "      <td>2022-03-09 22:31:00</td>\n",
       "      <td>13.848</td>\n",
       "      <td>13.849</td>\n",
       "      <td>13.848</td>\n",
       "      <td>13.849</td>\n",
       "      <td>181.3</td>\n",
       "      <td>0</td>\n",
       "      <td>0</td>\n",
       "    </tr>\n",
       "    <tr>\n",
       "      <th>91</th>\n",
       "      <td>2022-03-09 22:32:00</td>\n",
       "      <td>13.849</td>\n",
       "      <td>13.863</td>\n",
       "      <td>13.849</td>\n",
       "      <td>13.863</td>\n",
       "      <td>1427.8</td>\n",
       "      <td>0</td>\n",
       "      <td>0</td>\n",
       "    </tr>\n",
       "    <tr>\n",
       "      <th>92</th>\n",
       "      <td>2022-03-09 22:33:00</td>\n",
       "      <td>13.863</td>\n",
       "      <td>13.876</td>\n",
       "      <td>13.863</td>\n",
       "      <td>13.874</td>\n",
       "      <td>5319.6</td>\n",
       "      <td>0</td>\n",
       "      <td>0</td>\n",
       "    </tr>\n",
       "    <tr>\n",
       "      <th>93</th>\n",
       "      <td>2022-03-09 22:34:00</td>\n",
       "      <td>13.874</td>\n",
       "      <td>13.879</td>\n",
       "      <td>13.870</td>\n",
       "      <td>13.870</td>\n",
       "      <td>51.8</td>\n",
       "      <td>0</td>\n",
       "      <td>0</td>\n",
       "    </tr>\n",
       "    <tr>\n",
       "      <th>94</th>\n",
       "      <td>2022-03-09 22:35:00</td>\n",
       "      <td>13.870</td>\n",
       "      <td>13.871</td>\n",
       "      <td>13.867</td>\n",
       "      <td>13.871</td>\n",
       "      <td>15.3</td>\n",
       "      <td>0</td>\n",
       "      <td>0</td>\n",
       "    </tr>\n",
       "    <tr>\n",
       "      <th>95</th>\n",
       "      <td>2022-03-09 22:36:00</td>\n",
       "      <td>13.871</td>\n",
       "      <td>13.872</td>\n",
       "      <td>13.869</td>\n",
       "      <td>13.872</td>\n",
       "      <td>2.0</td>\n",
       "      <td>0</td>\n",
       "      <td>0</td>\n",
       "    </tr>\n",
       "    <tr>\n",
       "      <th>96</th>\n",
       "      <td>2022-03-09 22:37:00</td>\n",
       "      <td>13.872</td>\n",
       "      <td>13.872</td>\n",
       "      <td>13.869</td>\n",
       "      <td>13.869</td>\n",
       "      <td>1.1</td>\n",
       "      <td>0</td>\n",
       "      <td>0</td>\n",
       "    </tr>\n",
       "    <tr>\n",
       "      <th>97</th>\n",
       "      <td>2022-03-09 22:38:00</td>\n",
       "      <td>13.869</td>\n",
       "      <td>13.869</td>\n",
       "      <td>13.854</td>\n",
       "      <td>13.854</td>\n",
       "      <td>70.0</td>\n",
       "      <td>0</td>\n",
       "      <td>0</td>\n",
       "    </tr>\n",
       "    <tr>\n",
       "      <th>98</th>\n",
       "      <td>2022-03-09 22:39:00</td>\n",
       "      <td>13.854</td>\n",
       "      <td>13.854</td>\n",
       "      <td>13.854</td>\n",
       "      <td>13.854</td>\n",
       "      <td>0.0</td>\n",
       "      <td>0</td>\n",
       "      <td>0</td>\n",
       "    </tr>\n",
       "    <tr>\n",
       "      <th>99</th>\n",
       "      <td>2022-03-09 22:40:00</td>\n",
       "      <td>13.854</td>\n",
       "      <td>13.854</td>\n",
       "      <td>13.845</td>\n",
       "      <td>13.845</td>\n",
       "      <td>52.6</td>\n",
       "      <td>0</td>\n",
       "      <td>0</td>\n",
       "    </tr>\n",
       "    <tr>\n",
       "      <th>100</th>\n",
       "      <td>2022-03-09 22:41:00</td>\n",
       "      <td>13.845</td>\n",
       "      <td>13.845</td>\n",
       "      <td>13.830</td>\n",
       "      <td>13.831</td>\n",
       "      <td>169.0</td>\n",
       "      <td>0</td>\n",
       "      <td>0</td>\n",
       "    </tr>\n",
       "    <tr>\n",
       "      <th>101</th>\n",
       "      <td>2022-03-09 22:42:00</td>\n",
       "      <td>13.831</td>\n",
       "      <td>13.831</td>\n",
       "      <td>13.823</td>\n",
       "      <td>13.823</td>\n",
       "      <td>174.7</td>\n",
       "      <td>0</td>\n",
       "      <td>0</td>\n",
       "    </tr>\n",
       "    <tr>\n",
       "      <th>102</th>\n",
       "      <td>2022-03-09 22:43:00</td>\n",
       "      <td>13.823</td>\n",
       "      <td>13.823</td>\n",
       "      <td>13.809</td>\n",
       "      <td>13.815</td>\n",
       "      <td>154.0</td>\n",
       "      <td>0</td>\n",
       "      <td>0</td>\n",
       "    </tr>\n",
       "    <tr>\n",
       "      <th>103</th>\n",
       "      <td>2022-03-09 22:44:00</td>\n",
       "      <td>13.815</td>\n",
       "      <td>13.833</td>\n",
       "      <td>13.815</td>\n",
       "      <td>13.824</td>\n",
       "      <td>812.2</td>\n",
       "      <td>0</td>\n",
       "      <td>0</td>\n",
       "    </tr>\n",
       "    <tr>\n",
       "      <th>104</th>\n",
       "      <td>2022-03-09 22:45:00</td>\n",
       "      <td>13.824</td>\n",
       "      <td>13.824</td>\n",
       "      <td>13.817</td>\n",
       "      <td>13.817</td>\n",
       "      <td>106.1</td>\n",
       "      <td>0</td>\n",
       "      <td>0</td>\n",
       "    </tr>\n",
       "    <tr>\n",
       "      <th>105</th>\n",
       "      <td>2022-03-09 22:46:00</td>\n",
       "      <td>13.817</td>\n",
       "      <td>13.817</td>\n",
       "      <td>13.791</td>\n",
       "      <td>13.803</td>\n",
       "      <td>2222.9</td>\n",
       "      <td>0</td>\n",
       "      <td>0</td>\n",
       "    </tr>\n",
       "    <tr>\n",
       "      <th>106</th>\n",
       "      <td>2022-03-09 22:47:00</td>\n",
       "      <td>13.803</td>\n",
       "      <td>13.803</td>\n",
       "      <td>13.802</td>\n",
       "      <td>13.802</td>\n",
       "      <td>7.3</td>\n",
       "      <td>0</td>\n",
       "      <td>0</td>\n",
       "    </tr>\n",
       "    <tr>\n",
       "      <th>107</th>\n",
       "      <td>2022-03-09 22:48:00</td>\n",
       "      <td>13.802</td>\n",
       "      <td>13.802</td>\n",
       "      <td>13.801</td>\n",
       "      <td>13.801</td>\n",
       "      <td>1.1</td>\n",
       "      <td>0</td>\n",
       "      <td>0</td>\n",
       "    </tr>\n",
       "    <tr>\n",
       "      <th>108</th>\n",
       "      <td>2022-03-09 22:49:00</td>\n",
       "      <td>13.801</td>\n",
       "      <td>13.809</td>\n",
       "      <td>13.801</td>\n",
       "      <td>13.809</td>\n",
       "      <td>7.5</td>\n",
       "      <td>0</td>\n",
       "      <td>0</td>\n",
       "    </tr>\n",
       "    <tr>\n",
       "      <th>109</th>\n",
       "      <td>2022-03-09 22:50:00</td>\n",
       "      <td>13.809</td>\n",
       "      <td>13.809</td>\n",
       "      <td>13.799</td>\n",
       "      <td>13.807</td>\n",
       "      <td>807.4</td>\n",
       "      <td>0</td>\n",
       "      <td>0</td>\n",
       "    </tr>\n",
       "    <tr>\n",
       "      <th>110</th>\n",
       "      <td>2022-03-09 22:51:00</td>\n",
       "      <td>13.807</td>\n",
       "      <td>13.814</td>\n",
       "      <td>13.807</td>\n",
       "      <td>13.814</td>\n",
       "      <td>1235.8</td>\n",
       "      <td>0</td>\n",
       "      <td>0</td>\n",
       "    </tr>\n",
       "    <tr>\n",
       "      <th>111</th>\n",
       "      <td>2022-03-09 22:52:00</td>\n",
       "      <td>13.814</td>\n",
       "      <td>13.819</td>\n",
       "      <td>13.814</td>\n",
       "      <td>13.819</td>\n",
       "      <td>667.3</td>\n",
       "      <td>0</td>\n",
       "      <td>0</td>\n",
       "    </tr>\n",
       "    <tr>\n",
       "      <th>112</th>\n",
       "      <td>2022-03-09 22:53:00</td>\n",
       "      <td>13.819</td>\n",
       "      <td>13.834</td>\n",
       "      <td>13.819</td>\n",
       "      <td>13.834</td>\n",
       "      <td>1852.8</td>\n",
       "      <td>0</td>\n",
       "      <td>0</td>\n",
       "    </tr>\n",
       "    <tr>\n",
       "      <th>113</th>\n",
       "      <td>2022-03-09 22:54:00</td>\n",
       "      <td>13.834</td>\n",
       "      <td>13.834</td>\n",
       "      <td>13.832</td>\n",
       "      <td>13.832</td>\n",
       "      <td>50.3</td>\n",
       "      <td>0</td>\n",
       "      <td>0</td>\n",
       "    </tr>\n",
       "    <tr>\n",
       "      <th>114</th>\n",
       "      <td>2022-03-09 22:55:00</td>\n",
       "      <td>13.832</td>\n",
       "      <td>13.832</td>\n",
       "      <td>13.832</td>\n",
       "      <td>13.832</td>\n",
       "      <td>70.0</td>\n",
       "      <td>0</td>\n",
       "      <td>0</td>\n",
       "    </tr>\n",
       "    <tr>\n",
       "      <th>115</th>\n",
       "      <td>2022-03-09 22:56:00</td>\n",
       "      <td>13.832</td>\n",
       "      <td>13.834</td>\n",
       "      <td>13.822</td>\n",
       "      <td>13.822</td>\n",
       "      <td>80.4</td>\n",
       "      <td>0</td>\n",
       "      <td>0</td>\n",
       "    </tr>\n",
       "    <tr>\n",
       "      <th>116</th>\n",
       "      <td>2022-03-09 22:57:00</td>\n",
       "      <td>13.822</td>\n",
       "      <td>13.827</td>\n",
       "      <td>13.810</td>\n",
       "      <td>13.827</td>\n",
       "      <td>171.8</td>\n",
       "      <td>0</td>\n",
       "      <td>0</td>\n",
       "    </tr>\n",
       "    <tr>\n",
       "      <th>117</th>\n",
       "      <td>2022-03-09 22:58:00</td>\n",
       "      <td>13.827</td>\n",
       "      <td>13.833</td>\n",
       "      <td>13.827</td>\n",
       "      <td>13.833</td>\n",
       "      <td>1.8</td>\n",
       "      <td>0</td>\n",
       "      <td>0</td>\n",
       "    </tr>\n",
       "    <tr>\n",
       "      <th>118</th>\n",
       "      <td>2022-03-09 22:59:00</td>\n",
       "      <td>13.833</td>\n",
       "      <td>13.833</td>\n",
       "      <td>13.830</td>\n",
       "      <td>13.830</td>\n",
       "      <td>14.0</td>\n",
       "      <td>0</td>\n",
       "      <td>0</td>\n",
       "    </tr>\n",
       "    <tr>\n",
       "      <th>119</th>\n",
       "      <td>2022-03-09 23:00:00</td>\n",
       "      <td>13.830</td>\n",
       "      <td>13.849</td>\n",
       "      <td>13.818</td>\n",
       "      <td>13.826</td>\n",
       "      <td>1530.4</td>\n",
       "      <td>0</td>\n",
       "      <td>1</td>\n",
       "    </tr>\n",
       "  </tbody>\n",
       "</table>\n",
       "</div>"
      ],
      "text/plain": [
       "                    Date    Open    High     Low   Close  Volume  \\\n",
       "89   2022-03-09 22:30:00  13.853  13.853  13.848  13.848    66.2   \n",
       "90   2022-03-09 22:31:00  13.848  13.849  13.848  13.849   181.3   \n",
       "91   2022-03-09 22:32:00  13.849  13.863  13.849  13.863  1427.8   \n",
       "92   2022-03-09 22:33:00  13.863  13.876  13.863  13.874  5319.6   \n",
       "93   2022-03-09 22:34:00  13.874  13.879  13.870  13.870    51.8   \n",
       "94   2022-03-09 22:35:00  13.870  13.871  13.867  13.871    15.3   \n",
       "95   2022-03-09 22:36:00  13.871  13.872  13.869  13.872     2.0   \n",
       "96   2022-03-09 22:37:00  13.872  13.872  13.869  13.869     1.1   \n",
       "97   2022-03-09 22:38:00  13.869  13.869  13.854  13.854    70.0   \n",
       "98   2022-03-09 22:39:00  13.854  13.854  13.854  13.854     0.0   \n",
       "99   2022-03-09 22:40:00  13.854  13.854  13.845  13.845    52.6   \n",
       "100  2022-03-09 22:41:00  13.845  13.845  13.830  13.831   169.0   \n",
       "101  2022-03-09 22:42:00  13.831  13.831  13.823  13.823   174.7   \n",
       "102  2022-03-09 22:43:00  13.823  13.823  13.809  13.815   154.0   \n",
       "103  2022-03-09 22:44:00  13.815  13.833  13.815  13.824   812.2   \n",
       "104  2022-03-09 22:45:00  13.824  13.824  13.817  13.817   106.1   \n",
       "105  2022-03-09 22:46:00  13.817  13.817  13.791  13.803  2222.9   \n",
       "106  2022-03-09 22:47:00  13.803  13.803  13.802  13.802     7.3   \n",
       "107  2022-03-09 22:48:00  13.802  13.802  13.801  13.801     1.1   \n",
       "108  2022-03-09 22:49:00  13.801  13.809  13.801  13.809     7.5   \n",
       "109  2022-03-09 22:50:00  13.809  13.809  13.799  13.807   807.4   \n",
       "110  2022-03-09 22:51:00  13.807  13.814  13.807  13.814  1235.8   \n",
       "111  2022-03-09 22:52:00  13.814  13.819  13.814  13.819   667.3   \n",
       "112  2022-03-09 22:53:00  13.819  13.834  13.819  13.834  1852.8   \n",
       "113  2022-03-09 22:54:00  13.834  13.834  13.832  13.832    50.3   \n",
       "114  2022-03-09 22:55:00  13.832  13.832  13.832  13.832    70.0   \n",
       "115  2022-03-09 22:56:00  13.832  13.834  13.822  13.822    80.4   \n",
       "116  2022-03-09 22:57:00  13.822  13.827  13.810  13.827   171.8   \n",
       "117  2022-03-09 22:58:00  13.827  13.833  13.827  13.833     1.8   \n",
       "118  2022-03-09 22:59:00  13.833  13.833  13.830  13.830    14.0   \n",
       "119  2022-03-09 23:00:00  13.830  13.849  13.818  13.826  1530.4   \n",
       "\n",
       "     target_heavy_OR  target_heavy  \n",
       "89                 0             0  \n",
       "90                 0             0  \n",
       "91                 0             0  \n",
       "92                 0             0  \n",
       "93                 0             0  \n",
       "94                 0             0  \n",
       "95                 0             0  \n",
       "96                 0             0  \n",
       "97                 0             0  \n",
       "98                 0             0  \n",
       "99                 0             0  \n",
       "100                0             0  \n",
       "101                0             0  \n",
       "102                0             0  \n",
       "103                0             0  \n",
       "104                0             0  \n",
       "105                0             0  \n",
       "106                0             0  \n",
       "107                0             0  \n",
       "108                0             0  \n",
       "109                0             0  \n",
       "110                0             0  \n",
       "111                0             0  \n",
       "112                0             0  \n",
       "113                0             0  \n",
       "114                0             0  \n",
       "115                0             0  \n",
       "116                0             0  \n",
       "117                0             0  \n",
       "118                0             0  \n",
       "119                0             1  "
      ]
     },
     "execution_count": 21,
     "metadata": {},
     "output_type": "execute_result"
    }
   ],
   "source": [
    "tdf = df[120-31:120].copy()\n",
    "tdf"
   ]
  },
  {
   "cell_type": "code",
   "execution_count": 22,
   "id": "3c63b975-1720-4c81-a8b3-f662ea383b05",
   "metadata": {},
   "outputs": [
    {
     "data": {
      "image/png": "[encoded data removed]",
      "text/plain": [
       "<Figure size 3200x1200 with 1 Axes>"
      ]
     },
     "metadata": {},
     "output_type": "display_data"
    }
   ],
   "source": [
    "tdf[['Close', 'High', 'Low']].plot(figsize=(32,12))\n",
    "takeprofit = tdf.Close.iloc[0]*(1+target_heavy)\n",
    "stoploss = tdf.Low.iloc[0]*(1-target_heavy/rr_threshold_heavy)\n",
    "ref_level = tdf.Close.iloc[0]\n",
    "plt.plot([tdf.index[0], tdf.index[-1]], [ref_level, ref_level], color=\"magenta\", label='Закрытие первой свечи', linewidth=4)\n",
    "plt.plot([tdf.index[0], tdf.index[-1]], [takeprofit, takeprofit], color=\"lime\", label='TP', linewidth=4)\n",
    "plt.plot([tdf.index[0], tdf.index[-1]], [stoploss, stoploss], color=\"red\", label='SL', linewidth=4)\n",
    "plt.legend()\n",
    "plt.title('Твой вариант')\n",
    "plt.grid();"
   ]
  },
  {
   "cell_type": "code",
   "execution_count": 23,
   "id": "8800185f-35bc-4e35-961b-4a523c9771dd",
   "metadata": {},
   "outputs": [
    {
     "ename": "AssertionError",
     "evalue": "",
     "output_type": "error",
     "traceback": [
      "\u001b[1;31m---------------------------------------------------------------------------\u001b[0m",
      "\u001b[1;31mAssertionError\u001b[0m                            Traceback (most recent call last)",
      "Cell \u001b[1;32mIn[23], line 2\u001b[0m\n\u001b[0;32m      1\u001b[0m \u001b[38;5;28;01massert\u001b[39;00m np\u001b[38;5;241m.\u001b[39mall(df\u001b[38;5;241m.\u001b[39mtarget_heavy\u001b[38;5;241m.\u001b[39mvalue_counts()\u001b[38;5;241m==\u001b[39mdf\u001b[38;5;241m.\u001b[39mtarget_heavy_OR\u001b[38;5;241m.\u001b[39mvalue_counts())\n\u001b[1;32m----> 2\u001b[0m \u001b[38;5;28;01massert\u001b[39;00m np\u001b[38;5;241m.\u001b[39mall(df\u001b[38;5;241m.\u001b[39mtarget_heavy\u001b[38;5;241m==\u001b[39mdf\u001b[38;5;241m.\u001b[39mtarget_heavy_OR)\n\u001b[0;32m      4\u001b[0m \u001b[38;5;28;01massert\u001b[39;00m np\u001b[38;5;241m.\u001b[39mall(df_test\u001b[38;5;241m.\u001b[39mtarget_heavy\u001b[38;5;241m.\u001b[39mvalue_counts()\u001b[38;5;241m==\u001b[39mdf_test\u001b[38;5;241m.\u001b[39mtarget_heavy_OR\u001b[38;5;241m.\u001b[39mvalue_counts())\n\u001b[0;32m      5\u001b[0m \u001b[38;5;28;01massert\u001b[39;00m np\u001b[38;5;241m.\u001b[39mall(df_test\u001b[38;5;241m.\u001b[39mtarget_heavy\u001b[38;5;241m==\u001b[39mdf_test\u001b[38;5;241m.\u001b[39mtarget_heavy_OR)\n",
      "\u001b[1;31mAssertionError\u001b[0m: "
     ]
    }
   ],
   "source": [
    "assert np.all(df.target_heavy.value_counts()==df.target_heavy_OR.value_counts())\n",
    "assert np.all(df.target_heavy==df.target_heavy_OR)\n",
    "\n",
    "assert np.all(df_test.target_heavy.value_counts()==df_test.target_heavy_OR.value_counts())\n",
    "assert np.all(df_test.target_heavy==df_test.target_heavy_OR)"
   ]
  },
  {
   "cell_type": "markdown",
   "id": "7e68e88e-c921-4188-8c9c-54db841af597",
   "metadata": {},
   "source": [
    "# ====================== ДАЛЬШЕ НЕ ИДЁМ ЩАС =============================="
   ]
  },
  {
   "cell_type": "markdown",
   "id": "9a876d47-129b-48d6-a128-0c2efd5c171f",
   "metadata": {},
   "source": [
    "## Создание облегченного таргета"
   ]
  },
  {
   "cell_type": "markdown",
   "id": "c7d8aa14-88f6-44c8-a368-466cee6c6431",
   "metadata": {},
   "source": [
    "Целевая переменная для функции **add_target_column_simple** - рост цены на **target%** за **target_candles** свечей"
   ]
  },
  {
   "cell_type": "code",
   "execution_count": null,
   "id": "4d50039a-93d6-4099-a7ec-e7baca11f409",
   "metadata": {},
   "outputs": [],
   "source": [
    "# параметры для облегченного таргета\n",
    "target_light = 0.005\n",
    "target_candles_light = 5"
   ]
  },
  {
   "cell_type": "code",
   "execution_count": null,
   "id": "bedf148a-00c6-4cea-bcdb-f029b9136fb3",
   "metadata": {},
   "outputs": [],
   "source": [
    "def get_light_target_OR(df, target_candles, target):\n",
    "    \"\"\"Функция возвращает рассчитанный таргет в формате серии. Условия: если в течение target_candles High превысил таргет - вернуть 1, иначе 0.\n",
    "    Параметры: \n",
    "    - df: датафрейм с полями High, Low, Close\n",
    "    - target_candles: окно(=количество свечек), в котором вычисляется таргет\n",
    "    - target: абсолютное превышение хая текущей свечи над закрытием первой, которое считается достижением таргета, он же take profit\n",
    "    - rr_threshold: во сколько раз tp должен превышать стоп-лосс\n",
    "    \"\"\"\n",
    "    # сюда пишем результат\n",
    "    target_series = [0 for x in range(target_candles)] \n",
    "    for i in range(len(df)-target_candles):\n",
    "        # делаем слайс датафрейма нужного размера\n",
    "        tdf = df.iloc[i:i+target_candles+1]\n",
    "        # абсолютное значение тейк-профита, рассчитанные от закрытия первой свечи\n",
    "        tp = tdf.Close.iloc[0]*(1+target)\n",
    "        # последовательность максимумов свечек, начиная со второй и до конца\n",
    "        his = tdf.High.iloc[1:].values\n",
    "        # проверка единственного условия\n",
    "        if his.max()>tp:\n",
    "            target_series.append(True)\n",
    "            continue        \n",
    "        target_series.append(False)\n",
    "    return target_series"
   ]
  },
  {
   "cell_type": "code",
   "execution_count": null,
   "id": "1e556f14-d1c3-437c-a270-bb3f8e84c490",
   "metadata": {},
   "outputs": [],
   "source": [
    "df['target_light_OR'] = get_light_target_OR(df, target_candles_light, target_light)\n",
    "df_test['target_light_OR'] = get_light_target_OR(df_test, target_candles_light, target_light)"
   ]
  },
  {
   "cell_type": "code",
   "execution_count": null,
   "id": "12c5da75-2b05-4224-8665-8b0ad4232ec6",
   "metadata": {},
   "outputs": [],
   "source": [
    "res_df_simple = add_target_column_simple(df.copy(), target_candles=target_candles_light, target=target_light)\n",
    "res_df_test = add_target_column_simple(df_test.copy(), target_candles=target_candles_light, target=target_light)"
   ]
  },
  {
   "cell_type": "code",
   "execution_count": null,
   "id": "20f798b6-ee07-44dc-a7ea-1c1d90f938da",
   "metadata": {},
   "outputs": [],
   "source": [
    "df['target_light'] = res_df.target\n",
    "df_test['target_light'] = res_df_test.target"
   ]
  },
  {
   "cell_type": "code",
   "execution_count": null,
   "id": "911a1e7e-a392-49f1-ad92-bf1953a75368",
   "metadata": {},
   "outputs": [],
   "source": [
    "assert np.all(df.target_light.value_counts()==df.target_light_OR.value_counts())\n",
    "assert np.all(df.target_light==df.target_light_OR)\n",
    "\n",
    "assert np.all(df_test.target_light.value_counts()==df_test.target_light_OR.value_counts())\n",
    "assert np.all(df_test.target_light==df_test.target_light_OR)"
   ]
  },
  {
   "cell_type": "markdown",
   "id": "a9270097-16e3-453d-b974-d49e7a9bdd20",
   "metadata": {},
   "source": [
    "# 4. Добавление нормализованных индикаторов"
   ]
  },
  {
   "cell_type": "markdown",
   "id": "b212fe58-f909-4491-bf95-8792f6d455b6",
   "metadata": {},
   "source": [
    "## 4.1. EMA"
   ]
  },
  {
   "cell_type": "markdown",
   "id": "50b7157a-550b-4eb0-badf-6d35e36cb524",
   "metadata": {},
   "source": [
    "📌 Описание функции **delta_ema** *(df, ema_lenght=[20], block_size=5, shifts=None)*\\\n",
    "**Вход:**\n",
    "- **df** — DataFrame с историческими свечами и обязательной колонкой Close.\n",
    "- **ema_lengths** — список длин EMA, например [20, 50].\n",
    "- **block_size** — размер блока (количество свечей в блоке).\n",
    "- **shifts** — список сдвигов в свечах (по умолчанию 4 блока подряд: block_size, 2*block_size, 3*block_size, 4*block_size).\n",
    "\n",
    "**Что делает:**\\\n",
    "Для каждой EMA из списка **ema_windows**:\n",
    "\n",
    "Считает относительное изменение EMA внутри каждого блока:\n",
    "$$\\frac{ema_{start} - ema_{end}}{ema_{start}}$$\n",
    "Определяет, в скольких блоках EMA росла (значения в диапазоне 0–4 при стандартных настройках).\\\n",
    "**Выход:**\\\n",
    "Возвращает тот же df, но с добавленными колонками:\\\n",
    "block1_emaXX_rel_change, ..., block4_emaXX_rel_change — относительные изменения EMA для каждого блока.\\\n",
    "emaXX_grow_blocks — количество растущих блоков для данной EMA."
   ]
  },
  {
   "cell_type": "markdown",
   "id": "1c62efae-59a7-4613-b400-99ae467bb40c",
   "metadata": {},
   "source": [
    "### 4.1.1. delta_ema"
   ]
  },
  {
   "cell_type": "code",
   "execution_count": null,
   "id": "c7a746a8-7d5f-42d3-938a-0087901e1ba1",
   "metadata": {},
   "outputs": [],
   "source": [
    "df = delta_ema(df, ema_lengths=[20, 50,100], window_size=20, num_blocks=4)\n",
    "df_test = delta_ema(df_test, ema_lengths=[20, 50, 100], window_size=20, num_blocks=4)"
   ]
  },
  {
   "cell_type": "code",
   "execution_count": null,
   "id": "22641418-7c29-45a3-9794-2f21c865a954",
   "metadata": {},
   "outputs": [],
   "source": [
    "raise Exception"
   ]
  },
  {
   "cell_type": "code",
   "execution_count": null,
   "id": "39a8cdf7-6f6e-40fb-adbe-d96ebbb196bb",
   "metadata": {},
   "outputs": [],
   "source": [
    "df"
   ]
  },
  {
   "cell_type": "markdown",
   "id": "efce9a73-6c53-4d9b-8d46-a91f6336f954",
   "metadata": {},
   "source": [
    "### 4.1.2. ema_above_price"
   ]
  },
  {
   "cell_type": "markdown",
   "id": "c6445e35-23bb-4521-8bf4-f2a6198866d5",
   "metadata": {},
   "source": [
    "Добавляет бинарные признаки, показывающие, находится ли EMA выше цены закрытия"
   ]
  },
  {
   "cell_type": "code",
   "execution_count": null,
   "id": "54142be7-b7e8-41d8-9846-a48b34ef97ef",
   "metadata": {},
   "outputs": [],
   "source": [
    "df = ema_above_price(df, lengths=[20, 50, 100])\n",
    "df_test = ema_above_price(df_test, lengths=[20, 50, 100])"
   ]
  },
  {
   "cell_type": "markdown",
   "id": "37b55f68-cd2a-403c-88ed-f633d2c16c0b",
   "metadata": {},
   "source": [
    "### 4.1.3. ema_speed"
   ]
  },
  {
   "cell_type": "markdown",
   "id": "8d61989b-2167-4e49-9508-14d7b495faa7",
   "metadata": {},
   "source": [
    "Добавляет признаки скорости и ускорения EMA с нормировкой.\\\n",
    "Входные данные:\n",
    "- Периоды EMA для расчета (по умолчанию [20, 50])\n",
    "- Окна для расчета скорости/ускорения (по умолчанию [10, 30, 60])\n",
    "\n",
    "На выходе получаем первую и вторую производную ema"
   ]
  },
  {
   "cell_type": "code",
   "execution_count": null,
   "id": "bd2ad156-0e62-41d0-9cc9-97053f544269",
   "metadata": {},
   "outputs": [],
   "source": [
    "df = ema_speed(df, lengths=[20, 50, 100], windows=[10, 30, 60])\n",
    "df_test = ema_speed(df_test, lengths=[20, 50, 100], windows=[10, 30, 60])"
   ]
  },
  {
   "cell_type": "code",
   "execution_count": null,
   "id": "0600ee60-297b-4a94-875b-81688206d508",
   "metadata": {},
   "outputs": [],
   "source": [
    "df.tail(1)"
   ]
  },
  {
   "cell_type": "markdown",
   "id": "ed4b64b0-4cb5-458a-8090-3451ab016994",
   "metadata": {},
   "source": [
    "## 4.2. MACD"
   ]
  },
  {
   "cell_type": "markdown",
   "id": "ac4a211c-319c-4c48-8ae1-28f55469222b",
   "metadata": {},
   "source": [
    "📌 Описание функции: **macd_cross** *(df, fast=12, slow=26, signal=9)*\n",
    "\n",
    "Вход:\n",
    "- **df** — DataFrame с колонкой Close (цены закрытия).\n",
    "- **fast, slow, signal** — периоды MACD (по умолчанию 12, 26, 9).\n",
    "\n",
    "Действие:\n",
    "- Вычисляет MACD, сигнальную линию и гистограмму с помощью pandas_ta.\n",
    "- Добавляет бинарный признак **macd_long_signal**:\\\n",
    "1 — если MACD выше сигнальной линии (лонговый режим).\\\n",
    "0 — если MACD ниже или равен сигнальной линии.\n",
    "\n",
    "Выход:\\\n",
    "Исходный df с новым признаком:\\\n",
    "**macd_long_signal** (бинарный признак)."
   ]
  },
  {
   "cell_type": "code",
   "execution_count": null,
   "id": "60a3f41d-ef14-421e-8b9c-34858fb84712",
   "metadata": {},
   "outputs": [],
   "source": [
    "df = macd_cross(df)\n",
    "df_test = macd_cross(df_test)"
   ]
  },
  {
   "cell_type": "markdown",
   "id": "b97d77e3-ea9d-451a-8c61-b25aac11a6f6",
   "metadata": {},
   "source": [
    "📌 **delta_macd** Рассчитывает относительные изменения MACD-компонент от текущей свечи\\\n",
    "и добавляет признак наличия лонгового пересечения за последние cross_lookback свечей.\n",
    "\n",
    "Параметры:\n",
    "- fast, slow, signal — стандартные параметры MACD\n",
    "- shifts — список отступов (в свечах) от текущей для расчёта относительного изменения\n",
    "- cross_lookback — кол-во последних свечей, в которых ищется лонговое пересечение\n"
   ]
  },
  {
   "cell_type": "code",
   "execution_count": null,
   "id": "82eef2b8-d1dd-4f4e-8ddb-f7426564986d",
   "metadata": {},
   "outputs": [],
   "source": [
    "df = delta_macd(df, shifts=[5, 10])\n",
    "df_test = delta_macd(df_test, shifts=[5, 10])"
   ]
  },
  {
   "cell_type": "markdown",
   "id": "99c6d2a9-ec25-45b7-a361-68c4a11a4c3e",
   "metadata": {},
   "source": [
    "## 4.3. ATR"
   ]
  },
  {
   "cell_type": "markdown",
   "id": "45984070-1152-45b1-b97f-60b8c8dbaef2",
   "metadata": {},
   "source": [
    "📌 Описание функции **delta_atr** *(df, atr_length=14, window_size=20, num_blocks=4)*\\\n",
    "Аналогичный расчет как для **delta_ema**, но для значений **ATR**"
   ]
  },
  {
   "cell_type": "code",
   "execution_count": null,
   "id": "9d609bb5-6c2a-450f-9ce5-a9585688a62a",
   "metadata": {},
   "outputs": [],
   "source": [
    "df = delta_atr(df, atr_length=14, window_size=10, num_blocks=2)\n",
    "df_test = delta_atr(df_test, atr_length=14, window_size=10, num_blocks=2)"
   ]
  },
  {
   "cell_type": "markdown",
   "id": "4821fa6c-0ba5-4f4c-a34e-b9d64d9f5b6d",
   "metadata": {},
   "source": [
    "## 4.4. Volume ema delta"
   ]
  },
  {
   "cell_type": "markdown",
   "id": "3734334f-f423-4c2a-9f76-dfce49019c8e",
   "metadata": {},
   "source": [
    "📌 Описание функции **delta_ema_volume** *(df, ema_lenght=[20], block_size=5, shifts=None)*\\\n",
    "Аналогичный расчет как для **delta_ema**, но для значений **Volume**"
   ]
  },
  {
   "cell_type": "code",
   "execution_count": null,
   "id": "c238eaa1-d421-448d-8d92-698aae930d96",
   "metadata": {},
   "outputs": [],
   "source": [
    "df = delta_ema_volume(df, ema_lengths=[20], window_size=10, num_blocks=2)\n",
    "df_test = delta_ema_volume(df_test, ema_lengths=[20], window_size=10, num_blocks=2)\n",
    "df.tail(1)"
   ]
  },
  {
   "cell_type": "markdown",
   "id": "42e9cf7d-7e16-41d4-bb79-f58575ead984",
   "metadata": {},
   "source": [
    "## 4.5. Линейная регрессия"
   ]
  },
  {
   "cell_type": "markdown",
   "id": "f5687913-9b8f-4e3e-ad09-177495a0998d",
   "metadata": {},
   "source": [
    "📌 Описание функции **regression_delta_price/_volume** *(df, n=[5, 10, 20, 60])*  \\\n",
    "Построение угла наклона линейной регрессии на окне n для цены / объема"
   ]
  },
  {
   "cell_type": "code",
   "execution_count": null,
   "id": "8155cee0-7371-4933-a72d-f8a415b89353",
   "metadata": {},
   "outputs": [],
   "source": [
    "df = regression_slope_price(df, n=[5, 10])\n",
    "df_test = regression_slope_price(df_test, n=[5, 10])\n",
    "df = regression_slope_volume(df, n=[5, 10])\n",
    "df_test = regression_slope_volume(df_test, n=[5, 10])"
   ]
  },
  {
   "cell_type": "markdown",
   "id": "50d2da88-73d5-4d98-ba8a-b038bc218596",
   "metadata": {},
   "source": [
    "## 4.6. RSI"
   ]
  },
  {
   "cell_type": "markdown",
   "id": "2f603c6a-6add-4ba3-bfdc-87882042f88c",
   "metadata": {},
   "source": [
    "📌 Аналог delta_ema, но для RSI.\\\n",
    "Помимо относительного изменения в каждом блоке считает\\\n",
    "среднее значение RSI внутри блока.\n",
    "\n",
    "Параметры:\n",
    "- df — DataFrame с колонкой Close\n",
    "- rsi_lengths — список длин RSI\n",
    "- window_size — общее кол-во свечей для анализа\n",
    "- num_blocks — на сколько частей делим окно\n"
   ]
  },
  {
   "cell_type": "code",
   "execution_count": null,
   "id": "ff59f168-b0f7-4eda-8a95-00c038fd123e",
   "metadata": {},
   "outputs": [],
   "source": [
    "df = delta_rsi(df, window_size=20, num_blocks=4)\n",
    "df_test = delta_rsi(df_test, window_size=20, num_blocks=4)"
   ]
  },
  {
   "cell_type": "code",
   "execution_count": null,
   "id": "492ea6a7-8e84-4ff3-9e7a-ce6e7bbaad56",
   "metadata": {},
   "outputs": [],
   "source": [
    "df = rsi_speed(df, lengths=[21], windows=[10, 30, 60])\n",
    "df_test = rsi_speed(df_test, lengths=[21], windows=[10, 30, 60])"
   ]
  },
  {
   "cell_type": "markdown",
   "id": "45120333-b153-4252-a9e0-e01695d1acb7",
   "metadata": {},
   "source": [
    "# 5. Удаление дубликатов, Nan, inf и информация о df"
   ]
  },
  {
   "cell_type": "code",
   "execution_count": null,
   "id": "df274e49-421b-425e-8bb0-fdf3ee3d5514",
   "metadata": {},
   "outputs": [],
   "source": [
    "df = df.loc[:, ~df.columns.duplicated(keep='first')]\n",
    "df.dropna(inplace=True)\n",
    "df_test = df_test.loc[:, ~df_test.columns.duplicated(keep='first')]\n",
    "df_test.dropna(inplace=True)"
   ]
  },
  {
   "cell_type": "code",
   "execution_count": null,
   "id": "b552041e-747f-47d9-bf06-756967e1201c",
   "metadata": {
    "scrolled": true
   },
   "outputs": [],
   "source": [
    "df.shape, df.info()"
   ]
  },
  {
   "cell_type": "code",
   "execution_count": null,
   "id": "f31755b3-95e5-4fd4-a158-1959fd7bd2e7",
   "metadata": {},
   "outputs": [],
   "source": [
    "df.describe().round(3)"
   ]
  },
  {
   "cell_type": "code",
   "execution_count": null,
   "id": "c7be69ec-e0c8-4ef5-adf5-da99b3bf576e",
   "metadata": {
    "scrolled": true
   },
   "outputs": [],
   "source": [
    "pd.set_option('display.max_columns', 200)\n",
    "df.tail(3)"
   ]
  },
  {
   "cell_type": "code",
   "execution_count": null,
   "id": "1b73bb92-13c4-43c7-a455-e4a925351b5a",
   "metadata": {
    "scrolled": true
   },
   "outputs": [],
   "source": [
    "# Проверяем, есть ли бесконечности в данных\n",
    "inf_check = df.isin([np.inf, -np.inf]).any()\n",
    "print(\"Столбцы с inf:\\n\", inf_check)\n",
    "\n",
    "# Считаем количество строк с inf в любом столбце\n",
    "rows_with_inf = df.isin([np.inf, -np.inf]).any(axis=1).sum()\n",
    "print(f\"Всего строк с inf: {rows_with_inf}\")"
   ]
  },
  {
   "cell_type": "code",
   "execution_count": null,
   "id": "4b7cbe91-6093-444f-8ee0-1296f78dfb23",
   "metadata": {},
   "outputs": [],
   "source": [
    "# Удаляем строки, где есть хотя бы одно inf\n",
    "df = df[~df.isin([np.inf, -np.inf]).any(axis=1)]\n",
    "\n",
    "# Проверяем, что inf больше нет\n",
    "print(\"Остались ли inf после удаления:\", df.isin([np.inf, -np.inf]).any().any())"
   ]
  },
  {
   "cell_type": "markdown",
   "id": "f89f7cc7-938d-43b8-9aec-cab1fbf4a17e",
   "metadata": {},
   "source": [
    "# 6. Корреляция целевой переменной"
   ]
  },
  {
   "cell_type": "markdown",
   "id": "26ac6b11-7194-4d26-88fc-891059f06f01",
   "metadata": {},
   "source": [
    "## 6.1. Корреляция целевой переменной и относительного изменения EMA в зависимости от удаления признака назад во времени¶"
   ]
  },
  {
   "cell_type": "markdown",
   "id": "17b49269-7c99-46dc-b95d-14d02c22a9da",
   "metadata": {},
   "source": [
    "Значения признаков(индикаторов) показывают изменения происходящиие на различном удалении от текущей свечи.\\\n",
    "Проведем оценочное сравнение корреляции целевой переменной target и расстоянием для расчета индикаторов на примере относительного изменения EMA внутри каждого блока."
   ]
  },
  {
   "cell_type": "code",
   "execution_count": null,
   "id": "ef2b5b44-67b4-4c6c-950b-32edb2eb6943",
   "metadata": {},
   "outputs": [],
   "source": [
    "window_size = 100\n",
    "num_blocks = 20\n",
    "df = delta_ema(df, ema_lengths=[20, 100], window_size=window_size, num_blocks=num_blocks)\n",
    "\n",
    "block_size = window_size // num_blocks\n",
    "shifts = [block_size * i for i in range(1, num_blocks + 1)]  # расстояние в свечах от текущей\n",
    "\n",
    "correlations_ema20 = []\n",
    "correlations_ema100 = []\n",
    "\n",
    "for b, shift in enumerate(shifts, 1):\n",
    "    col20 = f'block{b}_ema20_rel_change'\n",
    "    col100 = f'block{b}_ema100_rel_change'\n",
    "\n",
    "    corr20 = df[[col20, 'target']].corr().iloc[0, 1]\n",
    "    corr100 = df[[col100, 'target']].corr().iloc[0, 1]\n",
    "\n",
    "    correlations_ema20.append(corr20)\n",
    "    correlations_ema100.append(corr100)\n",
    "\n",
    "plt.figure(figsize=(10, 6))\n",
    "plt.plot(shifts, correlations_ema20, marker='o', label='EMA20')\n",
    "plt.plot(shifts, correlations_ema100, marker='o', label='EMA100')\n",
    "plt.axhline(0, color='gray', linestyle='--')\n",
    "plt.gca().invert_xaxis()  # Чтобы 5 свечей (ближе) были справа\n",
    "plt.xlabel('Удаление блока от текущей свечи (в свечах)')\n",
    "plt.ylabel('Корреляция с target')\n",
    "plt.title('Корреляция target с изменением EMA по блокам')\n",
    "plt.legend()\n",
    "plt.grid(True)\n",
    "plt.show()"
   ]
  },
  {
   "cell_type": "markdown",
   "id": "639a2c50-09ea-4965-9089-f6b9cd06a056",
   "metadata": {},
   "source": [
    "## 6.2. Корреляция целевой переменной и относительного изменения EMA в зависимости от параметров целевой переменной"
   ]
  },
  {
   "cell_type": "code",
   "execution_count": null,
   "id": "cb637cbd-1734-4eb9-a231-7acf2761545b",
   "metadata": {},
   "outputs": [],
   "source": [
    "df = df.drop('target',axis=1)\n",
    "df_test = df_test.drop('target',axis=1)"
   ]
  },
  {
   "cell_type": "code",
   "execution_count": null,
   "id": "9087ad6e-8b54-4c98-b673-55bd709c63fd",
   "metadata": {},
   "outputs": [],
   "source": [
    "# Параметры для перебора\n",
    "target_candles_list = [5, 10, 20, 40]\n",
    "target_list = [0.002, 0.005, 0.01, 0.02]\n",
    "rr_threshold_list = [1.0, 1.5, 2.0, 3.0]\n",
    "\n",
    "results = []\n",
    "\n",
    "# Перебор параметров\n",
    "for tc in target_candles_list:\n",
    "    for tg in target_list:\n",
    "        for rr in rr_threshold_list:\n",
    "            df_tmp = add_target_column(df.copy(), target_candles=tc, target=tg, rr_threshold=rr)\n",
    "            corr = df_tmp[['block1_ema50_rel_change', 'target']].corr().iloc[0, 1]\n",
    "            results.append({\n",
    "                'target_candles': tc,\n",
    "                'target': tg,\n",
    "                'rr_threshold': rr,\n",
    "                'correlation': corr\n",
    "            })\n",
    "\n",
    "res_df = pd.DataFrame(results)"
   ]
  },
  {
   "cell_type": "code",
   "execution_count": null,
   "id": "b7abe084-3cab-43b8-a946-48ba483533f9",
   "metadata": {
    "jupyter": {
     "source_hidden": true
    }
   },
   "outputs": [],
   "source": [
    "def plot_correlations(res_df):\n",
    "    # Фиксируем параметры по умолчанию для каждого графика\n",
    "    base_tc = res_df['target_candles'].mode()[0]\n",
    "    base_tg = res_df['target'].mode()[0]\n",
    "    base_rr = res_df['rr_threshold'].mode()[0]\n",
    "\n",
    "    fig, axes = plt.subplots(1, 3, figsize=(18, 5))\n",
    "\n",
    "    # 1) Корреляция vs target_candles (фиксируем target и rr_threshold)\n",
    "    df_tc = res_df[(res_df['target'] == base_tg) & (res_df['rr_threshold'] == base_rr)]\n",
    "    axes[0].plot(df_tc['target_candles'], df_tc['correlation'], marker='o')\n",
    "    axes[0].set_xlabel('target_candles')\n",
    "    axes[0].set_ylabel('Correlation')\n",
    "    axes[0].set_title(f'Correlation vs target_candles\\n(target={base_tg}, rr_threshold={base_rr})')\n",
    "\n",
    "    # 2) Корреляция vs target (фиксируем target_candles и rr_threshold)\n",
    "    df_tg = res_df[(res_df['target_candles'] == base_tc) & (res_df['rr_threshold'] == base_rr)]\n",
    "    axes[1].plot(df_tg['target'], df_tg['correlation'], marker='o')\n",
    "    axes[1].set_xlabel('target')\n",
    "    axes[1].set_ylabel('Correlation')\n",
    "    axes[1].set_title(f'Correlation vs target\\n(target_candles={base_tc}, rr_threshold={base_rr})')\n",
    "\n",
    "    # 3) Корреляция vs rr_threshold (фиксируем target_candles и target)\n",
    "    df_rr = res_df[(res_df['target_candles'] == base_tc) & (res_df['target'] == base_tg)]\n",
    "    axes[2].plot(df_rr['rr_threshold'], df_rr['correlation'], marker='o')\n",
    "    axes[2].set_xlabel('rr_threshold')\n",
    "    axes[2].set_ylabel('Correlation')\n",
    "    axes[2].set_title(f'Correlation vs rr_threshold\\n(target_candles={base_tc}, target={base_tg})')\n",
    "\n",
    "    plt.tight_layout()\n",
    "    plt.show()"
   ]
  },
  {
   "cell_type": "code",
   "execution_count": null,
   "id": "c1217338-6f08-4b7b-9cb9-8c441cb208d5",
   "metadata": {},
   "outputs": [],
   "source": [
    "plot_correlations(res_df)"
   ]
  },
  {
   "cell_type": "code",
   "execution_count": null,
   "id": "0f86c3cd-0f2f-40f4-80de-5933736f0533",
   "metadata": {
    "jupyter": {
     "source_hidden": true
    }
   },
   "outputs": [],
   "source": [
    "def plot_correlations_for_targets(df, param_list, window_size=100, num_blocks=20):\n",
    "    block_size = window_size // num_blocks\n",
    "    shifts = [block_size * i for i in range(1, num_blocks + 1)]\n",
    "    \n",
    "    plt.figure(figsize=(18, 5))\n",
    "    \n",
    "    for i, params in enumerate(param_list, 1):\n",
    "        # Копируем df, добавляем таргет с нужными параметрами\n",
    "        df_tmp = df.copy()\n",
    "        df_tmp = add_target_column(df_tmp, \n",
    "                                  target_candles=params['target_candles'], \n",
    "                                  target=params['target'], \n",
    "                                  rr_threshold=params['rr_threshold'])\n",
    "        \n",
    "        # Добавляем delta_ema, если еще не добавлен (иначе можно закомментировать)\n",
    "        df_tmp = delta_ema(df_tmp, ema_lengths=[20, 100], window_size=window_size, num_blocks=num_blocks)\n",
    "        \n",
    "        correlations_ema20 = []\n",
    "        correlations_ema100 = []\n",
    "\n",
    "        for b, shift in enumerate(shifts, 1):\n",
    "            col20 = f'block{b}_ema20_rel_change'\n",
    "            col100 = f'block{b}_ema100_rel_change'\n",
    "\n",
    "            corr20 = df_tmp[[col20, 'target']].corr().iloc[0, 1]\n",
    "            corr100 = df_tmp[[col100, 'target']].corr().iloc[0, 1]\n",
    "\n",
    "            correlations_ema20.append(corr20)\n",
    "            correlations_ema100.append(corr100)\n",
    "        \n",
    "        ax = plt.subplot(1, len(param_list), i)\n",
    "        ax.plot(shifts, correlations_ema20, marker='o', label='EMA20')\n",
    "        ax.plot(shifts, correlations_ema100, marker='o', label='EMA100')\n",
    "        ax.axhline(0, color='gray', linestyle='--')\n",
    "        ax.invert_xaxis()\n",
    "        ax.set_xlabel('Удаление блока от текущей свечи (в свечах)')\n",
    "        ax.set_ylabel('Корреляция с target')\n",
    "        ax.set_title(f\"target_candles={params['target_candles']}, target={params['target']}, rr={params['rr_threshold']}\")\n",
    "        ax.grid(True)\n",
    "        ax.legend()\n",
    "    \n",
    "    plt.tight_layout()\n",
    "    plt.show()\n",
    "\n",
    "\n",
    "# Пример вызова:\n",
    "param_variants = [\n",
    "    {'target_candles': 10, 'target': 0.01, 'rr_threshold': 2.0},\n",
    "    {'target_candles': 20, 'target': 0.01, 'rr_threshold': 2.0},\n",
    "    {'target_candles': 30, 'target': 0.01, 'rr_threshold': 2.0},\n",
    "    \n",
    "    {'target_candles': 20, 'target': 0.01, 'rr_threshold': 1.0},\n",
    "    {'target_candles': 20, 'target': 0.01, 'rr_threshold': 1.0},\n",
    "    {'target_candles': 20, 'target': 0.01, 'rr_threshold': 1.0}\n",
    "]"
   ]
  },
  {
   "cell_type": "code",
   "execution_count": null,
   "id": "14fa8354-3010-4d93-91d9-934c534a48b0",
   "metadata": {},
   "outputs": [],
   "source": [
    "plot_correlations_for_targets(df, param_variants)"
   ]
  },
  {
   "cell_type": "markdown",
   "id": "a5e87e49-ef28-43d5-9e3d-da792d95999c",
   "metadata": {},
   "source": [
    "# ✂️ 7. Разбиение выборки"
   ]
  },
  {
   "cell_type": "markdown",
   "id": "cb37ae4f-55c1-4809-932d-ab8d93332733",
   "metadata": {},
   "source": [
    "## 7.1. Разбиение выборки на train и valid"
   ]
  },
  {
   "cell_type": "code",
   "execution_count": null,
   "id": "abe013b1-5db1-4e18-a615-614396cfce56",
   "metadata": {},
   "outputs": [],
   "source": [
    "#Разбиваем выборку с учетом временных рядов:\n",
    "\n",
    "X = df.drop(['target','Date','High','Low','Close','Open', 'Volume'],axis=1)\n",
    "y = df['target']\n",
    "separate = int(len(X) * 0.8)\n",
    "X_train = X.iloc[:separate]\n",
    "X_valid = X.iloc[separate:]\n",
    "y_train = y.iloc[:separate]\n",
    "y_valid = y.iloc[separate:]\n",
    "feature_columns = X.columns.tolist()\n",
    "\n",
    "print(f'размер датасета = {df.shape}')\n",
    "print(f'размер обучающей выборки Х = {X_train.shape}, y = {y_train.shape}')\n",
    "print(f'размер валидационной выборки Х = {X_valid.shape}, y = {y_valid.shape}')"
   ]
  },
  {
   "cell_type": "markdown",
   "id": "dc3d30ef-0c4b-4029-acb9-a20c99aaf842",
   "metadata": {},
   "source": [
    "Разбиение тестовой выборки **X_test**, **y-test**"
   ]
  },
  {
   "cell_type": "code",
   "execution_count": null,
   "id": "16d3c721-0d3b-44b1-9a94-8e32ee3b33d7",
   "metadata": {},
   "outputs": [],
   "source": [
    "X_test = df_test.drop(['target','Date','High','Low','Close','Open', 'Volume'],axis=1)\n",
    "y_test = df_test['target']\n",
    "\n",
    "\n",
    "print(f'размер датасета = {X_test.shape}')"
   ]
  },
  {
   "cell_type": "markdown",
   "id": "1a5980b2-d4ec-4929-b9c5-e0fc47f29934",
   "metadata": {},
   "source": [
    "## 7.2. Проверка временных диапазонов"
   ]
  },
  {
   "cell_type": "markdown",
   "id": "80d301b9-ee30-4a94-8d11-d61a6c73f206",
   "metadata": {},
   "source": [
    "Проверка временных диапазонов. Даты обучающей и тестовой выборок не должны пересекаться."
   ]
  },
  {
   "cell_type": "code",
   "execution_count": null,
   "id": "99c927f9-9161-4fbf-a0ac-aa84ce9a4c76",
   "metadata": {},
   "outputs": [],
   "source": [
    "print(f\"Диапазон дат обучающей выборки {df['Date'].agg(['min', 'max'])}\")\n",
    "print(f\"Диапазон дат отложенной (тестовой) выборки {df_test['Date'].agg(['min', 'max'])}\")"
   ]
  },
  {
   "cell_type": "markdown",
   "id": "4f2c9124-a540-4b05-8111-a489e1673fa6",
   "metadata": {},
   "source": [
    "# 📊 8. Распределение целевой переменной (target)"
   ]
  },
  {
   "cell_type": "markdown",
   "id": "83c3e68d-3671-4de0-8af2-56d1d34c90d7",
   "metadata": {},
   "source": [
    "**Цель**: определение дисбаланса классов"
   ]
  },
  {
   "cell_type": "markdown",
   "id": "3ef37e5d-d17f-484c-b521-5113c4343069",
   "metadata": {},
   "source": [
    "## 8.1. Распределение целевой переменной на всем df"
   ]
  },
  {
   "cell_type": "code",
   "execution_count": null,
   "id": "f798238b-9adb-44a9-9860-cbeb5dee16c9",
   "metadata": {},
   "outputs": [],
   "source": [
    "df['target'].value_counts(normalize=True).plot(kind='bar', title='Распределение target');"
   ]
  },
  {
   "cell_type": "markdown",
   "id": "0afbcd2a-2b5e-4720-9b98-b56ee462d88f",
   "metadata": {},
   "source": [
    "## 8.1. Распределение целевой переменной внутри выборок"
   ]
  },
  {
   "cell_type": "markdown",
   "id": "479b20c6-0ad2-4b35-92eb-e6e2b1173105",
   "metadata": {},
   "source": [
    "Функция **show_class_balance** принимает Series с целевой переменой: **y**, **y_train**, **y_valid**, **y_test** и считает баланс классов"
   ]
  },
  {
   "cell_type": "code",
   "execution_count": null,
   "id": "99f21f19-3ccf-4afb-a2ac-fff3e4c53150",
   "metadata": {
    "jupyter": {
     "source_hidden": true
    }
   },
   "outputs": [],
   "source": [
    "def show_class_balance(y, y_train, y_valid, y_test):\n",
    "    # Собираем данные в таблицу\n",
    "    balance_df = pd.DataFrame({\n",
    "        'Весь датасет': y.value_counts(normalize=True).round(3),\n",
    "        'Обучающая': y_train.value_counts(normalize=True).round(3),\n",
    "        'Валидационная': y_valid.value_counts(normalize=True).round(3),\n",
    "        'Тестовая': y_test.value_counts(normalize=True).round(3)\n",
    "    }).fillna(0)  # на случай отсутствующих классов\n",
    "    \n",
    "    # Выводим таблицу в стиле \"plain\"\n",
    "    print(\"📊 Баланс классов (доли):\")\n",
    "    print(\n",
    "        balance_df.to_markdown(\n",
    "            tablefmt=\"simple\",  # Чистый формат без лишних линий\n",
    "            stralign=\"center\",  # Выравнивание по центру\n",
    "            floatfmt=\".3f\"       # Формат чисел\n",
    "        )\n",
    "    )\n",
    "    \n",
    "    # Визуализация\n",
    "    plt.figure(figsize=(10, 5))\n",
    "    balance_df.plot(kind='bar', width=0.8, color=['#1f77b4', '#ff7f0e', '#2ca02c', '#d62728'])\n",
    "    plt.title('Распределение классов по выборкам', pad=20)\n",
    "    plt.ylim(0, 1)\n",
    "    plt.ylabel('Доля класса')\n",
    "    plt.xticks(rotation=0)\n",
    "    plt.grid(axis='y', linestyle='--', alpha=0.3)\n",
    "    plt.legend(framealpha=0.9)\n",
    "    plt.tight_layout()\n",
    "    plt.show()"
   ]
  },
  {
   "cell_type": "code",
   "execution_count": null,
   "id": "7b8155ad-713e-4fa6-ab30-89d06a4ceefa",
   "metadata": {},
   "outputs": [],
   "source": [
    "show_class_balance(y, y_train, y_valid, y_test)"
   ]
  },
  {
   "cell_type": "markdown",
   "id": "13095ebc-9b92-4222-a853-0b50bf3e1054",
   "metadata": {},
   "source": [
    "# 📉 9. Корреляционный анализ"
   ]
  },
  {
   "cell_type": "markdown",
   "id": "fb8ef75a-10d3-4398-a36e-ef1987d9c94b",
   "metadata": {},
   "source": [
    "Функция **plot_correlation_matrix** принимает на вход df и возвращает корреляционную матрицу признаков включая целевую переменную.\\\n",
    "Не учитываются абсолютные значения цен графика."
   ]
  },
  {
   "cell_type": "code",
   "execution_count": null,
   "id": "ef83f628-a9b9-480e-a12a-2c6bf06561cd",
   "metadata": {
    "jupyter": {
     "source_hidden": true
    }
   },
   "outputs": [],
   "source": [
    "def plot_correlation_matrix(df, drop_columns=['Data', 'High', 'Low', 'Close', 'Open', 'Volume']):\n",
    "    \"\"\"\n",
    "    Улучшенная версия с лучшей читаемостью для большого числа признаков.\n",
    "    \"\"\"\n",
    "    try:\n",
    "        # Удаляем ненужные колонки\n",
    "        data = df.drop(drop_columns, axis=1, errors='ignore')\n",
    "        \n",
    "        # Рассчитываем корреляционную матрицу\n",
    "        corr_matrix = data.corr()\n",
    "        num_features = len(corr_matrix)\n",
    "        \n",
    "        # Динамические настройки в зависимости от количества признаков\n",
    "        if num_features <= 15:\n",
    "            figsize = (10, 8)\n",
    "            font_scale = 1.2\n",
    "            annot = True\n",
    "            label_size = 10\n",
    "        elif num_features <= 30:\n",
    "            figsize = (16, 14)\n",
    "            font_scale = 1.0\n",
    "            annot = False\n",
    "            label_size = 9\n",
    "        else:  # Для 50+ признаков\n",
    "            figsize = (20, 18)\n",
    "            font_scale = 0.8\n",
    "            annot = False\n",
    "            label_size = 8\n",
    "            # Для очень большого числа признаков можно уменьшить плотность меток\n",
    "            plt.rcParams['xtick.major.pad'] = 0.5\n",
    "            plt.rcParams['ytick.major.pad'] = 0.5\n",
    "        \n",
    "        # Настройка стиля\n",
    "        sns.set(font_scale=font_scale)\n",
    "        plt.figure(figsize=figsize)\n",
    "        \n",
    "        # Построение тепловой карты с улучшенными настройками\n",
    "        heatmap = sns.heatmap(\n",
    "            corr_matrix,\n",
    "            cmap='coolwarm',\n",
    "            annot=annot,\n",
    "            fmt=\".2f\",\n",
    "            square=True,\n",
    "            linewidths=0.5,\n",
    "            cbar_kws={\"shrink\": 0.7},\n",
    "            mask=np.triu(np.ones_like(corr_matrix, dtype=bool)),\n",
    "            annot_kws={\"size\": 8} if annot else None\n",
    "        )\n",
    "        \n",
    "        # Настройка подписей осей\n",
    "        heatmap.set_xticklabels(\n",
    "            heatmap.get_xticklabels(),\n",
    "            rotation=45,\n",
    "            ha='right',\n",
    "            fontsize=label_size\n",
    "        )\n",
    "        heatmap.set_yticklabels(\n",
    "            heatmap.get_yticklabels(),\n",
    "            rotation=0,\n",
    "            fontsize=label_size\n",
    "        )\n",
    "        \n",
    "        plt.title(f'Корреляционная матрица ({num_features} признаков)', fontsize=14)\n",
    "        plt.tight_layout()\n",
    "        plt.show()\n",
    "        \n",
    "    except Exception as e:\n",
    "        print(f\"Ошибка при построении графика: {str(e)}\")\n",
    "\n",
    "# Пример использования:\n",
    "# plot_correlation_matrix(df)"
   ]
  },
  {
   "cell_type": "code",
   "execution_count": null,
   "id": "3cab7638-865f-4785-9980-e5b70fc6125c",
   "metadata": {},
   "outputs": [],
   "source": [
    "plot_correlation_matrix(df.drop(['Date', 'High', 'Low', 'Close', 'Open', 'Volume'],axis=1))"
   ]
  },
  {
   "cell_type": "code",
   "execution_count": null,
   "id": "247457fb-b0fb-4a07-857a-a1eb589a3a63",
   "metadata": {},
   "outputs": [],
   "source": [
    "correlations = df.drop(['Date','High','Low','Close','Open', 'Volume'], axis=1).corr()[['target']].sort_values(by='target', key=lambda x: x.abs(), ascending=False)"
   ]
  },
  {
   "cell_type": "code",
   "execution_count": null,
   "id": "40a7b128-7cb9-4ad1-a665-245b71e93e27",
   "metadata": {},
   "outputs": [],
   "source": [
    "correlations.head(10)"
   ]
  },
  {
   "cell_type": "markdown",
   "id": "bb80086d-9cbf-47e7-b639-573ca1367599",
   "metadata": {},
   "source": [
    "# 📦 10. Feature Importance (до моделей)"
   ]
  },
  {
   "cell_type": "markdown",
   "id": "02b1f19d-9ef8-46a9-a72e-dca22dc49073",
   "metadata": {},
   "source": [
    "**Цель**: понять, какие признаки наиболее важны\\\n",
    "**mutual_info_classif** вычисляет взаимную информацию между каждым признаком и целевой переменной.\\\n",
    "Оценивает нелинейные зависимости: Может выявить сложные связи, которые пропускает линейная корреляция"
   ]
  },
  {
   "cell_type": "code",
   "execution_count": null,
   "id": "154cc2e3-be43-4e30-91ce-e784050b34c5",
   "metadata": {
    "jupyter": {
     "source_hidden": true
    }
   },
   "outputs": [],
   "source": [
    "def explain_model_mutual_info(X_train, y_train, top_n=20, random_state=3):\n",
    "    \"\"\"\n",
    "    Расчёт важности признаков на основе Mutual Information.\n",
    "    \"\"\"\n",
    "    try:\n",
    "        start_time = time.time()\n",
    "        print(f\"ℹ️ Calculating Mutual Information for {X_train.shape[1]} features...\")\n",
    "\n",
    "        # 1. Расчёт MI\n",
    "        mi_scores = mutual_info_classif(X_train, y_train, random_state=random_state)\n",
    "        mi_df = pd.DataFrame({\n",
    "            'Feature': X_train.columns,\n",
    "            'MI_Score': mi_scores\n",
    "        }).sort_values('MI_Score', ascending=False)\n",
    "\n",
    "        elapsed_time = time.time() - start_time\n",
    "        print(f\"✅ MI calculation completed in {elapsed_time:.2f} seconds\")\n",
    "\n",
    "        # 2. Таблица топ-N\n",
    "        print(f\"\\n🔍 Top {top_n} Features by Mutual Information:\")\n",
    "        print(mi_df.head(top_n).to_markdown(index=False, floatfmt=\".4f\"))\n",
    "\n",
    "        # 3. Визуализация\n",
    "        plt.figure(figsize=(10, min(6, top_n * 0.3)))\n",
    "        plt.barh(mi_df['Feature'].head(top_n)[::-1], \n",
    "                 mi_df['MI_Score'].head(top_n)[::-1], \n",
    "                 color='skyblue')\n",
    "        plt.xlabel('Mutual Information Score')\n",
    "        plt.title(f'Top {top_n} Features by Mutual Information')\n",
    "        plt.tight_layout()\n",
    "        plt.show()\n",
    "\n",
    "    except Exception as e:\n",
    "        print(f\"❌ Ошибка при расчёте Mutual Information: {str(e)}\")"
   ]
  },
  {
   "cell_type": "code",
   "execution_count": null,
   "id": "a24351f4-8d1a-4418-ae59-15eae5283806",
   "metadata": {},
   "outputs": [],
   "source": [
    "explain_model_mutual_info(X_train, y_train, top_n=10)"
   ]
  },
  {
   "cell_type": "markdown",
   "id": "fb972af3-717f-4fce-bf1f-6d648f601901",
   "metadata": {},
   "source": [
    "Точечный график распределения **целевой переменной**.\\\n",
    "Визуализация парных взаимосвязей между признаками и целевой переменной"
   ]
  },
  {
   "cell_type": "code",
   "execution_count": null,
   "id": "5da9764e-f364-40df-b366-d4b18c8fa96e",
   "metadata": {},
   "outputs": [],
   "source": [
    "df_cut = df.iloc[100000:200000]\n",
    "\n",
    "# Список признаков для визуализации\n",
    "features_list = [\n",
    "    'block1_atr14_rel_change',\n",
    "    'block1_ema100_rel_change',\n",
    "    'ema100_above_price',\n",
    "    'macd_long_signal',\n",
    "    'price_slope_5',\n",
    "    'block1_ema20_rel_change'\n",
    "]\n",
    "columns_to_plot = features_list + ['target']\n",
    "subset_df = df_cut[columns_to_plot].dropna()\n",
    "sns.pairplot(subset_df, hue='target', diag_kind='kde', palette='viridis')\n",
    "plt.suptitle('Pairplot: selected features vs target', y=1.02)\n",
    "plt.show()"
   ]
  },
  {
   "cell_type": "markdown",
   "id": "a0b5c142-e701-4718-8ea8-cad9c5c44f61",
   "metadata": {},
   "source": [
    "# 🤖 11. Обучение моделей (LogReg, RandomForest)"
   ]
  },
  {
   "cell_type": "markdown",
   "id": "817ce4e0-b51f-423f-9dcc-2e73e0dc4b7e",
   "metadata": {},
   "source": [
    "## 11.1. Логистическая регрессия - base line"
   ]
  },
  {
   "cell_type": "code",
   "execution_count": null,
   "id": "eb346f4d-82f5-4d36-9c6c-a1fe33cf849f",
   "metadata": {},
   "outputs": [],
   "source": [
    "start_time = time.time()\n",
    "\n",
    "logreg = LogisticRegression(\n",
    "        class_weight='balanced',\n",
    "        random_state=3,\n",
    "        max_iter=100,  \n",
    "        n_jobs=-1,      \n",
    "        solver='lbfgs'  \n",
    "    )\n",
    "logreg.fit(X_train, y_train)\n",
    "y_pred = logreg.predict(X_valid)\n",
    "\n",
    "f1 = f1_score(y_valid, y_pred)\n",
    "precision = precision_score(y_valid, y_pred)\n",
    "recall = recall_score(y_valid, y_pred)\n",
    "\n",
    "print(f'✅ F1 score (target): {f1:.4f}')\n",
    "print(f'✅ Precision (target): {precision:.4f}')\n",
    "print(f'✅ Recall (target): {recall:.4f}')\n",
    "# Сохраняем модель\n",
    "trained_logreg = logreg    \n",
    "\n",
    "print(\"⏱ Время выполнения: {:.2f} сек\".format(time.time() - start_time))"
   ]
  },
  {
   "cell_type": "markdown",
   "id": "5924fcb7-3db9-4fa8-a846-186bfabf2964",
   "metadata": {},
   "source": [
    "### Предсказание LogReg модели на отложенной выборке"
   ]
  },
  {
   "cell_type": "code",
   "execution_count": null,
   "id": "c234a870-05df-47e4-ae92-81a02a685368",
   "metadata": {},
   "outputs": [],
   "source": [
    "# Предсказание\n",
    "y_pred = trained_logreg.predict(X_test)\n",
    "\n",
    "# Расчет метрик\n",
    "f1 = f1_score(y_test, y_pred)\n",
    "precision = precision_score(y_test, y_pred)\n",
    "recall = recall_score(y_test, y_pred)\n",
    "target_name = 'target'    \n",
    "print(f'✅ F1 score ({target_name}): {f1:.4f}')\n",
    "print(f'✅ Precision ({target_name}): {precision:.4f}')\n",
    "print(f'✅ Recall ({target_name}): {recall:.4f}')"
   ]
  },
  {
   "cell_type": "markdown",
   "id": "00d1bf03-6e9f-409d-a518-40965f40672b",
   "metadata": {},
   "source": [
    "## 11.2. Случайный лес - base line"
   ]
  },
  {
   "cell_type": "code",
   "execution_count": null,
   "id": "a1e3eed3-55e8-4fb1-abc2-193fea4d638b",
   "metadata": {},
   "outputs": [],
   "source": [
    "start_time = time.time()\n",
    "target_name = 'target'\n",
    "\n",
    "# Более оптимальные параметры\n",
    "forest_base_line = RandomForestClassifier(\n",
    "    class_weight='balanced',\n",
    "    n_estimators=100,\n",
    "    max_depth=7,\n",
    "    min_samples_leaf=1,\n",
    "    min_samples_split=6,\n",
    "    max_features=0.8,\n",
    "    max_samples=0.8,\n",
    "    random_state=3,\n",
    "    n_jobs=6\n",
    ")\n",
    "\n",
    "# Обучение с кросс-валидацией (опционально)\n",
    "forest = forest_base_line.fit(X_train, y_train)\n",
    "\n",
    "# Предсказание\n",
    "y_pred = forest_base_line.predict(X_valid)\n",
    "\n",
    "# Расчет метрик\n",
    "f1 = f1_score(y_valid, y_pred)\n",
    "precision = precision_score(y_valid, y_pred)\n",
    "recall = recall_score(y_valid, y_pred)\n",
    "    \n",
    "print(f'✅ F1 score ({target_name}): {f1:.4f}')\n",
    "print(f'✅ Precision ({target_name}): {precision:.4f}')\n",
    "print(f'✅ Recall ({target_name}): {recall:.4f}')\n",
    "\n",
    "print(\"⏱ Время выполнения: {:.2f} сек\".format(time.time() - start_time))"
   ]
  },
  {
   "cell_type": "markdown",
   "id": "0295f128-3a2c-47cd-9d63-da57ae02e219",
   "metadata": {},
   "source": [
    "### Предсказание RandomForest на отложенной выборке"
   ]
  },
  {
   "cell_type": "code",
   "execution_count": null,
   "id": "26091118-18c5-4fa2-a1b7-cd9e2811df05",
   "metadata": {},
   "outputs": [],
   "source": [
    "# Предсказание\n",
    "y_pred = forest_base_line.predict(X_test)\n",
    "\n",
    "# Расчет метрик\n",
    "f1 = f1_score(y_test, y_pred)\n",
    "precision = precision_score(y_test, y_pred)\n",
    "recall = recall_score(y_test, y_pred)\n",
    "    \n",
    "print(f'✅ F1 score ({target_name}): {f1:.4f}')\n",
    "print(f'✅ Precision ({target_name}): {precision:.4f}')\n",
    "print(f'✅ Recall ({target_name}): {recall:.4f}')"
   ]
  },
  {
   "cell_type": "code",
   "execution_count": null,
   "id": "81231b57-0af6-43aa-afe1-a620ac7980ed",
   "metadata": {
    "scrolled": true
   },
   "outputs": [],
   "source": [
    "forest_base_line.feature_names_in_"
   ]
  },
  {
   "cell_type": "markdown",
   "id": "bd1ab857-788c-4517-a6bf-4576c08dcc48",
   "metadata": {},
   "source": [
    "# 🎯 12. Метрики: Precision, Recall, F1"
   ]
  },
  {
   "cell_type": "markdown",
   "id": "0aa72633-4707-490e-b31c-307c54b895fc",
   "metadata": {},
   "source": [
    "Сравнение метрик **Random Forest** и **LogisticRegression**"
   ]
  },
  {
   "cell_type": "code",
   "execution_count": null,
   "id": "f01a1452-45d1-4f10-a06f-96fa440f419c",
   "metadata": {},
   "outputs": [],
   "source": [
    "y_proba_forest = forest_base_line.predict_proba(X_test)[:, 1]       # Предсказанная вероятность\n",
    "y_pred_forest = (y_proba_forest >= 0.5).astype(int)             # Базовый порог = 0.5\n",
    "print('Метрики для модели Random Forest')\n",
    "print(\"Precision:\", precision_score(y_test, y_pred_forest))\n",
    "print(\"Recall:\", recall_score(y_test, y_pred_forest))\n",
    "print(\"F1 Score:\", f1_score(y_test, y_pred_forest))\n",
    "print()"
   ]
  },
  {
   "cell_type": "markdown",
   "id": "04966d5d-e95d-4d1f-a187-e5ccf3e3f8db",
   "metadata": {},
   "source": [
    "Построение **precision-recall** кривой для модели с наивысшим значением **f1**.\\\n",
    "Позволяет визуально выбрать лучший порог вероятности:"
   ]
  },
  {
   "cell_type": "code",
   "execution_count": null,
   "id": "ee5b66dc-7b00-4cc1-9ebe-2d7a7e6744c4",
   "metadata": {},
   "outputs": [],
   "source": [
    "precision, recall, thresholds = precision_recall_curve(y_test, y_proba_forest)\n",
    "f1_scores = 2 * (precision * recall) / (precision + recall + 1e-6)  \n",
    "\n",
    "best_idx = np.argmax(f1_scores)\n",
    "best_threshold = thresholds[best_idx]\n",
    "\n",
    "# Визуализация\n",
    "plt.figure(figsize=(8, 6))\n",
    "plt.plot(recall, precision, label=\"PR-кривая\")\n",
    "plt.scatter(recall[best_idx], precision[best_idx], color=\"red\", label=f\"F1 max = {f1_scores[best_idx]:.2f}\")\n",
    "plt.title(\"Precision-Recall кривая\")\n",
    "plt.xlabel(\"Recall\")\n",
    "plt.ylabel(\"Precision\")\n",
    "plt.legend()\n",
    "plt.grid(True)\n",
    "plt.show()\n",
    "\n",
    "print(f\"🔎 Лучший порог = {best_threshold:.3f}, F1 = {f1_scores[best_idx]:.3f}\")"
   ]
  },
  {
   "cell_type": "markdown",
   "id": "3bd24335-26a1-4b42-bc2b-55c7de930f14",
   "metadata": {},
   "source": [
    "# ⚖️ 13. Анализ попрога вхождения для модели"
   ]
  },
  {
   "cell_type": "markdown",
   "id": "b6c782ae-5d9c-4712-aa26-549a6e2cc95f",
   "metadata": {},
   "source": [
    "Функция **evaluate_model_with_threshold** анализирует модель бинарной классификации, подбирая оптимальный порог вероятности для предсказаний.\\\n",
    "Сравнивает метрики (**F1, Precision, Recall, ROC-AUC**) на тренировочной, валидационной и тестовой выборках, визуализирует зависимость метрик от порога и возвращает итоговые результаты."
   ]
  },
  {
   "cell_type": "code",
   "execution_count": null,
   "id": "e88fd598-440a-416b-a3d6-ca608ab24d50",
   "metadata": {
    "jupyter": {
     "source_hidden": true
    }
   },
   "outputs": [],
   "source": [
    "def evaluate_model_with_threshold(model, X_train, y_train, X_valid, y_valid, X_test=None, y_test=None):\n",
    "    \"\"\"\n",
    "    Оценивает модель и возвращает результаты в формате для сохранения\n",
    "    \n",
    "    Возвращает словарь в формате:\n",
    "    {\n",
    "        'model': model,  # обученная модель\n",
    "        'metrics': {\n",
    "            'train': {метрики},\n",
    "            'valid': {метрики},\n",
    "            'test': {метрики} (если есть),\n",
    "            'optimal_threshold': float\n",
    "        },\n",
    "        'features': list,  # список фичей\n",
    "        'timestamp': str   # время оценки\n",
    "    }\n",
    "    \"\"\"\n",
    "    from sklearn.metrics import roc_auc_score\n",
    "    \n",
    "    # 1. Получаем предсказанные вероятности\n",
    "    y_train_proba = model.predict_proba(X_train)[:, 1]\n",
    "    y_valid_proba = model.predict_proba(X_valid)[:, 1]\n",
    "    \n",
    "    if X_test is not None and y_test is not None:\n",
    "        y_test_proba = model.predict_proba(X_test)[:, 1]\n",
    "    \n",
    "    # 2. Создаем диапазон порогов\n",
    "    thresholds = np.linspace(0.01, 0.99, 99)\n",
    "    \n",
    "    # 3. Функция для вычисления F1 при разных порогах\n",
    "    def find_best_threshold(y_true, y_proba, thresholds):\n",
    "        f1_scores = []\n",
    "        for t in thresholds:\n",
    "            y_pred = (y_proba >= t).astype(int)\n",
    "            f1_scores.append(f1_score(y_true, y_pred, zero_division=0))\n",
    "        best_idx = np.argmax(f1_scores)\n",
    "        return thresholds[best_idx], f1_scores\n",
    "    \n",
    "    # 4. Находим лучшие пороги для train и valid\n",
    "    train_best_threshold, train_f1_scores = find_best_threshold(y_train, y_train_proba, thresholds)\n",
    "    valid_best_threshold, valid_f1_scores = find_best_threshold(y_valid, y_valid_proba, thresholds)\n",
    "    \n",
    "    # 5. Вычисляем средний оптимальный порог\n",
    "    optimal_threshold = np.mean([train_best_threshold, valid_best_threshold])\n",
    "    \n",
    "    # 6. Создаем словари с метриками\n",
    "    train_metrics = {\n",
    "        'thresholds': thresholds,\n",
    "        'f1_scores': train_f1_scores,\n",
    "        'precision': [precision_score(y_train, (y_train_proba >= t).astype(int), zero_division=0) for t in thresholds],\n",
    "        'recall': [recall_score(y_train, (y_train_proba >= t).astype(int), zero_division=0) for t in thresholds],\n",
    "        'y_proba': y_train_proba,\n",
    "        'max_f1_threshold': train_best_threshold,\n",
    "        'roc_auc': roc_auc_score(y_train, y_train_proba)  # Добавлено ROC AUC\n",
    "    }\n",
    "    \n",
    "    valid_metrics = {\n",
    "        'thresholds': thresholds,\n",
    "        'f1_scores': valid_f1_scores,\n",
    "        'precision': [precision_score(y_valid, (y_valid_proba >= t).astype(int), zero_division=0) for t in thresholds],\n",
    "        'recall': [recall_score(y_valid, (y_valid_proba >= t).astype(int), zero_division=0) for t in thresholds],\n",
    "        'y_proba': y_valid_proba,\n",
    "        'max_f1_threshold': valid_best_threshold,\n",
    "        'roc_auc': roc_auc_score(y_valid, y_valid_proba)  # Добавлено ROC AUC\n",
    "    }\n",
    "    \n",
    "    # 7. Выводим результаты\n",
    "    print(f\"🎯 Лучший порог по F1 (Train): {train_best_threshold:.4f}\")\n",
    "    print(f\"🎯 Лучший порог по F1 (Valid): {valid_best_threshold:.4f}\")\n",
    "    print(f\"✅ Усредненный оптимальный порог: {optimal_threshold:.4f}\")\n",
    "    print(f\"\\n📊 ROC AUC Scores:\")\n",
    "    print(f\"✅ Train ROC AUC: {train_metrics['roc_auc']:.4f}\")\n",
    "    print(f\"✅ Valid ROC AUC: {valid_metrics['roc_auc']:.4f}\")\n",
    "    \n",
    "    # 8. Считаем финальные метрики с усредненным порогом\n",
    "    def calculate_final_metrics(y_true, y_proba, threshold, set_name):\n",
    "        y_pred = (y_proba >= threshold).astype(int)\n",
    "        metrics = {\n",
    "            'F1': f1_score(y_true, y_pred, zero_division=0),\n",
    "            'Precision': precision_score(y_true, y_pred, zero_division=0),\n",
    "            'Recall': recall_score(y_true, y_pred, zero_division=0),\n",
    "            'ROC_AUC': roc_auc_score(y_true, y_proba)  # Добавлено ROC AUC\n",
    "        }\n",
    "        print(f\"\\n📊 {set_name} set (Threshold = {threshold:.4f}):\")\n",
    "        print(f\"✅ F1: {metrics['F1']:.4f}\")\n",
    "        print(f\"✅ Precision: {metrics['Precision']:.4f}\")\n",
    "        print(f\"✅ Recall: {metrics['Recall']:.4f}\")\n",
    "        print(f\"✅ ROC AUC: {metrics['ROC_AUC']:.4f}\")\n",
    "        return metrics\n",
    "    \n",
    "    train_metrics['final_metrics'] = calculate_final_metrics(y_train, y_train_proba, optimal_threshold, \"Train\")\n",
    "    valid_metrics['final_metrics'] = calculate_final_metrics(y_valid, y_valid_proba, optimal_threshold, \"Valid\")\n",
    "    \n",
    "    results = {\n",
    "        'train': train_metrics,\n",
    "        'valid': valid_metrics,\n",
    "        'optimal_threshold': optimal_threshold\n",
    "    }\n",
    "    \n",
    "    if X_test is not None and y_test is not None:\n",
    "        test_metrics = {\n",
    "            'thresholds': thresholds,\n",
    "            'f1_scores': [f1_score(y_test, (y_test_proba >= t).astype(int), zero_division=0) for t in thresholds],\n",
    "            'precision': [precision_score(y_test, (y_test_proba >= t).astype(int), zero_division=0) for t in thresholds],\n",
    "            'recall': [recall_score(y_test, (y_test_proba >= t).astype(int), zero_division=0) for t in thresholds],\n",
    "            'y_proba': y_test_proba,\n",
    "            'roc_auc': roc_auc_score(y_test, y_test_proba)  # Добавлено ROC AUC\n",
    "        }\n",
    "        test_metrics['final_metrics'] = calculate_final_metrics(\n",
    "            y_test, y_test_proba, optimal_threshold, \"Test\"\n",
    "        )\n",
    "        results['test'] = test_metrics\n",
    "    \n",
    "    # 9. Визуализация (остается без изменений)\n",
    "    plt.figure(figsize=(18, 6))\n",
    "    \n",
    "    # 1. Кривые для обучающей выборки\n",
    "    plt.subplot(1, 3, 1)\n",
    "    plt.plot(train_metrics['thresholds'], train_metrics['precision'], label='Precision', color='blue')\n",
    "    plt.plot(train_metrics['thresholds'], train_metrics['recall'], label='Recall', color='green')\n",
    "    plt.plot(train_metrics['thresholds'], train_metrics['f1_scores'], label='F1', color='red')\n",
    "    plt.axvline(optimal_threshold, color='k', linestyle='-', label=f'Avg Optimal: {optimal_threshold:.3f}')\n",
    "    plt.axvline(train_best_threshold, color='b', linestyle=':', label=f'Train Max F1: {train_best_threshold:.3f}')\n",
    "    plt.title('Train Selection')\n",
    "    plt.xlabel('Threshold')\n",
    "    plt.ylabel('Score')\n",
    "    plt.legend()\n",
    "    plt.grid()\n",
    "    \n",
    "    # 2. Кривые для валидационной выборки\n",
    "    plt.subplot(1, 3, 2)\n",
    "    plt.plot(valid_metrics['thresholds'], valid_metrics['precision'], label='Precision', color='blue')\n",
    "    plt.plot(valid_metrics['thresholds'], valid_metrics['recall'], label='Recall', color='green')\n",
    "    plt.plot(valid_metrics['thresholds'], valid_metrics['f1_scores'], label='F1', color='red')\n",
    "    plt.axvline(optimal_threshold, color='k', linestyle='-', label=f'Avg Optimal: {optimal_threshold:.3f}')\n",
    "    plt.axvline(valid_best_threshold, color='orange', linestyle=':', label=f'Valid Max F1: {valid_best_threshold:.3f}')\n",
    "    plt.title('Test Set')\n",
    "    plt.xlabel('Threshold')\n",
    "    plt.ylabel('Score')\n",
    "    plt.legend()\n",
    "    plt.grid()\n",
    "    \n",
    "    # 3. Сравнение F1-кривых с новым порогом\n",
    "    plt.subplot(1, 3, 3)\n",
    "    plt.plot(train_metrics['thresholds'], train_metrics['f1_scores'], label='Train F1', color='blue')\n",
    "    plt.plot(valid_metrics['thresholds'], valid_metrics['f1_scores'], label='Valid F1', color='orange')\n",
    "    \n",
    "    # Добавлена третья линия для тестовой выборки, если она есть\n",
    "    if X_test is not None and y_test is not None:\n",
    "        plt.plot(test_metrics['thresholds'], test_metrics['f1_scores'], label='Test F1', color='green')\n",
    "    \n",
    "    plt.axvline(optimal_threshold, color='k', linestyle='-', label=f'Avg Optimal: {optimal_threshold:.3f}')\n",
    "    plt.axvline(train_best_threshold, color='b', linestyle=':', alpha=0.5)\n",
    "    plt.axvline(valid_best_threshold, color='orange', linestyle=':', alpha=0.5)\n",
    "    plt.title('F1 Comparison with Optimal Threshold')\n",
    "    plt.xlabel('Threshold')\n",
    "    plt.ylabel('F1 Score')\n",
    "    plt.legend()\n",
    "    plt.grid()\n",
    "    \n",
    "    plt.tight_layout()\n",
    "    plt.show()\n",
    "    \n",
    "    # 10. Выводим итоговые метрики в таблице (добавляем ROC AUC)\n",
    "    final_table = [\n",
    "        [\"Dataset\", \"Threshold Type\"] + list(train_metrics['final_metrics'].keys()),\n",
    "        [\"Train\", f\"Average Optimal ({optimal_threshold:.4f})\"] + list(train_metrics['final_metrics'].values()),\n",
    "        [\"Test\", f\"Average Optimal ({optimal_threshold:.4f})\"] + list(valid_metrics['final_metrics'].values())\n",
    "    ]\n",
    "    \n",
    "    if X_test is not None and y_test is not None:\n",
    "        final_table.append(\n",
    "            [\"Test\", f\"Average Optimal ({optimal_threshold:.4f})\"] + list(results['test']['final_metrics'].values())\n",
    "        )\n",
    "    \n",
    "    # print(\"\\nИтоговые метрики со средним оптимальным порогом:\")\n",
    "    # print(tabulate(final_table, headers=\"firstrow\", floatfmt=\".4f\", tablefmt=\"grid\"))\n",
    "\n",
    "     # Формируем итоговый словарь в нужном формате\n",
    "    model_package = {\n",
    "        'model': model,\n",
    "        'metrics': {\n",
    "            'train': train_metrics['final_metrics'],\n",
    "            'valid': valid_metrics['final_metrics'],\n",
    "            'optimal_threshold': optimal_threshold\n",
    "        },\n",
    "        'features': list(X_train.columns),\n",
    "        'timestamp': datetime.now().strftime(\"%Y-%m-%d %H:%M:%S\")\n",
    "    }\n",
    "    \n",
    "    if X_test is not None and y_test is not None:\n",
    "        model_package['metrics']['test'] = results['test']['final_metrics']\n",
    "    \n",
    "    return model_package"
   ]
  },
  {
   "cell_type": "code",
   "execution_count": null,
   "id": "b6264e60-e1e3-42c1-b70b-9f394c9dbdcd",
   "metadata": {},
   "outputs": [],
   "source": [
    "forest_base_line_package = evaluate_model_with_threshold(forest, X_train, y_train, X_valid, y_valid, X_test, y_test)"
   ]
  },
  {
   "cell_type": "markdown",
   "id": "20381bbc-f06a-4275-b98b-3ee1eb864db1",
   "metadata": {},
   "source": [
    "# 🧠 14. Интерпретация влияния признаков на модель "
   ]
  },
  {
   "cell_type": "markdown",
   "id": "675d6821-460e-4c8d-9664-752c8d1a79e1",
   "metadata": {},
   "source": [
    "## 14.1. SHAP (SHapley Additive exPlanations)"
   ]
  },
  {
   "cell_type": "markdown",
   "id": "c746b01a-6690-4dff-ab98-707af5d5e90b",
   "metadata": {},
   "source": [
    "**SHAP** - это метод объяснения предсказаний модели, основанный на теории игр (значения Шепли).\\\n",
    "Он показывает вклад каждого признака в конкретное предсказание, учитывая все возможные комбинации признаков."
   ]
  },
  {
   "cell_type": "code",
   "execution_count": null,
   "id": "81f9a340-e61a-4d23-9985-0517497db0d4",
   "metadata": {
    "jupyter": {
     "source_hidden": true
    }
   },
   "outputs": [],
   "source": [
    "def explain_model_shap(X_train, model, sample_size=2000, top_n=20, n_jobs = -1):\n",
    "    \"\"\"\n",
    "    Оборачивает расчет SHAP-важности и визуализации признаков\n",
    "    \n",
    "    Параметры:\n",
    "    ----------\n",
    "    X_train : pd.DataFrame\n",
    "        Датафрейм признаков\n",
    "    model : sklearn/xgboost модель\n",
    "        Обученная модель (RandomForest, LogisticRegression, XGB и др.)\n",
    "    sample_size : int\n",
    "        Размер случайной подвыборки\n",
    "    top_n : int\n",
    "        Кол-во признаков для отображения\n",
    "    \"\"\"\n",
    "    try:\n",
    "        total_start_time = time.time()\n",
    "        model_type = type(model).__name__\n",
    "        \n",
    "        print(f\"ℹ️ Model type: {model_type}\")\n",
    "        print(f\"ℹ️ Number of classes: {getattr(model, 'n_classes_', 'unknown')}\")\n",
    "        \n",
    "        # 1. Инициализация Explainer\n",
    "        print(\"🔄 Initializing SHAP explainer...\")\n",
    "        explainer_start = time.time()\n",
    "        if model_type in ['RandomForestClassifier', 'RandomForestRegressor', \n",
    "                          'XGBClassifier', 'XGBRegressor', \n",
    "                          'LGBMClassifier', 'LGBMRegressor']:\n",
    "            explainer = shap.TreeExplainer(model, feature_perturbation=\"tree_path_dependent\")\n",
    "        elif model_type in ['LogisticRegression', 'LinearRegression']:\n",
    "            explainer = shap.LinearExplainer(model, X_train)\n",
    "        else:\n",
    "            explainer = shap.Explainer(model, X_train)\n",
    "        explainer_time = time.time() - explainer_start\n",
    "        print(f\"✅ SHAP explainer initialized in {timedelta(seconds=explainer_time)}\")\n",
    "        \n",
    "        # 2. Подвыборка\n",
    "        sample_size = min(sample_size, len(X_train))\n",
    "        sample_idx = np.random.choice(X_train.index, size=sample_size, replace=False)\n",
    "        X_sample = X_train.loc[sample_idx]\n",
    "\n",
    "        print(f\"\\n🔄 Calculating SHAP values for {sample_size} samples...\")\n",
    "        shap_start = time.time()\n",
    "\n",
    "        # Параллельная обработка\n",
    "        n_jobs = n_jobs\n",
    "        n_chunks = 4 * (os.cpu_count() or 1)\n",
    "\n",
    "        def calc_chunk(chunk):\n",
    "            return explainer.shap_values(chunk, approximate=True, check_additivity=False)\n",
    "\n",
    "        chunks = np.array_split(X_sample, n_chunks)\n",
    "        results = Parallel(n_jobs=n_jobs)(delayed(calc_chunk)(chunk) for chunk in chunks)\n",
    "\n",
    "        # Объединение результатов\n",
    "        if isinstance(results[0], list):\n",
    "            shap_values = [np.concatenate([r[i] for r in results]) for i in range(len(results[0]))]\n",
    "        else:\n",
    "            shap_values = np.concatenate(results)\n",
    "\n",
    "        shap_time = time.time() - shap_start\n",
    "        print(f\"✅ SHAP values calculated in {timedelta(seconds=shap_time)}\")\n",
    "        print(f\"⏱ Average time per sample: {shap_time/sample_size:.4f} seconds\")\n",
    "\n",
    "        # 3. Обработка SHAP\n",
    "        if isinstance(shap_values, list):\n",
    "            shap_values = shap_values[1] if len(shap_values) == 2 else np.mean(shap_values, axis=0)\n",
    "        elif isinstance(shap_values, np.ndarray) and shap_values.ndim == 3:\n",
    "            shap_values = shap_values[:, :, 1]\n",
    "\n",
    "        print(f\"ℹ️ Processed SHAP values shape: {shap_values.shape}\")\n",
    "\n",
    "        # 4. Анализ важности\n",
    "        print(\"\\n🔄 Calculating feature importance...\")\n",
    "        analysis_start = time.time()\n",
    "        importance_df = pd.DataFrame({\n",
    "            'Feature': X_train.columns,\n",
    "            'SHAP_Importance': np.abs(shap_values).mean(axis=0),\n",
    "            'Direction': np.where(np.mean(shap_values, axis=0) > 0, 'Positive', 'Negative')\n",
    "        })\n",
    "        if hasattr(model, 'feature_importances_'):\n",
    "            importance_df['Model_Importance'] = model.feature_importances_\n",
    "            importance_df['Model_%'] = 100 * importance_df['Model_Importance'] / importance_df['Model_Importance'].max()\n",
    "\n",
    "        importance_df['SHAP_%'] = 100 * importance_df['SHAP_Importance'] / importance_df['SHAP_Importance'].max()\n",
    "        importance_df = importance_df.sort_values('SHAP_%', ascending=False)\n",
    "        importance_df['Rank'] = range(1, len(importance_df) + 1)\n",
    "        importance_df['Cumulative_SHAP_%'] = importance_df['SHAP_%'].cumsum()\n",
    "        analysis_time = time.time() - analysis_start\n",
    "        print(f\"✅ Feature analysis completed in {timedelta(seconds=analysis_time)}\")\n",
    "\n",
    "        # 5. Таблица\n",
    "        print(\"\\n🔍 Top Features by SHAP Importance:\")\n",
    "        display_cols = ['Rank', 'Feature', 'SHAP_%', 'Direction']\n",
    "        if 'Model_%' in importance_df.columns:\n",
    "            display_cols.append('Model_%')\n",
    "        print(importance_df.head(top_n)[display_cols].to_markdown(index=False, floatfmt=\".1f\"))\n",
    "\n",
    "        print(\"\\n📊 Key Metrics:\")\n",
    "        print(f\"• Top-5 features explain: {importance_df['Cumulative_SHAP_%'].iloc[4]:.1f}%\")\n",
    "        pos_count = (importance_df['Direction'] == 'Positive').sum()\n",
    "        neg_count = (importance_df['Direction'] == 'Negative').sum()\n",
    "        print(f\"• Positive/Negative: {pos_count}/{neg_count}\")\n",
    "\n",
    "        # 6. Простая визуализация\n",
    "        plt.figure(figsize=(10, min(6, top_n * 0.3)))\n",
    "        colors = importance_df['Direction'].head(top_n).map({'Positive': 'tomato', 'Negative': 'dodgerblue'})\n",
    "        plt.barh(importance_df['Feature'].head(top_n)[::-1], \n",
    "                 importance_df['SHAP_%'].head(top_n)[::-1],\n",
    "                 color=colors[::-1])\n",
    "        plt.title(f'Top {top_n} Features by SHAP')\n",
    "        plt.xlabel('Relative SHAP Importance (%)')\n",
    "        plt.tight_layout()\n",
    "        plt.show()\n",
    "\n",
    "        # 7. Общее время\n",
    "        total_time = time.time() - total_start_time\n",
    "        print(f\"\\n⏱ Total execution time: {timedelta(seconds=total_time)}\")\n",
    "        print(\"=\"*50)\n",
    "        print(\"Time breakdown:\")\n",
    "        print(f\"- Explainer init: {timedelta(seconds=explainer_time)}\")\n",
    "        print(f\"- SHAP values: {timedelta(seconds=shap_time)} ({shap_time/total_time*100:.1f}%)\")\n",
    "        print(f\"- Analysis: {timedelta(seconds=analysis_time)} ({analysis_time/total_time*100:.1f}%)\")\n",
    "\n",
    "        return importance_df\n",
    "\n",
    "    except Exception as e:\n",
    "        print(f\"\\n❌ Error: {str(e)}\")\n",
    "        if 'shap_values' in locals():\n",
    "            print(f\"SHAP values type: {type(shap_values)}\")\n",
    "            if hasattr(shap_values, 'shape'):\n",
    "                print(f\"SHAP values shape: {shap_values.shape}\")\n",
    "        print(f\"X_train shape: {X_train.shape if X_train is not None else 'N/A'}\")\n",
    "        if hasattr(model, 'n_features_in_'):\n",
    "            print(f\"Model features: {model.n_features_in_}\")\n",
    "        return None"
   ]
  },
  {
   "cell_type": "code",
   "execution_count": null,
   "id": "e6de2c94-c392-4133-96b0-f4c3b11dab3a",
   "metadata": {},
   "outputs": [],
   "source": [
    "# Пример использования:\n",
    "explain_model_shap(X_train, forest_base_line, sample_size=10000, top_n=20);"
   ]
  },
  {
   "cell_type": "markdown",
   "id": "1087a13d-444b-4886-be6b-d9c2219ea3b0",
   "metadata": {},
   "source": [
    "## 14.2. Permutation Importance (Перестановочная важность)"
   ]
  },
  {
   "cell_type": "markdown",
   "id": "6546a66d-e5d4-48a3-9167-028ac6bbb4d8",
   "metadata": {},
   "source": [
    "**Permutation Importance** – это метод оценки важности признаков, основанный на ухудшении качества модели при случайном перемешивании значений признака.\\\n",
    "Если после перемешивания метрика модели значительно падает, признак считается важным."
   ]
  },
  {
   "cell_type": "code",
   "execution_count": null,
   "id": "2caebac5-f1aa-4b91-b609-93c68064d6a0",
   "metadata": {
    "jupyter": {
     "source_hidden": true
    }
   },
   "outputs": [],
   "source": [
    "def explain_model_permutation(X, y, model, scoring='f1', n_repeats=5, top_n=20, random_state=3):\n",
    "    \"\"\"\n",
    "    Оценивает важность признаков с помощью Permutation Importance.\n",
    "    \n",
    "    Параметры:\n",
    "    ----------\n",
    "    X : pd.DataFrame\n",
    "        Признаки (X_train или X_valid)\n",
    "    y : pd.Series\n",
    "        Целевая переменная\n",
    "    model : обученная модель\n",
    "        RandomForest, LogisticRegression, XGBoost и т.д.\n",
    "    scoring : str\n",
    "        Метрика (например, 'f1', 'accuracy', 'roc_auc')\n",
    "    n_repeats : int\n",
    "        Количество повторов для случайности\n",
    "    top_n : int\n",
    "        Кол-во признаков для отображения\n",
    "    random_state : int\n",
    "        Случайное зерно для воспроизводимости\n",
    "    \n",
    "    Возвращает:\n",
    "    -----------\n",
    "    pd.DataFrame — таблица важности признаков\n",
    "    \"\"\"\n",
    "    try:\n",
    "        print(f\"ℹ️ Model type: {type(model).__name__}\")\n",
    "        print(f\"ℹ️ Scoring metric: {scoring}\")\n",
    "\n",
    "        start_time = time.time()\n",
    "\n",
    "        # Оптимальное количество потоков\n",
    "        n_jobs = os.cpu_count() - 1 if os.cpu_count() else 1\n",
    "\n",
    "        print(\"🔄 Calculating permutation importance...\")\n",
    "        result = permutation_importance(\n",
    "            model, X, y,\n",
    "            scoring=scoring,\n",
    "            n_repeats=n_repeats,\n",
    "            random_state=random_state,\n",
    "            n_jobs=n_jobs\n",
    "        )\n",
    "\n",
    "        elapsed = time.time() - start_time\n",
    "        print(f\"✅ Completed in {timedelta(seconds=elapsed)}\")\n",
    "\n",
    "        # Формируем датафрейм\n",
    "        importances_df = pd.DataFrame({\n",
    "            'Feature': X.columns,\n",
    "            'Mean Importance': result.importances_mean,\n",
    "            'Std': result.importances_std\n",
    "        })\n",
    "        importances_df['Significant'] = importances_df['Mean Importance'] - 2 * importances_df['Std'] > 0\n",
    "        importances_df = importances_df.sort_values(by='Mean Importance', ascending=False).reset_index(drop=True)\n",
    "        importances_df['Rank'] = importances_df.index + 1\n",
    "\n",
    "        print(\"\\n🔍 Top Features by Permutation Importance:\")\n",
    "        display_cols = ['Rank', 'Feature', 'Mean Importance', 'Std', 'Significant']\n",
    "        print(importances_df.head(top_n)[display_cols].to_markdown(index=False, floatfmt=\".3f\"))\n",
    "\n",
    "        # Простая визуализация\n",
    "        top_features = importances_df.head(top_n)\n",
    "        plt.figure(figsize=(10, min(6, top_n * 0.3)))\n",
    "        bars = plt.barh(top_features['Feature'][::-1], top_features['Mean Importance'][::-1],\n",
    "                        xerr=top_features['Std'][::-1], color='mediumseagreen')\n",
    "        plt.xlabel(\"Mean Importance\")\n",
    "        plt.title(f\"Top {top_n} Features by Permutation Importance\")\n",
    "        plt.tight_layout()\n",
    "        plt.show()\n",
    "\n",
    "        return importances_df\n",
    "\n",
    "    except Exception as e:\n",
    "        print(f\"❌ Error during permutation importance: {e}\")\n",
    "        return None"
   ]
  },
  {
   "cell_type": "code",
   "execution_count": null,
   "id": "57c374e7-5bd1-4ced-97c3-8ab504a8241c",
   "metadata": {},
   "outputs": [],
   "source": [
    "permutation_result = explain_model_permutation(X_train, y_train, forest, scoring='f1', top_n=30);"
   ]
  },
  {
   "cell_type": "markdown",
   "id": "8fc6230c-923c-438f-912f-e004b771998c",
   "metadata": {},
   "source": [
    "# 📋 15. Выбор оптимальных признаков на основании полученных данных"
   ]
  },
  {
   "cell_type": "code",
   "execution_count": null,
   "id": "73dc0d0b-29ab-4769-a266-2363d8a331f8",
   "metadata": {},
   "outputs": [],
   "source": [
    "base_features = ['block1_ema20_rel_change', \n",
    "                 'ema20_speed_10',\n",
    "                'block3_ema20_rel_change',\n",
    "                'block4_ema20_rel_change',\n",
    "                'block2_ema20_rel_change',\n",
    "                 'price_slope_5',\n",
    "                 'block1_rsi21_mean',\n",
    "                 'block1_ema50_rel_change',\n",
    "                 'block4_ema50_rel_change',\n",
    "                 'ema20_speed_30',\n",
    "                 'block2_ema50_rel_change',\n",
    "                 'price_slope_10',\n",
    "                 'block3_rsi21_mean',\n",
    "                 'block4_rsi21_mean',\n",
    "                 'block2_rsi21_mean',\n",
    "                 'block3_ema50_rel_change',\n",
    "                 'ema20_speed_60',\n",
    "                 'ema50_speed_10',\n",
    "                 'ema100_speed_10',\n",
    "                 'block1_rsi21_rel_change',\n",
    "                'Date', 'High', 'Low', 'Close', 'Open', 'Volume','target']"
   ]
  },
  {
   "cell_type": "code",
   "execution_count": null,
   "id": "722ce318-a956-45e0-bac6-70ddfa4d13be",
   "metadata": {},
   "outputs": [],
   "source": [
    "df = df[base_features]\n",
    "df_test = df_test[base_features]\n",
    "df.head(3)"
   ]
  },
  {
   "cell_type": "markdown",
   "id": "63d5267e-f301-4ae8-872f-b7e5c6da123b",
   "metadata": {},
   "source": [
    "# 16. Участки где модель дает сигнал"
   ]
  },
  {
   "cell_type": "code",
   "execution_count": null,
   "id": "8400a9b6-657d-489d-a2db-f73cf7d4f761",
   "metadata": {},
   "outputs": [],
   "source": [
    "# Преобразуем строку с датой в datetime, если еще не сделано\n",
    "df_test['Date'] = pd.to_datetime(df_test['Date'])\n",
    "\n",
    "# Укажем нужный временной интервал\n",
    "start_date = '2025-07-07 10:00:00'\n",
    "end_date = '2025-07-09 22:00:00'\n",
    "\n",
    "# Фильтруем по диапазону дат\n",
    "df_last_2000 = df_test[(df_test['Date'] >= start_date) & (df_test['Date'] <= end_date)].copy()\n",
    "\n",
    "# Выделим X_test — только фичи, которые использует модель\n",
    "features_columns = forest_base_line.feature_names_in_\n",
    "X_test_last_2000 = df_last_2000[features_columns]\n",
    "\n",
    "# Получаем вероятности класса 1\n",
    "probabilities = forest_base_line.predict_proba(X_test_last_2000)\n",
    "df_last_2000['Probability_1'] = probabilities[:, 1]"
   ]
  },
  {
   "cell_type": "code",
   "execution_count": null,
   "id": "22435e72-fa34-4914-8497-783423205b0b",
   "metadata": {
    "jupyter": {
     "source_hidden": true
    }
   },
   "outputs": [],
   "source": [
    "# Функция для обновления графика при изменении порога\n",
    "def update_plot(threshold):\n",
    "    # Создаем сигналы на основе порога\n",
    "    df_last_2000['Signal'] = (df_last_2000['Probability_1'] >= threshold).astype(int)\n",
    "    \n",
    "    # Создаем новый график\n",
    "    fig = make_subplots(rows=2, cols=1, shared_xaxes=True, \n",
    "                       vertical_spacing=0.02,\n",
    "                       row_heights=[0.7, 0.3])\n",
    "\n",
    "    # Свечной график\n",
    "    fig.add_trace(go.Candlestick(\n",
    "        x=df_last_2000['Date'],\n",
    "        open=df_last_2000['Open'],\n",
    "        high=df_last_2000['High'],\n",
    "        low=df_last_2000['Low'],\n",
    "        close=df_last_2000['Close'],\n",
    "        name='Цены'\n",
    "    ), row=1, col=1)\n",
    "\n",
    "    # Сигналы модели (где вероятность >= порогу)\n",
    "    signals = df_last_2000[df_last_2000['Signal'] == 1]\n",
    "    fig.add_trace(go.Scatter(\n",
    "        x=signals['Date'],\n",
    "        y=signals['Low'] * 0.99,  # маркеры чуть ниже минимумов\n",
    "        mode='markers',\n",
    "        marker=dict(color='green', size=10, symbol='triangle-up'),\n",
    "        name=f'Сигнал BUY (≥{threshold:.2f})'\n",
    "    ), row=1, col=1)\n",
    "\n",
    "    # Объемы торгов\n",
    "    fig.add_trace(go.Bar(\n",
    "        x=df_last_2000['Date'],\n",
    "        y=df_last_2000['Volume'],\n",
    "        name='Объем'\n",
    "    ), row=2, col=1)\n",
    "\n",
    "    # Настройки графика\n",
    "    fig.update_layout(\n",
    "        title=f'Тестовые предсказания модели (Порог: {threshold:.2f})',\n",
    "        xaxis_rangeslider_visible=False,\n",
    "        hovermode='x unified',\n",
    "        height=700\n",
    "    )\n",
    "\n",
    "    # Добавляем кнопки для навигации по времени\n",
    "    fig.update_xaxes(\n",
    "        rangebreaks=[{'bounds': ['sat', 'mon']}],  # скрываем выходные\n",
    "        rangeselector=dict(\n",
    "            buttons=list([\n",
    "                dict(count=1, label=\"1д\", step=\"day\", stepmode=\"backward\"),\n",
    "                dict(count=7, label=\"1н\", step=\"day\", stepmode=\"backward\"),\n",
    "                dict(count=1, label=\"1м\", step=\"month\", stepmode=\"backward\"),\n",
    "                dict(step=\"all\")\n",
    "            ])\n",
    "        )\n",
    "    )\n",
    "    \n",
    "    fig.show()\n"
   ]
  },
  {
   "cell_type": "code",
   "execution_count": null,
   "id": "19807cee-5586-4354-9fbf-946c3a0f10a6",
   "metadata": {},
   "outputs": [],
   "source": [
    "# Создаем слайдер с начальным значением 0.7\n",
    "threshold_slider = widgets.FloatSlider(\n",
    "    value=0.6,  # начальное значение 0.7\n",
    "    min=0.0,\n",
    "    max=1.0,\n",
    "    step=0.01,\n",
    "    description='Порог:',\n",
    "    continuous_update=False\n",
    ")\n",
    "\n",
    "# Используем interact вместо interactive\n",
    "widgets.interact(update_plot, threshold=threshold_slider)"
   ]
  },
  {
   "cell_type": "markdown",
   "id": "aaee9d84-74f4-43d6-bc06-9db4c5cd7f13",
   "metadata": {},
   "source": [
    "# 17. Бэктест торговой модели"
   ]
  },
  {
   "cell_type": "code",
   "execution_count": null,
   "id": "99bb6315-4805-4a08-a7bd-5b01ec213421",
   "metadata": {
    "jupyter": {
     "source_hidden": true
    }
   },
   "outputs": [],
   "source": [
    "def backtest_model_2(df, model, threshold=0.5, tp_pct=0.04, rr=2.0, plot=True):\n",
    "    \"\"\"\n",
    "    Пошаговый бэктест торговой модели с TP и SL.\n",
    "    После закрытия сделки следующая проверка начинается со следующей свечи.\n",
    "    Результат: метрики, таблица сделок, помесячная статистика и кривая капитала.\n",
    "    \"\"\"\n",
    "\n",
    "    # Базовые колонки\n",
    "    base_cols = ['Date', 'Open', 'High', 'Low', 'Close', 'Volume']\n",
    "    if 'target' in df.columns:\n",
    "        base_cols.append('target')\n",
    "\n",
    "    # Признаки\n",
    "    feature_cols = [c for c in df.columns if c not in base_cols]\n",
    "\n",
    "    # Для SL\n",
    "    sl_pct = tp_pct / rr\n",
    "\n",
    "    # Предсказания\n",
    "    preds = model.predict_proba(df[feature_cols])[:, 1]\n",
    "    df = df.copy()\n",
    "    df['pred'] = preds\n",
    "\n",
    "    all_trades = []\n",
    "    current_trade = None\n",
    "    i = 0\n",
    "    n = len(df)\n",
    "    balance = [0]  # кривая капитала\n",
    "\n",
    "    while i < n:\n",
    "        row = df.iloc[i]\n",
    "\n",
    "        # Если нет сделки — ищем вход\n",
    "        if current_trade is None:\n",
    "            if row['pred'] >= threshold:\n",
    "                entry_price = row['Close']\n",
    "                tp_price = entry_price * (1 + tp_pct)\n",
    "                sl_price = entry_price * (1 - sl_pct)\n",
    "\n",
    "                current_trade = {\n",
    "                    'entry_date': row['Date'],\n",
    "                    'entry_price': entry_price,\n",
    "                    'tp_price': tp_price,\n",
    "                    'sl_price': sl_price\n",
    "                }\n",
    "        else:\n",
    "            # Проверяем условия выхода\n",
    "            if row['Low'] <= current_trade['sl_price']:\n",
    "                current_trade['exit_date'] = row['Date']\n",
    "                current_trade['outcome'] = 'SL'\n",
    "                current_trade['profit_pct'] = -sl_pct\n",
    "                all_trades.append(current_trade)\n",
    "                balance.append(balance[-1] - sl_pct)\n",
    "                current_trade = None\n",
    "                i += 1  # проверка со следующей свечи\n",
    "                continue\n",
    "\n",
    "            if row['High'] >= current_trade['tp_price']:\n",
    "                current_trade['exit_date'] = row['Date']\n",
    "                current_trade['outcome'] = 'TP'\n",
    "                current_trade['profit_pct'] = tp_pct\n",
    "                all_trades.append(current_trade)\n",
    "                balance.append(balance[-1] + tp_pct)\n",
    "                current_trade = None\n",
    "                i += 1\n",
    "                continue\n",
    "\n",
    "        i += 1\n",
    "\n",
    "    # Закрываем последнюю сделку, если осталась\n",
    "    if current_trade is not None:\n",
    "        current_trade['exit_date'] = df['Date'].iloc[-1]\n",
    "        current_trade['outcome'] = 'SL'\n",
    "        current_trade['profit_pct'] = -sl_pct\n",
    "        all_trades.append(current_trade)\n",
    "        balance.append(balance[-1] - sl_pct)\n",
    "\n",
    "    # В DataFrame для анализа\n",
    "    trades_df = pd.DataFrame(all_trades)\n",
    "\n",
    "    # Метрики\n",
    "    total_profit = trades_df['profit_pct'].sum() * 100\n",
    "    tp_count = (trades_df['outcome'] == 'TP').sum()\n",
    "    sl_count = (trades_df['outcome'] == 'SL').sum()\n",
    "    max_sl_streak = (trades_df['outcome'] == 'SL').astype(int).groupby((trades_df['outcome'] != 'SL').cumsum()).sum().max()\n",
    "\n",
    "    # Разбивка по месяцам\n",
    "    trades_df['month'] = pd.to_datetime(trades_df['entry_date']).dt.to_period('M')\n",
    "    monthly_profit = trades_df.groupby('month')['profit_pct'].sum() * 100\n",
    "\n",
    "    results = {\n",
    "        'total_profit': total_profit,\n",
    "        'tp_count': tp_count,\n",
    "        'sl_count': sl_count,\n",
    "        'max_sl_streak': max_sl_streak,\n",
    "        'monthly_profit': monthly_profit,\n",
    "        'trades_df': trades_df\n",
    "    }\n",
    "\n",
    "    # Построение графиков\n",
    "    if plot:\n",
    "        fig, axes = plt.subplots(2, 1, figsize=(12, 8), gridspec_kw={'height_ratios': [3, 1]})\n",
    "\n",
    "        # Кривая капитала с датами закрытия сделок\n",
    "        trades_df = results['trades_df'].copy()\n",
    "        trades_df['cum_profit'] = trades_df['profit_pct'].cumsum() * 100\n",
    "\n",
    "        # Даты закрытия для оси X\n",
    "        exit_dates = pd.to_datetime(trades_df['exit_date'])\n",
    "\n",
    "        axes[0].plot(exit_dates, trades_df['cum_profit'], label='Equity Curve', color='blue')\n",
    "        axes[0].axhline(0, color='gray', linestyle='--', linewidth=1)\n",
    "        axes[0].set_title('Equity Curve')\n",
    "        axes[0].set_xlabel('Exit Date')\n",
    "        axes[0].set_ylabel('Cumulative Profit %')\n",
    "        axes[0].legend()\n",
    "\n",
    "        # Форматирование дат для удобочитаемости\n",
    "        axes[0].xaxis.set_major_locator(mdates.AutoDateLocator())\n",
    "        axes[0].xaxis.set_major_formatter(mdates.ConciseDateFormatter(mdates.AutoDateLocator()))\n",
    "        fig.autofmt_xdate()\n",
    "\n",
    "        # Прибыль по месяцам\n",
    "        monthly_profit = results['monthly_profit']\n",
    "        monthly_profit.plot(kind='bar', ax=axes[1], color='green')\n",
    "        axes[1].set_title('Monthly Profit')\n",
    "        axes[1].set_ylabel('Profit %')\n",
    "\n",
    "        plt.tight_layout()\n",
    "        plt.show()\n",
    "\n",
    "    return results"
   ]
  },
  {
   "cell_type": "code",
   "execution_count": null,
   "id": "67f2397f-feea-4a07-9bec-fcec2a8303cb",
   "metadata": {},
   "outputs": [],
   "source": [
    "results = backtest_model_2(df_test, forest, threshold=0.5, tp_pct=0.005, rr=1.0, plot=True)\n",
    "\n",
    "# Посмотрим результат\n",
    "print('Общая прибыль:', results['total_profit'])\n",
    "print('Количество TP:', results['tp_count'])\n",
    "print('Количество SL:', results['sl_count'])\n",
    "print(results['monthly_profit'])"
   ]
  },
  {
   "cell_type": "code",
   "execution_count": null,
   "id": "a841d5d3-978b-4baf-81ad-747a21c15d6a",
   "metadata": {},
   "outputs": [],
   "source": []
  },
  {
   "cell_type": "code",
   "execution_count": null,
   "id": "aad26b42-588f-4e04-8e66-6ab6531de2aa",
   "metadata": {},
   "outputs": [],
   "source": []
  }
 ],
 "metadata": {
  "kernelspec": {
   "display_name": "Python 3 (ipykernel)",
   "language": "python",
   "name": "python3"
  },
  "language_info": {
   "codemirror_mode": {
    "name": "ipython",
    "version": 3
   },
   "file_extension": ".py",
   "mimetype": "text/x-python",
   "name": "python",
   "nbconvert_exporter": "python",
   "pygments_lexer": "ipython3",
   "version": "3.9.23"
  }
 },
 "nbformat": 4,
 "nbformat_minor": 5
}
